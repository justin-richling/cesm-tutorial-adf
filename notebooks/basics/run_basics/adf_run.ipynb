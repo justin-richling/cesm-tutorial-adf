{
 "cells": [
  {
   "cell_type": "markdown",
   "id": "92a6a3e1-ef13-4fa3-a936-8260c5786904",
   "metadata": {},
   "source": [
    "# Running <strong>your</strong> ADF\n",
    "\n",
    "If you have a set of cases you want to run the ADF with, this section will help with a quick setup.\n",
    "\n",
    "Instead, if you would like a guided demo of how to use the ADF with sample data or if your case is not as straight forward, please browse the <a href=\"https://justin-richling.github.io/ADF-Tutorial/notebooks/basic_examples/readme.html\">GUIDED EXAMPLES</a> section.\n"
   ]
  },
  {
   "cell_type": "markdown",
   "id": "25e0ca96-0641-4f3e-9cc0-d5a7514011a9",
   "metadata": {},
   "source": [
    "After the config yaml file set up, running the ADF is fairly straight forward with two options:\n",
    "\n",
    "1) ADF via terminal\n",
    "2) ADF via Jupyter"
   ]
  },
  {
   "cell_type": "code",
   "execution_count": null,
   "id": "7fcb806c-b143-43e2-ba8b-688a6d4a0a72",
   "metadata": {},
   "outputs": [],
   "source": []
  },
  {
   "cell_type": "code",
   "execution_count": null,
   "id": "a9aadc05-97a8-4fb8-93be-15dba6777c1e",
   "metadata": {},
   "outputs": [],
   "source": []
  },
  {
   "cell_type": "markdown",
   "id": "973fe55b-ca75-4913-a397-f43e64a02400",
   "metadata": {},
   "source": [
    "##### ADF via Terminal\n",
    "\n",
    "`````{div} full-width\n",
    "If simplicity is your game, running the ADF in the terminal is the quickest and most straight forward way. All that is needed is to be in the path where you installed the ADF. There is an executable script called `run_adf_diag`. \n",
    "\n",
    "Simply run this command with the run-time config yaml file we set in the previous page:\n",
    "\n",
    "<code class=\"docutils literal notranslate\"><span class=\"pre\">&emsp;./run_adf_diag your_conifg_file.yaml</span></code>\n",
    "\n",
    "That's it!\n",
    "`````"
   ]
  },
  {
   "cell_type": "code",
   "execution_count": null,
   "id": "145e1f97-5b49-4c47-89c3-249ef419635e",
   "metadata": {},
   "outputs": [],
   "source": []
  },
  {
   "cell_type": "markdown",
   "id": "8fbd75b2-a20d-450b-aede-ed8b541d5e3c",
   "metadata": {},
   "source": [
    "##### ADF via Jupyter\n",
    "\n",
    "`````{div} full-width\n",
    "Running the ADF via Jupyter has a few more steps than through the terminal, but it has several advantages over running it via terminal.\n",
    "\n",
    "Most importantly, it is much more flexible inside a Jupyter notebook; a couple of examples:\n",
    "\n",
    "- the user can pull out specific pieces of the ADF like only time series creation, etc.\n",
    "\n",
    "- the user can also piggy back custom diagnostics in the same notebook as the ADF run.\n",
    "\n",
    "\n",
    "This last point is powerful because once the ADF has run in the notebook, the user has access to all the ojects that come out of the ADF, such as file locations, case names, climo years, etc.\n",
    "`````\n",
    "\n",
    "---"
   ]
  },
  {
   "cell_type": "markdown",
   "id": "7670780d-189e-4e75-8177-3281dfe44f96",
   "metadata": {},
   "source": [
    "##### Outputs\n",
    "\n",
    "Once the ADF finishes regardless of how it was run, you can now explore the outputs. Please skip to the <a href=\"https://justin-richling.github.io/ADF-Tutorial/notebooks/basics/run_basics/outputs.html\">Exploring <strong>your</strong> ADF outputs</a> section!"
   ]
  }
 ],
 "metadata": {
  "kernelspec": {
   "display_name": "Python 3 (ipykernel)",
   "language": "python",
   "name": "python3"
  },
  "language_info": {
   "codemirror_mode": {
    "name": "ipython",
    "version": 3
   },
   "file_extension": ".py",
   "mimetype": "text/x-python",
   "name": "python",
   "nbconvert_exporter": "python",
   "pygments_lexer": "ipython3",
   "version": "3.9.12"
  }
 },
 "nbformat": 4,
 "nbformat_minor": 5
}
