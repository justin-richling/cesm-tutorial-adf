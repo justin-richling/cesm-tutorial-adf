{
 "cells": [
  {
   "cell_type": "markdown",
   "id": "92a6a3e1-ef13-4fa3-a936-8260c5786904",
   "metadata": {},
   "source": [
    "# Setting up <strong>your</strong> ADF run - optional\n",
    "\n",
    "If you have a case or cases you want to run the ADF with, this section will help with a quick setup. This will include basic information about the configuration yaml files and how to run the ADF for your cases!\n",
    "\n",
    "Instead, if you would like a guided demo of how to use the ADF with sample data, please skip to the <a href=\"https://justin-richling.github.io/ADF-Tutorial/notebooks/basic_examples/readme.html\">GUIDED EXAMPLES</a> section.\n"
   ]
  },
  {
   "cell_type": "markdown",
   "id": "25e0ca96-0641-4f3e-9cc0-d5a7514011a9",
   "metadata": {},
   "source": []
  },
  {
   "cell_type": "markdown",
   "id": "77c65384-e289-48a0-aa14-39d5c30edaba",
   "metadata": {},
   "source": [
    "0. Make sure your ADF clone is the most up to date version\n",
    "\n",
    "* Go to where you installed the ADF, make sure you're on the main branch and run `git pull origin main`\n",
    "\n",
    "1. make a copy of the config_cam_baseline_example.yaml file, feel free to name it something that makes sense to you. The yaml files are in the root folder of where you installed the ADF.\n",
    "\n",
    "2. open that copied file and the main sections you'll want to change are:\n",
    "<p>user - use your NCAR username\n",
    "<p>diag_basic_info - this is where you'll set some main run variables, the ones I usually change are:\n",
    "<p>compare_obs - set true/false depending which run you want\n",
    "<p>cam_regrid_loc - where the regridded files for the cases in this ADF run will be saved, you can change or use the default location, just take note\n",
    "<p>cam_diag_loc - where the diagnostic plots will be saved, again, you can change or use default\n",
    "<p>diag_cam_climo - for the experiment case (test), the ones I change are:\n",
    "<p>cam_case_name - just the name of the case run\n",
    "<p>cam_hist_loc - where the h# history files live\n",
    "<p>case_nickname - anything that would be easier than the case name if you want, it will default to the case name if left blank\n",
    "<p>start/end_years - climo years desired\n",
    "<p>cam_climo_loc - where you want climo files saved\n",
    "<p>cam_ts_loc  - where you want time series files saved\n",
    "\n",
    "<p>diag_cam_baseline_climo - same exact variables as the diag_cam_climo above, just set for the control (baseline) case. If using Obs, just ignore this section</p>\n",
    "\n",
    "Then at the end of the config file are the plots and variables, set these as you like!\n",
    "\n",
    "3. To run the ADF (from the ADF root path) in a terminal just run: ./run_adf_diag your_new_yaml_file.yaml"
   ]
  }
 ],
 "metadata": {
  "kernelspec": {
   "display_name": "Python 3 (ipykernel)",
   "language": "python",
   "name": "python3"
  },
  "language_info": {
   "codemirror_mode": {
    "name": "ipython",
    "version": 3
   },
   "file_extension": ".py",
   "mimetype": "text/x-python",
   "name": "python",
   "nbconvert_exporter": "python",
   "pygments_lexer": "ipython3",
   "version": "3.9.12"
  }
 },
 "nbformat": 4,
 "nbformat_minor": 5
}
