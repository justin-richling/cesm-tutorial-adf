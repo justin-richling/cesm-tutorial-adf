{
 "cells": [
  {
   "cell_type": "markdown",
   "id": "7b19663f",
   "metadata": {},
   "source": [
    "# ADF Layout\n",
    "\n",
    "A simple look at how the ADF works"
   ]
  },
  {
   "cell_type": "markdown",
   "id": "4f6bafeb-cf73-4f7f-b6fc-c0c3ee2c90b1",
   "metadata": {},
   "source": [
    "![Running on Cheyenne Image](../../images/adf_tree_layout.png)"
   ]
  },
  {
   "cell_type": "markdown",
   "id": "6a3d7f36-2c84-4ef8-9e43-44ffd637e2e1",
   "metadata": {},
   "source": [
    "Create time series files from monthly history files (if they don’t exist or are being overwritten)\n",
    "Create climatology files from either ADF generated or pre-existing time series files (ie CMIP)\n",
    "Regrid Test case from Baseline case and vice-versa from climatology files\n",
    "Run Analysis scripts\n",
    "Run Plotting scripts\n",
    "Generate Website pages\n",
    "\n",
    "** Most parts of the ADF are optional and can be turned off for your desired need:\n",
    "           Potential Examples:\n",
    "           \n",
    "\tIf you only want regridded data, turn off plotting, analysis, website parts\n",
    "    \n",
    "\tIf you want plotting and only need a few plot images, you can turn off the website part\n",
    "    \n",
    "\tIf you only want time series files, you can turn off all other parts\n",
    "    \n",
    "\tIf you don’t care about the statistics (AMWG) tables, turn off analysis part\n",
    "    \n",
    "\tetc.\n",
    "\n",
    "NOTE: depending on how many years, plot types and variables you configure, the more time it takes\n",
    "\t* Rough average for: all default plots, 10-20 years for 30 variables is ~45 minutes\n",
    "\t      !! But could take longer !! \n",
    "\t* This is an active area of development      there are potential ways of cutting time/processes\n"
   ]
  },
  {
   "cell_type": "code",
   "execution_count": null,
   "id": "6c1f4af7-95e5-49f2-b501-c13bc39aa431",
   "metadata": {},
   "outputs": [],
   "source": []
  }
 ],
 "metadata": {
  "kernelspec": {
   "display_name": "Python 3 (ipykernel)",
   "language": "python",
   "name": "python3"
  },
  "language_info": {
   "codemirror_mode": {
    "name": "ipython",
    "version": 3
   },
   "file_extension": ".py",
   "mimetype": "text/x-python",
   "name": "python",
   "nbconvert_exporter": "python",
   "pygments_lexer": "ipython3",
   "version": "3.9.12"
  }
 },
 "nbformat": 4,
 "nbformat_minor": 5
}
