{
 "cells": [
  {
   "cell_type": "markdown",
   "id": "f406f992-92bd-4b17-9bd3-b99c5c8abaf3",
   "metadata": {},
   "source": [
    "# Welcome to the ADF!\n",
    "\n",
    "#### **<u>AMWG</u>** (Atmospheric Model Working Group) <u>**D**</u>iagnostics <u>**F**</u>ramework"
   ]
  },
  {
   "cell_type": "markdown",
   "id": "046a0e55",
   "metadata": {},
   "source": [
    "##### This package is meant to be an update/upgrade to the much used and beloved AMWG diagnostics package used by the atmospheric/chemistry CESM community."
   ]
  },
  {
   "cell_type": "code",
   "execution_count": null,
   "id": "6cc9cf85-69d9-4862-b5d8-9554d3aa0eb3",
   "metadata": {},
   "outputs": [],
   "source": []
  }
 ],
 "metadata": {
  "kernelspec": {
   "display_name": "Python 3 (ipykernel)",
   "language": "python",
   "name": "python3"
  },
  "language_info": {
   "codemirror_mode": {
    "name": "ipython",
    "version": 3
   },
   "file_extension": ".py",
   "mimetype": "text/x-python",
   "name": "python",
   "nbconvert_exporter": "python",
   "pygments_lexer": "ipython3",
   "version": "3.9.12"
  }
 },
 "nbformat": 4,
 "nbformat_minor": 5
}
