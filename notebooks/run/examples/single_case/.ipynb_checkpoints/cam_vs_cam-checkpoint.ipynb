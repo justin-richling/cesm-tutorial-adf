{
 "cells": [
  {
   "cell_type": "markdown",
   "id": "0a8d9910",
   "metadata": {},
   "source": [
    "## CAM vs CAM"
   ]
  },
  {
   "cell_type": "markdown",
   "id": "5a891562-7689-4951-ba85-48e82074c969",
   "metadata": {},
   "source": [
    "For this example we will run the ADF diagnostics for two different f-case CAM simulations for 5 years, 1995-2000:\n",
    "\n",
    "<p>The test (experiment) case is <code class=\"docutils literal notranslate\"><span class=\"pre\">f.cam6_3_106.FLTHIST_v0a.ne30.dcs_non-ogw.001</span></code></p>\n",
    "<p style=\"margin-top: -15px;\">The baseline (control) case is <code class=\"docutils literal notranslate\"><span class=\"pre\">f.cam6_3_106.FLTHIST_v0a.ne30.dcs_effgw_rdg.001</span></code></p>\n",
    "\n",
    "Recall <a href=\"https://justin-richling.github.io/ADF-Tutorial/notebooks/intro/intro.html#adf-setup\" target=\"_blank\">the steps</a> we will take are to:\n",
    "\n",
    "<s>&emsp; 0. Run CAM simulation to get history ( h0* ) file(s) \n",
    "           *or other history files</s>\n",
    "                                   \n",
    "<p>&emsp; 1. Configure yaml file(s) for the history files<br>\n",
    "\n",
    "&emsp; &emsp; <code class=\"docutils literal notranslate\"><span class=\"pre\">config_cam_baseline_example.yaml</span></code>  (necessary, must copy and change!)<br>\n",
    "&emsp; &emsp; &ensp;  Please refer back to the <a href=\"https://justin-richling.github.io/ADF-Tutorial/notebooks/intro/yaml/config_cam_baseline_example.html\" target=\"_blank\">run-time</a> section for any hints or descriptions of variables.<br>\n",
    "\n",
    "&emsp; &emsp; <code class=\"docutils literal notranslate\"><span class=\"pre\">lib/adf_variable_defaults.yaml</span></code>   (necessary, but optional to copy and change)<br>\n",
    "&emsp; &emsp; &ensp;  For this example we <strong>will not</strong> be editing the variable defaults yaml file<br>\n",
    "</p>\n",
    "\n",
    "<p>&emsp; 2. Run the ADF!</p>\n",
    "\n",
    "\n",
    "---\n"
   ]
  },
  {
   "cell_type": "raw",
   "id": "8fe0245c-adf7-460e-b289-a7e3c8287c0b",
   "metadata": {},
   "source": [
    "<div class=\"admonition warning\">\n",
    "<p>Some **content**</p>\n",
    "  <div class=\"admonition seealso\">\n",
    "  <div class=\"title\">Example</div>\n",
    "  <p>From the ADF root directory</p>\n",
    "      <p>    `cp config_cam_example.yaml config_adf_tutorial.yaml`</p>\n",
    "\n",
    "  </div>\n",
    "</div>"
   ]
  },
  {
   "cell_type": "markdown",
   "id": "6c80c484-d1d3-46cf-b123-d8c445eda553",
   "metadata": {},
   "source": [
    "#### config_cam_baseline_example.yaml\n",
    "\n",
    "::::{Warning}\n",
    "<strong>Please do not modify this file!</strong>\n",
    "             \n",
    "It is recommended to make a copy of this file, make modifications in that copy, and then run that with the ADF.\n",
    "\n",
    "::::"
   ]
  },
  {
   "cell_type": "markdown",
   "id": "5e8b56a1-b444-4957-8659-93e9a6502887",
   "metadata": {},
   "source": [
    "From the ADF root directory as set in the <a href=\"https://justin-richling.github.io/ADF-Tutorial/notebooks/install/setup.html#cloning-the-adf\" target=\"_blank\">cloning section</a> (/glade/work/&#60;user&#62;/ADF/), let's make a copy of the run-time config file:\n",
    "\n",
    "    cp config_cam_baseline_example.yaml config_cam_vs_cam.yaml\n"
   ]
  },
  {
   "cell_type": "raw",
   "id": "05c8e8bc-ba7a-4abc-9b88-83160c09530c",
   "metadata": {},
   "source": [
    "#### config_cam_example.yaml\n",
    "\n",
    "Please refer back to the ADF Reference page for more info on these variables and for other optional variables\n",
    "\n",
    "```{Warning}\n",
    "Note:  Please do not modify this file.\n",
    "             \n",
    "It is recommended to make a copy of this file, make modifications in that copy, and then run that in the ADF.\n",
    "\n",
    "`````{admonition} Example\n",
    ":class: seealso\n",
    "From the ADF root directory\n",
    "\n",
    "    cp config_cam_example.yaml config_adf_tutorial.yaml\n",
    "`````\n",
    "```\n",
    "\n"
   ]
  },
  {
   "cell_type": "raw",
   "id": "f0b14c0d-4cf5-4c8d-971a-58618b35871d",
   "metadata": {},
   "source": [
    "<div class=\"admonition warning\">\n",
    "<p>Some **content**</p>\n",
    "  <div class=\"admonition seealso\">\n",
    "  <div class=\"title\">Example</div>\n",
    "  <p>From the ADF root directory</p>\n",
    "      `cp config_cam_example.yaml config_adf_tutorial.yaml`\n",
    "\n",
    "  </div>\n",
    "</div>"
   ]
  },
  {
   "cell_type": "markdown",
   "id": "3fd9ff2e-4699-46f5-b988-5191398f9d56",
   "metadata": {},
   "source": [
    "Open the new `config_cam_vs_cam.yaml` file with your favorite editor\n",
    "\n",
    "The global variables will be set above the subsections."
   ]
  },
  {
   "cell_type": "raw",
   "id": "a9b10a62-64a5-42b5-a98e-6cb39ba20e20",
   "metadata": {},
   "source": [
    "\n",
    "#<section id=\"sidebars-within-content\">\n",
    "\n",
    "margin: 0 0 0.5em 1em;\n",
    "    /*border: 1px solid #ddb;*/\n",
    "    padding: 7px;\n",
    "    background-color: #ffe;\n",
    "    width: 40%;\n",
    "    float: right;\n",
    "    clear: right;\n",
    "    overflow-x: auto;\n",
    "    \n",
    "<aside class=\"sidebar\">\n",
    "\n",
    "\n",
    "style=\"margin: 0 0 0.5em 1em; padding: 20px; width: 60%; float: right; clear: right; overflow-x: auto;\""
   ]
  },
  {
   "cell_type": "markdown",
   "id": "dcefe6af-1a89-4dec-9288-8f6784ec7112",
   "metadata": {},
   "source": [
    "<section id=\"sidebar-content\">\n",
    "<aside style=\"margin: 0 0 0.5em 1em; padding: 7px; width: 60%; float: right; clear: right; overflow-x: auto;\">\n",
    "<div class=\"admonition note\">\n",
    "<p class=\"admonition-title\">Notezies</p>\n",
    "<p>Change only the ones listed in each subsection below and leave all the other variables in the conifg file as they are by default</p>\n",
    "</div>\n",
    "</aside>\n",
    "\n",
    "\n",
    "\n",
    "* <p style=\"margin-top: -5px;\">Global Variables</p>\n",
    "\n",
    "The following subsections have variables that will be changed for this example:\n",
    "\n",
    "* <p style=\"margin-top: -5px;\">diag_basic_info</p>\n",
    "* <p style=\"margin-top: -5px;\">diag_cam_climo</p>\n",
    "* <p style=\"margin-top: -5px;\">diag_cam_baseline_climo</p>\n",
    "\n",
    "</section>"
   ]
  },
  {
   "cell_type": "raw",
   "id": "57708456-50ad-4b52-bcaf-c1ba914d7737",
   "metadata": {},
   "source": [
    "Open the new `config_cam_vs_cam.yaml` file with your favorite editor\n",
    "\n",
    "The global variables will be set above the subsections.\n",
    "\n",
    "* <p style=\"margin-top: -5px;\">Global Variables</p>\n",
    "\n",
    "The following subsections have variables that will be changed for this example:\n",
    "\n",
    "** Change only the ones listed in each subsection below and leave all the other variables in the conifg file as they are by default **\n",
    "\n",
    "* <p style=\"margin-top: -5px;\">diag_basic_info</p>\n",
    "* <p style=\"margin-top: -5px;\">diag_cam_climo</p>\n",
    "* <p style=\"margin-top: -5px;\">diag_cam_baseline_climo</p>"
   ]
  },
  {
   "cell_type": "markdown",
   "id": "5cdb2fa5-daec-42c7-aa6e-25609827b8af",
   "metadata": {},
   "source": [
    "---"
   ]
  },
  {
   "cell_type": "markdown",
   "id": "811d8a15-07cf-4346-bcab-4b5ba190b968",
   "metadata": {},
   "source": [
    "###### Global Variables\n",
    "\n",
    "In the yaml file, let's set global variables. These variables will be set above all the subsections so that they can be easily called in anywhere in the file.\n",
    "\n",
    "Set the user name that will be help set all paths later in the yaml file\n",
    "<p style=\"margin-top: -5px;\">&ensp; <code class=\"docutils literal notranslate\"><span class=\"pre\">user</span></code>: <code class=\"docutils literal notranslate\"><span class=\"pre\" style=\"color: black\">richling (YOUR-USER-NAME)</span></code></p>\n",
    "\n",
    "Create a new variable `adf_path` for the root ADF path. This will be used to house the different directories for the time series, climo, and regridded files as well as where the plots and websites will go\n",
    "<p style=\"margin-top: -5px;\">&ensp; <code class=\"docutils literal notranslate\"><span class=\"pre\">adf_path</span></code>: <code class=\"docutils literal notranslate\"><span class=\"pre\" style=\"color: black\">/glade/scratch/${user}/ADF</span></code></p>\n",
    "\n",
    "Also create a variable `hist_path` for the path to the sample history files\n",
    "<p style=\"margin-top: -5px;\">&ensp; <code class=\"docutils literal notranslate\"><span class=\"pre\">hist_path</span></code>: <code class=\"docutils literal notranslate\"><span class=\"pre\" style=\"color: black\">/glade/scratch/richling/ADF/tutorials/data</span></code></p>\n",
    "\n",
    "<div class=\"admonition attention\">\n",
    "<p class=\"admonition-title\">Attention</p>\n",
    "<p>This is meerly a suggestion of how to configure the locations of all the files and diagnostic plots. We will stick to this convention for this tutorial, but please feel free to setup your ADF diagnsotics paths/hieracrhy in anyway that makes sense for your actual needs!</p>    \n",
    "</div>\n",
    "\n",
    "\n",
    "\n",
    "###### diag_basic_info\n",
    "This subsection defines necessary variables for the overall ADF run\n",
    "\n",
    "We can change the paths for the regridded data and plot locations\n",
    "\n",
    "<p style=\"margin-top: -5px;\">&ensp; <code class=\"docutils literal notranslate\"><span class=\"pre\">cam_regrid_loc</span></code>: <code class=\"docutils literal notranslate\"><span class=\"pre\" style=\"color: black\">${adf_path}/regrid</span></code></p>\n",
    "\n",
    "<p style=\"margin-top: -5px;\">&ensp; <code class=\"docutils literal notranslate\"><span class=\"pre\">cam_diag_plot_loc</span></code>: <code class=\"docutils literal notranslate\"><span class=\"pre\" style=\"color: black\">${adf_path}/plots</span></code></p>\n",
    "\n",
    "###### diag_cam_climo\n",
    "\n",
    "<p style=\"margin-top: -5px;\">&ensp; <code class=\"docutils literal notranslate\"><span class=\"pre\">cam_case_name</span></code>: <code class=\"docutils literal notranslate\"><span class=\"pre\" style=\"color: black\">f.cam6_3_106.FLTHIST_v0a.ne30.dcs_non-ogw.001</span></code></p>\n",
    "\n",
    "<p style=\"margin-top: -5px;\">&ensp; <code class=\"docutils literal notranslate\"><span class=\"pre\">cam_hist_loc</span></code>: <code class=\"docutils literal notranslate\"><span class=\"pre\" style=\"color: black\">${hist_path}/f.cam6_3_106.FLTHIST_v0a.ne30.dcs_effgw_rdg.001</span></code></p>\n",
    "<p style=\"margin-top: -5px;\">&ensp; <code class=\"docutils literal notranslate\"><span class=\"pre\">cam_climo_loc</span></code>: <code class=\"docutils literal notranslate\"><span class=\"pre\" style=\"color: black\">${adf_path}/climo/{diag_cam_climo.cam_case_name}</span></code></p>\n",
    "<p style=\"margin-top: -5px;\">&ensp; <code class=\"docutils literal notranslate\"><span class=\"pre\">start_year</span></code>: <code class=\"docutils literal notranslate\"><span class=\"pre\" style=\"color: black\">1995</span></code></p>\n",
    "<p style=\"margin-top: -5px;\">&ensp; <code class=\"docutils literal notranslate\"><span class=\"pre\">end_year</span></code>: <code class=\"docutils literal notranslate\"><span class=\"pre\" style=\"color: black\">2000</span></code></p>\n",
    "<p style=\"margin-top: -5px;\">&ensp; <code class=\"docutils literal notranslate\"><span class=\"pre\">cam_ts_loc</span></code>: <code class=\"docutils literal notranslate\"><span class=\"pre\" style=\"color: black\">${adf_path}/ts/{diag_cam_climo.cam_case_name}</span></code></p>\n",
    "\n",
    "###### diag_cam_baseline_climo\n",
    "\n",
    "<p style=\"margin-top: -5px;\">&ensp; <code class=\"docutils literal notranslate\"><span class=\"pre\">cam_case_name</span></code>: <code class=\"docutils literal notranslate\"><span class=\"pre\" style=\"color: black\">f.cam6_3_106.FLTHIST_v0a.ne30.dcs_effgw_rdg.001</span></code></p>\n",
    "<p style=\"margin-top: -5px;\">&ensp; <code class=\"docutils literal notranslate\"><span class=\"pre\">cam_hist_loc</span></code>: <code class=\"docutils literal notranslate\"><span class=\"pre\" style=\"color: black\">${hist_path}/f.cam6_3_106.FLTHIST_v0a.ne30.dcs_non-ogw.001</span></code></p>\n",
    "<p style=\"margin-top: -5px;\">&ensp; <code class=\"docutils literal notranslate\"><span class=\"pre\">cam_climo_loc</span></code>: <code class=\"docutils literal notranslate\"><span class=\"pre\" style=\"color: black\">${adf_path}/climo/{diag_cam_baseline_climo.cam_case_name}</span></code></p>\n",
    "<p style=\"margin-top: -5px;\">&ensp; <code class=\"docutils literal notranslate\"><span class=\"pre\">start_year</span></code>: <code class=\"docutils literal notranslate\"><span class=\"pre\" style=\"color: black\">1995</span></code></p>\n",
    "<p style=\"margin-top: -5px;\">&ensp; <code class=\"docutils literal notranslate\"><span class=\"pre\">end_year</span></code>: <code class=\"docutils literal notranslate\"><span class=\"pre\" style=\"color: black\">2000</span></code></p>\n",
    "<p style=\"margin-top: -5px;\">&ensp; <code class=\"docutils literal notranslate\"><span class=\"pre\">cam_ts_loc</span></code>: <code class=\"docutils literal notranslate\"><span class=\"pre\" style=\"color: black\">${adf_path}/ts/{diag_cam_baseline_climo.cam_case_name}</span></code></p>"
   ]
  },
  {
   "cell_type": "markdown",
   "id": "86f38c94-7285-4fdb-a8bf-b36815156357",
   "metadata": {},
   "source": [
    "---"
   ]
  },
  {
   "cell_type": "raw",
   "id": "dc971f48-c674-4443-8488-228882179f09",
   "metadata": {},
   "source": [
    "````{div} full-width\n",
    "f.cam6_3_106.FLTHIST_v0a.ne30.dcs_non-ogw.001_1995_2000_vs_f.cam6_3_106.FLTHIST_v0a.ne30.dcs_effgw_rdg.001_1995_2000/\n",
    "````"
   ]
  },
  {
   "cell_type": "markdown",
   "id": "d7002565-b6c5-4af6-b71f-8a4c86599659",
   "metadata": {},
   "source": [
    "<style>\n",
    "    #box {\n",
    "    word-wrap:normal;\n",
    "    overflow:scroll;\n",
    "}\n",
    "</style>\n",
    "\n",
    "````{div} full-width\n",
    "\n",
    "<h5>With all these variables now set, let's take a quick catalogue of the different paths:</h5>\n",
    "\n",
    "\n",
    "Regridded file location:\n",
    "<div>\n",
    "<p style=\"margin-top: -5px;\">&ensp; <code class=\"docutils literal notranslate\"><span class=\"pre\">/glade/scratch/&#60;user&#62;/ADF/regrid</span></code></p>\n",
    "\n",
    "Diagnostic plot location:\n",
    "\n",
    "<p style=\"margin-top: -5px;\">&ensp; <code class=\"docutils literal notranslate\"><span class=\"pre\">/glade/scratch/&#60;user&#62;/ADF/plots</span></code></p>\n",
    "\n",
    "<p>&emsp; &ensp;The ADF will output a new directory in the above location named:</p>\n",
    "\n",
    "<p style=\"margin-top: -20px;\"><code class=\"docutils literal notranslate\"><span class=\"pre\">&emsp; &ensp; f.cam6_3_106.FLTHIST_v0a.ne30.dcs_non-ogw.001_1995_2000_vs_f.cam6_3_106.FLTHIST_v0a.ne30.dcs_effgw_rdg.001_1995_2000/</span></code></p>\n",
    "\n",
    "Climatology file locations:\n",
    "\n",
    "<p style=\"margin-top: -5px;\">&ensp; <code class=\"docutils literal notranslate\"><span class=\"pre\">/glade/scratch/&#60;user&#62;/ADF/climo/f.cam6_3_106.FLTHIST_v0a.ne30.dcs_non-ogw.001</span></code></p>\n",
    "\n",
    "<p style=\"margin-top: -5px;\">&ensp; <code class=\"docutils literal notranslate\"><span class=\"pre\">/glade/scratch/&#60;user&#62;/ADF/climo/f.cam6_3_106.FLTHIST_v0a.ne30.dcs_effgw_rdg.001</span></code></p>\n",
    "\n",
    "Timeseries locations:\n",
    "    \n",
    "<p style=\"margin-top: -5px;\">&ensp; <code class=\"docutils literal notranslate\"><span class=\"pre\">/glade/scratch/&#60;user&#62;/ADF/ts/f.cam6_3_106.FLTHIST_v0a.ne30.dcs_non-ogw.001</span></code></p>\n",
    "\n",
    "<p style=\"margin-top: -5px;\">&ensp; <code class=\"docutils literal notranslate\"><span class=\"pre\">/glade/scratch/&#60;user&#62;/ADF/ts/f.cam6_3_106.FLTHIST_v0a.ne30.dcs_effgw_rdg.001</span></code></p>\n",
    "    \n",
    "</div>\n",
    "\n",
    "````"
   ]
  },
  {
   "cell_type": "code",
   "execution_count": null,
   "id": "b685e5f6-8d11-4fff-820f-b765c5dd99b2",
   "metadata": {},
   "outputs": [],
   "source": []
  },
  {
   "cell_type": "markdown",
   "id": "eab41ccb-d6ca-4e05-9183-be42dbacef7f",
   "metadata": {},
   "source": [
    "---"
   ]
  },
  {
   "cell_type": "raw",
   "id": "cdb82c57-acdb-437a-85be-132eec02329f",
   "metadata": {},
   "source": [
    "#### adf_variable_defaults.yaml\n",
    "\n",
    "Location for many plotting, unit, etc defualts for any/all CAM output variables\n",
    "\n"
   ]
  },
  {
   "cell_type": "raw",
   "id": "f16a932a-7dca-4609-bef5-e565eb37f860",
   "metadata": {},
   "source": [
    "#### ADF Default Set\n",
    "\n",
    "<p>If you want to use the ADF default values you need to set <a href=\"https://justin-richling.github.io/ADF-Tutorial/notebooks/configs/yaml/runtime.html#use-defaults\"><code class=\"docutils literal notranslate\"><span class=\"pre\">use_defaults</span></code></a> in your copy of the config_yaml to true\n",
    "</p>"
   ]
  },
  {
   "cell_type": "raw",
   "id": "99254ffd-6289-494e-bb9a-320fd08915cc",
   "metadata": {},
   "source": [
    "###### Custom Set\n",
    "\n",
    "<p>If you plan on using a modified file for your custom values you need to set <a href=\"https://justin-richling.github.io/ADF-Tutorial/notebooks/configs/yaml/runtime.html#use-defaults\"><code class=\"docutils literal notranslate\"><span class=\"pre\">use_defaults</span></code></a> in your copy of the config_yaml to false and set the path to the custom variable default file with <a href=\"https://justin-richling.github.io/ADF-Tutorial/notebooks/configs/yaml/runtime.html#defaults-file\"><code class=\"docutils literal notranslate\"><span class=\"pre\">defaults_file</span></code></a>\n",
    "</p>\n",
    "\n",
    "::::{Warning}\n",
    "<strong>Please do not modify this file unless you plan to push your changes back to the ADF repo!</strong>\n",
    "             \n",
    "If you would like to modify this file for your personal ADF runs then it is recommended to make a copy of this file, make modifications in that copy, and then point the ADF to it using the `defaults_file` config variable in the <a href=\"https://justin-richling.github.io/ADF-Tutorial/notebooks/configs/yaml/runtime.html#defaults-file\"><code class=\"docutils literal notranslate\"><span class=\"pre\">config_adf_tutorial.yaml</span></code> (copy of config_cam_baseline_example.yaml)</a>.\n",
    "\n",
    "\n",
    ":::{admonition} Example\n",
    ":class: seealso\n",
    "From the ADF root directory\n",
    "\n",
    "    cp lib/adf_variable_defaults.yaml lib/my_variable_defaults.yaml\n",
    "\n",
    "\n",
    "In <code class=\"docutils literal notranslate\"><span class=\"pre\">config_adf_tutorial.yaml</span></code> (copy of config_cam_baseline_example.yaml):\n",
    "\n",
    "Under the subset `diag_basic_info`:\n",
    "\n",
    "<p style=\"margin-top: -5px;\">&ensp; use_defaults: <code class=\"docutils literal notranslate\"><span class=\"pre\">false</span></code></p>\n",
    "\n",
    "<p style=\"margin-top: -5px;\">&ensp; defaults_file: <code class=\"docutils literal notranslate\"><span class=\"pre\">lib/your_variable_defaults.yaml</span></code></p>\n",
    ":::\n",
    "::::\n",
    "\n",
    "\n",
    "<p>After the new file <code class=\"docutils literal notranslate\"><span class=\"pre\">lib/your_variable_defaults.yaml</span></code> has been created, open the file with your favorite editor</p>\n",
    "\n",
    "Example of `U` \n",
    "```\n",
    "U:\n",
    "  colormap: \"Blues\"\n",
    "  contour_levels_range: [-10, 90, 5]\n",
    "  diff_colormap: \"BrBG\"\n",
    "  diff_contour_range: [-15, 15, 2]\n",
    "  scale_factor: 1\n",
    "  add_offset: 0\n",
    "  new_unit: \"ms$^{-1}$\"\n",
    "  mpl:\n",
    "    colorbar:\n",
    "      label : \"ms$^{-1}$\"\n",
    "  obs_file: \"U_ERA5_monthly_climo_197901-202112.nc\"\n",
    "  obs_name: \"ERA5\"\n",
    "  obs_var_name: \"U\"\n",
    "  vector_pair: \"V\"\n",
    "  vector_name: \"Wind\"\n",
    "  category: \"State\"\n",
    "```\n",
    "\n",
    "\n",
    "Example of custom variable `VAR` \n",
    "```\n",
    "VAR:\n",
    "  colormap: \"Blues\"\n",
    "  contour_levels_range: [-10, 90, 5]\n",
    "  diff_colormap: \"BrBG\"\n",
    "  diff_contour_range: [-15, 15, 2]\n",
    "  scale_factor: 1\n",
    "  add_offset: 0\n",
    "  new_unit: \"ms$^{-1}$\"\n",
    "  mpl:\n",
    "    colorbar:\n",
    "      label : \"ms$^{-1}$\"\n",
    "  obs_file: \"U_ERA5_monthly_climo_197901-202112.nc\"\n",
    "  obs_name: \"ERA5\"\n",
    "  obs_var_name: \"U\"\n",
    "  vector_pair: \"V\"\n",
    "  vector_name: \"Wind\"\n",
    "  category: \"State\"\n",
    "```"
   ]
  },
  {
   "cell_type": "raw",
   "id": "b02a8f82-5506-48d3-a1ae-f9c90000dd7e",
   "metadata": {},
   "source": [
    "::::{important}\n",
    ":::{note}\n",
    "This text is **standard** _Markdown_\n",
    ":::\n",
    "::::"
   ]
  },
  {
   "cell_type": "markdown",
   "id": "23682abf-fa54-4bf6-baf7-87ef5b3346cc",
   "metadata": {},
   "source": []
  },
  {
   "cell_type": "markdown",
   "id": "eb9acb93-d7cc-45df-ad9a-31ea51033e92",
   "metadata": {},
   "source": []
  },
  {
   "cell_type": "markdown",
   "id": "dd80fdf8-740b-41bc-a17c-46d14ec40521",
   "metadata": {},
   "source": []
  },
  {
   "cell_type": "markdown",
   "id": "56f081d1-533d-463b-a860-1f98f4ae2109",
   "metadata": {},
   "source": []
  },
  {
   "cell_type": "markdown",
   "id": "4ce28b8f-7dc7-4e7f-9a17-7684ca6fd551",
   "metadata": {},
   "source": [
    "### Running in the Terminal\n",
    "\n",
    "Open a Cheyenne terminal window on your machine and navigate to the root directory of the ADF\n",
    "\n",
    "    cd /glade/work/<user>/ADF/ \n",
    "    \n",
    "<p>Now we can run the ADF with our new config file `config_cam_vs_cam.yaml`<a class=\"headerlink\" href=\"#adf-run\" title=\"Permalink to this heading\">#</a></p>\n",
    "\n",
    "    time ./run_adf_diag config_cam_vs_cam.yaml\n",
    "    \n",
    "NOTE: the `time` command will give us a readout of the wall and user time for the ADF to run this configuration"
   ]
  },
  {
   "cell_type": "markdown",
   "id": "3da265fe-f095-48f0-8e4e-b9065dddf36b",
   "metadata": {},
   "source": [
    "```{Attention}\n",
    "This will take a while, why don't you stretch your legs and get a snack :)\n",
    "```"
   ]
  },
  {
   "cell_type": "raw",
   "id": "1906a875-21f7-473b-ad62-f85f5f793cf1",
   "metadata": {},
   "source": [
    "If the ADF finishes: \n",
    "\n",
    "```{admonition} Success?\n",
    "<p id=\"box\">Check output data/images:\n",
    "\n",
    "Navigate to the diagnostic plots directory: `/glade/scratch/&#60;user&#62;/ADF/plots`\n",
    "\n",
    "Then go to `f.cam6_3_106.FLTHIST_v0a.ne30.dcs_non-ogw.001_1995_2000_vs_f.cam6_3_106.FLTHIST_v0a.ne30.dcs_effgw_rdg.001_1995_2000/`\n",
    "</p>\n",
    "```\n",
    "\n",
    "Navigate to the diagnostic plots directory: `/glade/scratch/&#60;user&#62;/ADF/plots`\n",
    "\n",
    "Check to see if this directory exists: `f.cam6_3_106.FLTHIST_v0a.ne30.dcs_non-ogw.001_1995_2000_vs_f.cam6_3_106.FLTHIST_v0a.ne30.dcs_effgw_rdg.001_1995_2000/`"
   ]
  },
  {
   "cell_type": "markdown",
   "id": "c8e34af6-1f72-4e28-a46b-6bf09d849247",
   "metadata": {},
   "source": []
  },
  {
   "cell_type": "markdown",
   "id": "bf1f4a76-0c90-4900-a7da-cb1f666e394f",
   "metadata": {},
   "source": [
    "<br><br><br><h4>End single CAM vs CAM case</h4>\n",
    "\n",
    "<h6>Hope everything went well...</h6>\n",
    "\n",
    "````{div} full-width\n",
    "```{admonition} Did the ADF finish?\n",
    "<div>\n",
    "<p>Check output data/images:</p>\n",
    "\n",
    "<p style=\"margin-top: -5px;\">Navigate to the diagnostic plots directory: <code class=\"docutils literal notranslate\"><span class=\"pre\">/glade/scratch/&#60;user&#62;/ADF/plots</span></code></p>\n",
    "\n",
    "<p style=\"margin-top: -5px;\">Check to see if this directory exists: <code class=\"docutils literal notranslate\"><span class=\"pre\">f.cam6_3_106.FLTHIST_v0a.ne30.dcs_non-ogw.001_1995_2000_vs_f.cam6_3_106.FLTHIST_v0a.ne30.dcs_effgw_rdg.001_1995_2000/</span></code></p>\n",
    "</div>\n",
    "```\n",
    "````\n",
    "\n",
    "```{admonition} Did the ADF fail?\n",
    ":class: error\n",
    "Check config files<br>\n",
    "Check error/logs<br>\n",
    "Check data/paths<br>\n",
    "```\n",
    "\n",
    "If you want to explore the ADF in a Jupyter environment, you can skip to the <a href=\"https://justin-richling.github.io/ADF-Tutorial/notebooks/run/Jupyter.html\">ADF in Jupyter</a> chapter at the end of this section\n",
    "\n",
    "---"
   ]
  },
  {
   "cell_type": "markdown",
   "id": "b3a17f8b-c867-49bd-a557-8698d5331b26",
   "metadata": {},
   "source": [
    " "
   ]
  }
 ],
 "metadata": {
  "kernelspec": {
   "display_name": "NPL-3.7.9",
   "language": "python",
   "name": "npl-3.7.9"
  },
  "language_info": {
   "codemirror_mode": {
    "name": "ipython",
    "version": 3
   },
   "file_extension": ".py",
   "mimetype": "text/x-python",
   "name": "python",
   "nbconvert_exporter": "python",
   "pygments_lexer": "ipython3",
   "version": "3.7.9"
  }
 },
 "nbformat": 4,
 "nbformat_minor": 5
}
