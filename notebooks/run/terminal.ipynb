{
 "cells": [
  {
   "cell_type": "markdown",
   "id": "39f301d2-216c-43d0-b576-1fac3bb44e32",
   "metadata": {},
   "source": [
    "# ADF in the Terminal"
   ]
  },
  {
   "cell_type": "markdown",
   "id": "dce4da03-3d5a-4c7f-8ccb-91fff9ec4b31",
   "metadata": {},
   "source": [
    "This is an intro to funning the ADF in a terminal window"
   ]
  },
  {
   "cell_type": "markdown",
   "id": "3d3e45eb-abc8-4f9e-99e6-9d3fb5e3c705",
   "metadata": {},
   "source": []
  }
 ],
 "metadata": {
  "kernelspec": {
   "display_name": "NPL 2023b",
   "language": "python",
   "name": "npl-2023b"
  },
  "language_info": {
   "codemirror_mode": {
    "name": "ipython",
    "version": 3
   },
   "file_extension": ".py",
   "mimetype": "text/x-python",
   "name": "python",
   "nbconvert_exporter": "python",
   "pygments_lexer": "ipython3",
   "version": "3.10.12"
  }
 },
 "nbformat": 4,
 "nbformat_minor": 5
}
