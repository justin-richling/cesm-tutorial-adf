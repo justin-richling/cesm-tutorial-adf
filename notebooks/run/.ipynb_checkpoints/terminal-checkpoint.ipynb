{
 "cells": [
  {
   "cell_type": "markdown",
   "id": "39f301d2-216c-43d0-b576-1fac3bb44e32",
   "metadata": {},
   "source": [
    "# ADF in the Terminal"
   ]
  }
 ],
 "metadata": {
  "kernelspec": {
   "display_name": "NPL 2023b",
   "language": "python",
   "name": "npl-2023b"
  },
  "language_info": {
   "codemirror_mode": {
    "name": "ipython",
    "version": 3
   },
   "file_extension": ".py",
   "mimetype": "text/x-python",
   "name": "python",
   "nbconvert_exporter": "python",
   "pygments_lexer": "ipython3",
   "version": "3.10.12"
  }
 },
 "nbformat": 4,
 "nbformat_minor": 5
}
