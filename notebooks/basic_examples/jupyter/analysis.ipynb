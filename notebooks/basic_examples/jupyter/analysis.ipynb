{
 "cells": [
  {
   "cell_type": "markdown",
   "id": "d88a8f2e-7cc7-4664-88b8-aaf7d1a0a555",
   "metadata": {
    "tags": []
   },
   "source": [
    "# ADF in Jupyter\n",
    "\n",
    "Let's take a look at how to run the ADF in Jupyter notebooks\n",
    "\n",
    "This can be done through JupyterHub or locally as a Jupyter Notebook"
   ]
  },
  {
   "cell_type": "markdown",
   "id": "3f398e2d-e281-4f18-a24b-0b23109da5b6",
   "metadata": {},
   "source": [
    "<html>\n",
    "   <body>\n",
    "      <h3> Using the <em> download attribute of a tag </em> to create file download button using JavaScript. </h3>\n",
    "      <p> Click the below button to download this Jupyter Notebook</p>\n",
    "      <a href = \"notebooks/basic_examples/run/jupyter.ipynb\"\n",
    "      Download = \"test_image\">\n",
    "         <button type = \"button\"> Download </button>\n",
    "      </a>\n",
    "   </body>\n",
    "</html>"
   ]
  },
  {
   "cell_type": "code",
   "execution_count": 1,
   "id": "98d13334-1c5f-4faf-9027-0069b8d7582c",
   "metadata": {},
   "outputs": [],
   "source": [
    "%matplotlib inline\n",
    "\n",
    "import os.path\n",
    "from pathlib import Path\n",
    "import sys"
   ]
  },
  {
   "cell_type": "code",
   "execution_count": 2,
   "id": "90403315-d11e-4f22-9158-481b4cf7ae14",
   "metadata": {},
   "outputs": [],
   "source": [
    "# Determine ADF directory path\n",
    "# If it is in your cwd, set adf_path = local_path, \n",
    "# otherwise set adf_path appropriately\n",
    "\n",
    "local_path = os.path.abspath('')"
   ]
  },
  {
   "cell_type": "code",
   "execution_count": 9,
   "id": "8e0b805b-c12e-4e8a-a80c-16ea535994ab",
   "metadata": {},
   "outputs": [
    {
     "name": "stdout",
     "output_type": "stream",
     "text": [
      "current working directory = /glade/work/richling/ADF/adf-demo/notebooks/basic_examples/run\n",
      "ADF path                  = /glade/work/richling/ADF/ADF/\n"
     ]
    }
   ],
   "source": [
    "#adf_path = \"/glade/work/{user}/ADF\" # <-- uncomment and use your username\n",
    "adf_path = \"/glade/work/richling/ADF/ADF/\" # <-- then comment out\n",
    "\n",
    "print(f\"current working directory = {local_path}\")\n",
    "print(f\"ADF path                  = {adf_path}\")"
   ]
  },
  {
   "cell_type": "code",
   "execution_count": 10,
   "id": "aca1da90-a5ea-45f4-bb59-f81f256249b5",
   "metadata": {},
   "outputs": [
    {
     "name": "stdout",
     "output_type": "stream",
     "text": [
      "The lib scripts live here, right? /glade/work/richling/ADF/ADF/lib\n",
      "The plotting scripts live here, right? /glade/work/richling/ADF/ADF/scripts/plotting\n"
     ]
    }
   ],
   "source": [
    "#set path to ADF lib\n",
    "lib_path = os.path.join(adf_path,\"lib\")\n",
    "print(f\"The lib scripts live here, right? {lib_path}\")\n",
    "\n",
    "#set path to ADF plotting scripts directory\n",
    "plotting_scripts_path = os.path.join(adf_path,\"scripts\",\"plotting\")\n",
    "print(f\"The plotting scripts live here, right? {plotting_scripts_path}\")\n",
    "\n",
    "#Add paths to python path:\n",
    "sys.path.append(lib_path)\n",
    "sys.path.append(plotting_scripts_path)"
   ]
  },
  {
   "cell_type": "code",
   "execution_count": 11,
   "id": "68ecdbc8-8d1d-48c8-83e6-1f16b334068b",
   "metadata": {},
   "outputs": [],
   "source": [
    "#import ADF diagnostics object\n",
    "from adf_diag import AdfDiag\n",
    "\n",
    "# If this fails, check your paths output in the cells above,\n",
    "# and that you are running the NPL (conda) Kernel\n",
    "# You can see all the paths being examined by un-commenting the following:\n",
    "#sys.path"
   ]
  },
  {
   "cell_type": "markdown",
   "id": "85b66af4-694d-4ee5-be1f-99d2671d0377",
   "metadata": {},
   "source": [
    "### Single CAM vs CAM case\n",
    "---"
   ]
  },
  {
   "cell_type": "code",
   "execution_count": 17,
   "id": "6ca43a0e-b22e-42c0-ba66-72e92699c84a",
   "metadata": {},
   "outputs": [],
   "source": [
    "# Set path for config YAML file\n",
    "#config_path = \"/path/to/your/yaml/file/\"\n",
    "config_path = \"/glade/work/richling/ADF/adf-demo/config_files/\"\n",
    "\n",
    "# Set name of config YAML file:\n",
    "config_fil_str = \"config_model_vs_model.yaml\"\n",
    "\n",
    "# Make full path to config file\n",
    "config_file=os.path.join(config_path,config_fil_str)"
   ]
  },
  {
   "cell_type": "code",
   "execution_count": 18,
   "id": "a7296af2-e7d2-44f4-83ec-87da1831c7ea",
   "metadata": {},
   "outputs": [
    {
     "data": {
      "text/plain": [
       "<adf_diag.AdfDiag at 0x7f47d984d730>"
      ]
     },
     "execution_count": 18,
     "metadata": {},
     "output_type": "execute_result"
    }
   ],
   "source": [
    "#Initialize ADF object with config file\n",
    "adf = AdfDiag(config_file)\n",
    "adf"
   ]
  },
  {
   "cell_type": "code",
   "execution_count": 19,
   "id": "6d3df372-35bd-4c76-a615-5a7f647cd4c7",
   "metadata": {},
   "outputs": [
    {
     "name": "stdout",
     "output_type": "stream",
     "text": [
      "['f.cam6_3_106.FLTHIST_v0a.ne30.dcs_effgw_rdg.001']\n",
      "f.cam6_3_106.FLTHIST_v0a.ne30.dcs_non-ogw.001\n"
     ]
    }
   ],
   "source": [
    "# Grab the case names\n",
    "case_names = adf.get_cam_info(\"cam_case_name\",required=True)\n",
    "print(case_names)\n",
    "case_names = adf.get_baseline_info(\"cam_case_name\",required=True)\n",
    "print(case_names)"
   ]
  },
  {
   "cell_type": "code",
   "execution_count": 20,
   "id": "ed276435-a163-4650-a51a-328f017e0b81",
   "metadata": {},
   "outputs": [
    {
     "data": {
      "text/plain": [
       "{'syears': [1995],\n",
       " 'eyears': [2012],\n",
       " 'syear_baseline': 1995,\n",
       " 'eyear_baseline': 2012}"
      ]
     },
     "execution_count": 20,
     "metadata": {},
     "output_type": "execute_result"
    }
   ],
   "source": [
    "adf.climo_yrs"
   ]
  },
  {
   "cell_type": "code",
   "execution_count": 21,
   "id": "f82f98c0-142a-43da-8a48-c1766b39cadf",
   "metadata": {},
   "outputs": [
    {
     "data": {
      "text/plain": [
       "['FLNT',\n",
       " 'FSNT',\n",
       " 'LWCF',\n",
       " 'PBLH',\n",
       " 'PS',\n",
       " 'PSL',\n",
       " 'Q',\n",
       " 'RELHUM',\n",
       " 'SST',\n",
       " 'SWCF',\n",
       " 'T',\n",
       " 'TS',\n",
       " 'U',\n",
       " 'OCNFRAC']"
      ]
     },
     "execution_count": 21,
     "metadata": {},
     "output_type": "execute_result"
    }
   ],
   "source": [
    "var_list = adf.diag_var_list\n",
    "list(var_list)"
   ]
  },
  {
   "cell_type": "markdown",
   "id": "d3539201-f040-4016-9044-499c7e6cfd08",
   "metadata": {},
   "source": [
    "#### First part of ADF is to create time series files\n",
    "    \n",
    "    * if they don't already exist or input files are in time series format already\n",
    "    \n",
    "##### This is under the hood when the ADF is run via terminal"
   ]
  },
  {
   "cell_type": "code",
   "execution_count": 22,
   "id": "f8487cbc-f732-493d-ba25-05e1c70f4128",
   "metadata": {},
   "outputs": [
    {
     "name": "stdout",
     "output_type": "stream",
     "text": [
      "\n",
      "  Generating CAM time series files...\n",
      "\t Processing time series for case 'f.cam6_3_106.FLTHIST_v0a.ne30.dcs_effgw_rdg.001' :\n",
      "\t - time series for FLNT\n",
      "\t - time series for FSNT\n",
      "\t - time series for LWCF\n",
      "\t - time series for PBLH\n",
      "\t - time series for PS\n",
      "\t - time series for PSL\n",
      "\t - time series for Q\n",
      "Adding PS to file\n",
      "\t - time series for RELHUM\n",
      "Adding PS to file\n",
      "\t - time series for SST\n",
      "\t - time series for SWCF\n",
      "\t - time series for T\n",
      "Adding PS to file\n",
      "\t - time series for TS\n",
      "\t - time series for U\n",
      "Adding PS to file\n",
      "\t - time series for OCNFRAC\n"
     ]
    },
    {
     "ename": "KeyboardInterrupt",
     "evalue": "",
     "output_type": "error",
     "traceback": [
      "\u001b[0;31m---------------------------------------------------------------------------\u001b[0m",
      "\u001b[0;31mKeyboardInterrupt\u001b[0m                         Traceback (most recent call last)",
      "File \u001b[0;32m<timed eval>:2\u001b[0m\n",
      "File \u001b[0;32m/glade/work/richling/ADF/ADF/lib/adf_diag.py:594\u001b[0m, in \u001b[0;36mAdfDiag.create_time_series\u001b[0;34m(self, baseline)\u001b[0m\n\u001b[1;32m    590\u001b[0m     \u001b[38;5;66;03m#End variable loop\u001b[39;00m\n\u001b[1;32m    591\u001b[0m \n\u001b[1;32m    592\u001b[0m     \u001b[38;5;66;03m#Now run the \"ncrcat\" subprocesses in parallel:\u001b[39;00m\n\u001b[1;32m    593\u001b[0m     \u001b[38;5;28;01mwith\u001b[39;00m mp\u001b[38;5;241m.\u001b[39mPool(processes\u001b[38;5;241m=\u001b[39m\u001b[38;5;28mself\u001b[39m\u001b[38;5;241m.\u001b[39mnum_procs) \u001b[38;5;28;01mas\u001b[39;00m mpool:\n\u001b[0;32m--> 594\u001b[0m         _ \u001b[38;5;241m=\u001b[39m \u001b[43mmpool\u001b[49m\u001b[38;5;241;43m.\u001b[39;49m\u001b[43mmap\u001b[49m\u001b[43m(\u001b[49m\u001b[43mcall_ncrcat\u001b[49m\u001b[43m,\u001b[49m\u001b[43m \u001b[49m\u001b[43mlist_of_commands\u001b[49m\u001b[43m)\u001b[49m\n\u001b[1;32m    595\u001b[0m     \u001b[38;5;66;03m#End with\u001b[39;00m\n\u001b[1;32m    596\u001b[0m \n\u001b[1;32m    597\u001b[0m \u001b[38;5;66;03m#End cases loop\u001b[39;00m\n\u001b[1;32m    598\u001b[0m \n\u001b[1;32m    599\u001b[0m \u001b[38;5;66;03m#Notify user that script has ended:\u001b[39;00m\n\u001b[1;32m    600\u001b[0m \u001b[38;5;28mprint\u001b[39m(\u001b[38;5;124m\"\u001b[39m\u001b[38;5;124m  ...CAM time series file generation has finished successfully.\u001b[39m\u001b[38;5;124m\"\u001b[39m)\n",
      "File \u001b[0;32m/glade/u/apps/opt/conda/envs/npl-2023a/lib/python3.9/multiprocessing/pool.py:364\u001b[0m, in \u001b[0;36mPool.map\u001b[0;34m(self, func, iterable, chunksize)\u001b[0m\n\u001b[1;32m    359\u001b[0m \u001b[38;5;28;01mdef\u001b[39;00m \u001b[38;5;21mmap\u001b[39m(\u001b[38;5;28mself\u001b[39m, func, iterable, chunksize\u001b[38;5;241m=\u001b[39m\u001b[38;5;28;01mNone\u001b[39;00m):\n\u001b[1;32m    360\u001b[0m \u001b[38;5;250m    \u001b[39m\u001b[38;5;124;03m'''\u001b[39;00m\n\u001b[1;32m    361\u001b[0m \u001b[38;5;124;03m    Apply `func` to each element in `iterable`, collecting the results\u001b[39;00m\n\u001b[1;32m    362\u001b[0m \u001b[38;5;124;03m    in a list that is returned.\u001b[39;00m\n\u001b[1;32m    363\u001b[0m \u001b[38;5;124;03m    '''\u001b[39;00m\n\u001b[0;32m--> 364\u001b[0m     \u001b[38;5;28;01mreturn\u001b[39;00m \u001b[38;5;28;43mself\u001b[39;49m\u001b[38;5;241;43m.\u001b[39;49m\u001b[43m_map_async\u001b[49m\u001b[43m(\u001b[49m\u001b[43mfunc\u001b[49m\u001b[43m,\u001b[49m\u001b[43m \u001b[49m\u001b[43miterable\u001b[49m\u001b[43m,\u001b[49m\u001b[43m \u001b[49m\u001b[43mmapstar\u001b[49m\u001b[43m,\u001b[49m\u001b[43m \u001b[49m\u001b[43mchunksize\u001b[49m\u001b[43m)\u001b[49m\u001b[38;5;241;43m.\u001b[39;49m\u001b[43mget\u001b[49m\u001b[43m(\u001b[49m\u001b[43m)\u001b[49m\n",
      "File \u001b[0;32m/glade/u/apps/opt/conda/envs/npl-2023a/lib/python3.9/multiprocessing/pool.py:765\u001b[0m, in \u001b[0;36mApplyResult.get\u001b[0;34m(self, timeout)\u001b[0m\n\u001b[1;32m    764\u001b[0m \u001b[38;5;28;01mdef\u001b[39;00m \u001b[38;5;21mget\u001b[39m(\u001b[38;5;28mself\u001b[39m, timeout\u001b[38;5;241m=\u001b[39m\u001b[38;5;28;01mNone\u001b[39;00m):\n\u001b[0;32m--> 765\u001b[0m     \u001b[38;5;28;43mself\u001b[39;49m\u001b[38;5;241;43m.\u001b[39;49m\u001b[43mwait\u001b[49m\u001b[43m(\u001b[49m\u001b[43mtimeout\u001b[49m\u001b[43m)\u001b[49m\n\u001b[1;32m    766\u001b[0m     \u001b[38;5;28;01mif\u001b[39;00m \u001b[38;5;129;01mnot\u001b[39;00m \u001b[38;5;28mself\u001b[39m\u001b[38;5;241m.\u001b[39mready():\n\u001b[1;32m    767\u001b[0m         \u001b[38;5;28;01mraise\u001b[39;00m \u001b[38;5;167;01mTimeoutError\u001b[39;00m\n",
      "File \u001b[0;32m/glade/u/apps/opt/conda/envs/npl-2023a/lib/python3.9/multiprocessing/pool.py:762\u001b[0m, in \u001b[0;36mApplyResult.wait\u001b[0;34m(self, timeout)\u001b[0m\n\u001b[1;32m    761\u001b[0m \u001b[38;5;28;01mdef\u001b[39;00m \u001b[38;5;21mwait\u001b[39m(\u001b[38;5;28mself\u001b[39m, timeout\u001b[38;5;241m=\u001b[39m\u001b[38;5;28;01mNone\u001b[39;00m):\n\u001b[0;32m--> 762\u001b[0m     \u001b[38;5;28;43mself\u001b[39;49m\u001b[38;5;241;43m.\u001b[39;49m\u001b[43m_event\u001b[49m\u001b[38;5;241;43m.\u001b[39;49m\u001b[43mwait\u001b[49m\u001b[43m(\u001b[49m\u001b[43mtimeout\u001b[49m\u001b[43m)\u001b[49m\n",
      "File \u001b[0;32m/glade/u/apps/opt/conda/envs/npl-2023a/lib/python3.9/threading.py:581\u001b[0m, in \u001b[0;36mEvent.wait\u001b[0;34m(self, timeout)\u001b[0m\n\u001b[1;32m    579\u001b[0m signaled \u001b[38;5;241m=\u001b[39m \u001b[38;5;28mself\u001b[39m\u001b[38;5;241m.\u001b[39m_flag\n\u001b[1;32m    580\u001b[0m \u001b[38;5;28;01mif\u001b[39;00m \u001b[38;5;129;01mnot\u001b[39;00m signaled:\n\u001b[0;32m--> 581\u001b[0m     signaled \u001b[38;5;241m=\u001b[39m \u001b[38;5;28;43mself\u001b[39;49m\u001b[38;5;241;43m.\u001b[39;49m\u001b[43m_cond\u001b[49m\u001b[38;5;241;43m.\u001b[39;49m\u001b[43mwait\u001b[49m\u001b[43m(\u001b[49m\u001b[43mtimeout\u001b[49m\u001b[43m)\u001b[49m\n\u001b[1;32m    582\u001b[0m \u001b[38;5;28;01mreturn\u001b[39;00m signaled\n",
      "File \u001b[0;32m/glade/u/apps/opt/conda/envs/npl-2023a/lib/python3.9/threading.py:312\u001b[0m, in \u001b[0;36mCondition.wait\u001b[0;34m(self, timeout)\u001b[0m\n\u001b[1;32m    310\u001b[0m \u001b[38;5;28;01mtry\u001b[39;00m:    \u001b[38;5;66;03m# restore state no matter what (e.g., KeyboardInterrupt)\u001b[39;00m\n\u001b[1;32m    311\u001b[0m     \u001b[38;5;28;01mif\u001b[39;00m timeout \u001b[38;5;129;01mis\u001b[39;00m \u001b[38;5;28;01mNone\u001b[39;00m:\n\u001b[0;32m--> 312\u001b[0m         \u001b[43mwaiter\u001b[49m\u001b[38;5;241;43m.\u001b[39;49m\u001b[43macquire\u001b[49m\u001b[43m(\u001b[49m\u001b[43m)\u001b[49m\n\u001b[1;32m    313\u001b[0m         gotit \u001b[38;5;241m=\u001b[39m \u001b[38;5;28;01mTrue\u001b[39;00m\n\u001b[1;32m    314\u001b[0m     \u001b[38;5;28;01melse\u001b[39;00m:\n",
      "\u001b[0;31mKeyboardInterrupt\u001b[0m: "
     ]
    }
   ],
   "source": [
    "%%time\n",
    "#Create model time series.\n",
    "adf.create_time_series()"
   ]
  },
  {
   "cell_type": "code",
   "execution_count": null,
   "id": "5b025519-e933-4363-af2a-23114d5c53b0",
   "metadata": {},
   "outputs": [],
   "source": [
    "%%time\n",
    "#Create model baseline time series (if needed):\n",
    "\n",
    "# Since we are doing model vs model\n",
    "if not adf.compare_obs:\n",
    "    adf.create_time_series(baseline=True)"
   ]
  },
  {
   "cell_type": "code",
   "execution_count": null,
   "id": "a10a0f27-f9dc-42e4-88bb-b3640baa3745",
   "metadata": {},
   "outputs": [],
   "source": []
  },
  {
   "cell_type": "code",
   "execution_count": null,
   "id": "d8773a29-e6ba-4ea0-b712-67e4bcf4ed8d",
   "metadata": {},
   "outputs": [],
   "source": []
  },
  {
   "cell_type": "code",
   "execution_count": null,
   "id": "9c21f1c0-1723-4d36-a299-9e1dcaa36e89",
   "metadata": {},
   "outputs": [],
   "source": [
    "%%time\n",
    "#Create model climatology (climo) files.\n",
    "adf.create_climo()"
   ]
  },
  {
   "cell_type": "code",
   "execution_count": null,
   "id": "b4a55188-8377-495d-bffc-cdfebdb731e7",
   "metadata": {},
   "outputs": [],
   "source": []
  },
  {
   "cell_type": "code",
   "execution_count": null,
   "id": "662f040d-f195-400f-89b4-aafaa5c87d41",
   "metadata": {},
   "outputs": [],
   "source": []
  },
  {
   "cell_type": "code",
   "execution_count": null,
   "id": "3a87dd4f-0909-498a-9eb8-c4800d01e947",
   "metadata": {},
   "outputs": [],
   "source": []
  },
  {
   "cell_type": "code",
   "execution_count": null,
   "id": "4fa5d738-7043-4ad5-82fc-6be6154d7f56",
   "metadata": {},
   "outputs": [],
   "source": [
    "%%time\n",
    "#Regrid model climatology files to match either observations or CAM baseline climatologies.\n",
    "#This call uses the \"regridding_scripts\" specified in the config file:\n",
    "adf.regrid_climo()"
   ]
  },
  {
   "cell_type": "code",
   "execution_count": null,
   "id": "524c946d-6b1d-4347-8aba-22d201b3c187",
   "metadata": {},
   "outputs": [],
   "source": []
  },
  {
   "cell_type": "code",
   "execution_count": null,
   "id": "4ca45000-aa04-4dc5-bd20-96135cd42358",
   "metadata": {},
   "outputs": [],
   "source": []
  },
  {
   "cell_type": "code",
   "execution_count": null,
   "id": "baaa8805-d377-4551-bf2e-fac9687cf155",
   "metadata": {},
   "outputs": [],
   "source": [
    "#Perform analyses on the simulation(s).\n",
    "#This call uses the \"analysis_scripts\" specified in the\n",
    "#config file:\n",
    "adf.perform_analyses()"
   ]
  },
  {
   "cell_type": "code",
   "execution_count": null,
   "id": "2b109991-e612-4d3a-81db-445c001aecf9",
   "metadata": {},
   "outputs": [],
   "source": []
  },
  {
   "cell_type": "code",
   "execution_count": null,
   "id": "b474d499-3716-479a-8df4-507bc78ef0a0",
   "metadata": {},
   "outputs": [],
   "source": []
  },
  {
   "cell_type": "code",
   "execution_count": null,
   "id": "6fef39a8-f509-45ed-be75-01c7422305ff",
   "metadata": {},
   "outputs": [],
   "source": []
  },
  {
   "cell_type": "code",
   "execution_count": null,
   "id": "9fed51e2-33d8-492c-ab46-38901f3d6919",
   "metadata": {},
   "outputs": [],
   "source": [
    "#Create plots.\n",
    "#This call uses the \"plotting_scripts\" specified\n",
    "#in the config file:\n",
    "adf.create_plots()"
   ]
  },
  {
   "cell_type": "code",
   "execution_count": null,
   "id": "4c4045ee-a6bd-49a7-bae9-eaa697ae5ad4",
   "metadata": {},
   "outputs": [],
   "source": []
  },
  {
   "cell_type": "code",
   "execution_count": null,
   "id": "cf99da4f-3413-4d62-83f1-898171c8d53e",
   "metadata": {},
   "outputs": [],
   "source": []
  },
  {
   "cell_type": "code",
   "execution_count": null,
   "id": "e7f383c2-7d20-4e1e-929a-bb5e49def2ee",
   "metadata": {},
   "outputs": [],
   "source": [
    "#Create website if requested in the config file\n",
    "if adf.create_html:\n",
    "    adf.create_website()"
   ]
  },
  {
   "cell_type": "code",
   "execution_count": null,
   "id": "59b5df13-91fa-4174-9349-1dfc61f884be",
   "metadata": {},
   "outputs": [],
   "source": []
  },
  {
   "cell_type": "code",
   "execution_count": null,
   "id": "8fde6a35-2ac4-4467-b0c6-644ff7136f7a",
   "metadata": {},
   "outputs": [],
   "source": []
  },
  {
   "cell_type": "code",
   "execution_count": null,
   "id": "e714ae04-fdc4-4a30-a239-9facfbfb889b",
   "metadata": {},
   "outputs": [],
   "source": []
  }
 ],
 "metadata": {
  "kernelspec": {
   "display_name": "NPL 2023a",
   "language": "python",
   "name": "npl-2023a"
  },
  "language_info": {
   "codemirror_mode": {
    "name": "ipython",
    "version": 3
   },
   "file_extension": ".py",
   "mimetype": "text/x-python",
   "name": "python",
   "nbconvert_exporter": "python",
   "pygments_lexer": "ipython3",
   "version": "3.9.16"
  }
 },
 "nbformat": 4,
 "nbformat_minor": 5
}
