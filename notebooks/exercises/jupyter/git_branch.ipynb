{
 "cells": [
  {
   "cell_type": "markdown",
   "id": "ccba2d97-addb-4f1f-93b0-cad36e42e34c",
   "metadata": {},
   "source": [
    "# Choosing Different Git Branch\n",
    "\n",
    "If you plan on working with the ADF in Jupyter in. adevelopmental capacity, sometimes it is necessary to work in different branches. This can be problematic or a hassle but can be done for JupyterHub with a couple extra steps:\n",
    "\n",
    "1) Locally, navigate to where your ADF main/development branches exist\n",
    "2) "
   ]
  },
  {
   "cell_type": "code",
   "execution_count": 4,
   "id": "f4856694-b46f-480e-a6b7-77a5607c3f78",
   "metadata": {},
   "outputs": [
    {
     "name": "stdout",
     "output_type": "stream",
     "text": [
      "ADF path                  = /glade/work/richling/ADF/ADF/\n"
     ]
    }
   ],
   "source": [
    "#adf_path = \"/glade/work/{user}/ADF\" # <-- uncomment and use your username\n",
    "adf_path = \"/glade/work/richling/ADF/ADF/\" # <-- then comment out\n",
    "\n",
    "#print(f\"current working directory = {local_path}\")\n",
    "print(f\"ADF path                  = {adf_path}\")"
   ]
  },
  {
   "cell_type": "code",
   "execution_count": 5,
   "id": "f849e7e5-6621-4c70-bb3a-b1c6b09e9b12",
   "metadata": {},
   "outputs": [],
   "source": [
    "import os"
   ]
  },
  {
   "cell_type": "code",
   "execution_count": 6,
   "id": "443215c7-4fbd-4aa4-bebb-cdb856072171",
   "metadata": {},
   "outputs": [],
   "source": [
    "os.chdir(adf_path)"
   ]
  },
  {
   "cell_type": "code",
   "execution_count": 7,
   "id": "6c8c2562-1283-49ae-95ce-037b3f9eb677",
   "metadata": {},
   "outputs": [
    {
     "data": {
      "text/plain": [
       "'/glade/work/richling/ADF/ADF'"
      ]
     },
     "execution_count": 7,
     "metadata": {},
     "output_type": "execute_result"
    }
   ],
   "source": [
    "pwd"
   ]
  },
  {
   "cell_type": "code",
   "execution_count": 8,
   "id": "7c4c8d76-09ea-4716-b3aa-bc6897878e7c",
   "metadata": {},
   "outputs": [
    {
     "name": "stdout",
     "output_type": "stream",
     "text": [
      "* \u001b[32mmain\u001b[m\n",
      "  plot-title\u001b[m\n",
      "  plot-title-fix\u001b[m\n",
      "  tem-diagnostics\u001b[m\n"
     ]
    }
   ],
   "source": [
    "!git branch"
   ]
  },
  {
   "cell_type": "code",
   "execution_count": 9,
   "id": "7a5daf37-13b6-4c4c-a7a4-468efa0da6e6",
   "metadata": {},
   "outputs": [
    {
     "name": "stdout",
     "output_type": "stream",
     "text": [
      "Updating files: 100% (7/7), done.\n",
      "M\tjupyter_sample.ipynb\n",
      "Switched to branch 'tem-diagnostics'\n"
     ]
    }
   ],
   "source": [
    "!git checkout tem-diagnostics"
   ]
  },
  {
   "cell_type": "code",
   "execution_count": 10,
   "id": "55b4c76b-166e-445c-943c-3cdb79b3b821",
   "metadata": {},
   "outputs": [
    {
     "name": "stdout",
     "output_type": "stream",
     "text": [
      "  main\u001b[m\n",
      "  plot-title\u001b[m\n",
      "  plot-title-fix\u001b[m\n",
      "* \u001b[32mtem-diagnostics\u001b[m\n"
     ]
    }
   ],
   "source": [
    "!git branch"
   ]
  },
  {
   "cell_type": "code",
   "execution_count": null,
   "id": "9ab25ed8-ee5c-4ea2-a286-757301428779",
   "metadata": {},
   "outputs": [],
   "source": []
  }
 ],
 "metadata": {
  "kernelspec": {
   "display_name": "Python 3 (ipykernel)",
   "language": "python",
   "name": "python3"
  },
  "language_info": {
   "codemirror_mode": {
    "name": "ipython",
    "version": 3
   },
   "file_extension": ".py",
   "mimetype": "text/x-python",
   "name": "python",
   "nbconvert_exporter": "python",
   "pygments_lexer": "ipython3",
   "version": "3.9.12"
  }
 },
 "nbformat": 4,
 "nbformat_minor": 5
}
