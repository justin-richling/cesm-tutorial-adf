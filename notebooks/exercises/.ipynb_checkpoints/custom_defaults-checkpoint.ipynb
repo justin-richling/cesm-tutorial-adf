{
 "cells": [
  {
   "cell_type": "markdown",
   "id": "46a6aa5c-931c-4952-b9d4-b044103226f3",
   "metadata": {},
   "source": [
    "# Custom Variable Defaults For the ADF"
   ]
  },
  {
   "cell_type": "code",
   "execution_count": null,
   "id": "6f3f20b2-a812-4504-9be2-39ece9419ef5",
   "metadata": {},
   "outputs": [],
   "source": []
  }
 ],
 "metadata": {
  "kernelspec": {
   "display_name": "Python 3 (ipykernel)",
   "language": "python",
   "name": "python3"
  },
  "language_info": {
   "codemirror_mode": {
    "name": "ipython",
    "version": 3
   },
   "file_extension": ".py",
   "mimetype": "text/x-python",
   "name": "python",
   "nbconvert_exporter": "python",
   "pygments_lexer": "ipython3",
   "version": "3.9.12"
  }
 },
 "nbformat": 4,
 "nbformat_minor": 5
}
