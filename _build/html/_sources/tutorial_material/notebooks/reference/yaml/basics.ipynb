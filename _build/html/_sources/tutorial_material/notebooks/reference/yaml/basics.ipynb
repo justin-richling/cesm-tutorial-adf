{
 "cells": [
  {
   "cell_type": "markdown",
   "id": "b4e6cb20-7d66-459f-ac86-cdec8ec5df7a",
   "metadata": {},
   "source": [
    "# YAML File Basics\n",
    "\n",
    "Basic tips and tricks for using the yaml file in the ADF config files"
   ]
  },
  {
   "cell_type": "markdown",
   "id": "e62fd9fe-8d11-4532-89cb-cafbbb471b4a",
   "metadata": {},
   "source": [
    "A couple of notes about using the ADF yaml files:<br>\n",
    "<ul>\n",
    "<li>&ensp;&ensp;Variables can be referenced within the yaml file</li>\n",
    "<li>&ensp;&ensp;Variables <strong>cannot</strong> be used in nested varaibles lists</li>\n",
    "\n",
    "<div style=\"margin-top: -2em;\">\n",
    "<section id=\"sidebar-content\">\n",
    "<div>\n",
    "<h4></h4>\n",
    "<aside style=\"margin: 0 0 0.5em 3em; padding: 1px; width: 46%; float: left; clear: left; overflow-x: auto;\">\n",
    "<div class=\"admonition\">\n",
    "<p class=\"admonition-title\">** works **</p>\n",
    "<p><strong>some_path:</strong><br>\n",
    "&ensp;&ensp;&ensp;- /glade/u/home/richling<br>\n",
    "&ensp;&ensp;&ensp;- /glade/u/home/richling/some_run\n",
    "</p>\n",
    "</div>\n",
    "</aside>\n",
    "</div>\n",
    "    \n",
    "<div>\n",
    "<aside style=\"margin: 0 0 0.5em 0; padding: 1px; width: 46%; float: right; clear: right; overflow-x: auto;\">\n",
    "<div class=\"admonition error\">\n",
    "<p class=\"admonition-title\">** does not work **</p>\n",
    "<p><strong>user:</strong> richling<br>\n",
    "<strong>case:</strong> some_run<br>\n",
    "<strong>some_path:</strong><br>\n",
    "&ensp;&ensp;&ensp;- /glade/u/home/${user}<br>\n",
    "&ensp;&ensp;&ensp;- /glade/u/home/${user}/${case}\n",
    "</p>\n",
    "</div>\n",
    "</aside>\n",
    "</div>\n",
    "\n",
    "</section>\n",
    "</div>\n",
    "\n",
    "<li><p>AHAHAHAHAHAHAH<br><br><br></p></li>\n",
    "</ul>"
   ]
  },
  {
   "cell_type": "markdown",
   "id": "143f3bf6-f315-4c6a-b306-608c4eae8b1d",
   "metadata": {},
   "source": []
  },
  {
   "cell_type": "markdown",
   "id": "7e6b4255-8666-4214-995a-09b233b3fd53",
   "metadata": {},
   "source": []
  },
  {
   "cell_type": "markdown",
   "id": "375a1f37-93c0-453f-83e2-944addc7e224",
   "metadata": {},
   "source": []
  },
  {
   "cell_type": "markdown",
   "id": "850e7084-af19-4455-bd37-32897fa6c803",
   "metadata": {},
   "source": []
  }
 ],
 "metadata": {
  "kernelspec": {
   "display_name": "Python 3 (ipykernel)",
   "language": "python",
   "name": "python3"
  },
  "language_info": {
   "codemirror_mode": {
    "name": "ipython",
    "version": 3
   },
   "file_extension": ".py",
   "mimetype": "text/x-python",
   "name": "python",
   "nbconvert_exporter": "python",
   "pygments_lexer": "ipython3",
   "version": "3.9.12"
  }
 },
 "nbformat": 4,
 "nbformat_minor": 5
}
