{
 "cells": [
  {
   "cell_type": "markdown",
   "id": "fd27e152",
   "metadata": {},
   "source": [
    "# Variable Defaults - adf_variable_defaults.yaml\n",
    "\n",
    "<h4>adf_variable_defaults.yaml</h4>\n",
    "\n",
    "Location for many plotting, unit, etc defaults for any/all CAM output variables\n",
    "\n",
    "This yaml file is designed to host a myriad of information related to each of the variables that are being analyzed in the ADF.\n",
    "\n",
    "One of the main points to using this file is to customize plotting options on a variable by variable basis."
   ]
  },
  {
   "cell_type": "raw",
   "id": "1722a692-ff3c-4297-8abf-c92a93f1bf6a",
   "metadata": {},
   "source": [
    "::::{Warning}\n",
    "<strong>Please do not modify this file unless you plan to push your changes back to the ADF repo!</strong>\n",
    "             \n",
    "If you would like to use a custom file for your personal ADF runs then it is recommended to make a copy of this file, make modifications in that copy, and then point the ADF to it using the `defaults_file` config variable in the <a href=\"https://justin-richling.github.io/ADF-Tutorial/notebooks/configs/yaml/runtime.html#defaults-file\"><code class=\"docutils literal notranslate\"><span class=\"pre\">config_your_run.yaml</span></code> (copy of config_cam_baseline_example.yaml)</a>.\n",
    "\n",
    "\n",
    ":::{admonition} Example\n",
    ":class: seealso\n",
    "From the ADF root directory\n",
    "\n",
    "    cp lib/adf_variable_defaults.yaml lib/my_variable_defaults.yaml\n",
    "\n",
    "In <code class=\"docutils literal notranslate\"><span class=\"pre\">config_your_run.yaml</span></code>:\n",
    "\n",
    "Under the subset `diag_basic_info`:\n",
    "\n",
    "<p style=\"margin-top: -5px;\">&ensp; defaults_file: <code class=\"docutils literal notranslate\"><span class=\"pre\">/path/to/your_variable_defaults.yaml</span></code></p>\n",
    ":::\n",
    "::::"
   ]
  },
  {
   "cell_type": "markdown",
   "id": "7953c7dd-5f83-427c-b1ab-05fd1e5fb20e",
   "metadata": {},
   "source": [
    "\n",
    "\n"
   ]
  },
  {
   "cell_type": "raw",
   "id": "6f8e2a9f-123b-42ff-81a0-3b541086f476",
   "metadata": {},
   "source": [
    "If you want to use default obs files from a set location, you do this through config_cam_baseline_example.yaml. You can also change any individual path on the adf_variable_defaults file. Please see the documentation if you're confused. "
   ]
  },
  {
   "cell_type": "markdown",
   "id": "ce6c4285-516c-41e4-ba08-343458e0b9ab",
   "metadata": {},
   "source": [
    "These are the values that can be set for each variable. None are required."
   ]
  },
  {
   "cell_type": "raw",
   "id": "8b1f009e-d11a-4c8a-a1a5-78f8186720fa",
   "metadata": {},
   "source": [
    "<h3>compare_obs2<a class=\"headerlink\" href=\"#compare_obs2\" title=\"Permalink to this heading\">#</a></h3>"
   ]
  },
  {
   "cell_type": "markdown",
   "id": "eeb852dd-8b6a-48c6-aa14-ddcf82b9f1a8",
   "metadata": {},
   "source": [
    "### Plotting\n",
    "\n",
    "<h4><code class=\"docutils literal notranslate\"><span class=\"pre\">colormap</span></code><a class=\"headerlink\" href=\"#colormap\" title=\"Permalink to this heading\">#</a></h4>\n",
    "<ul>\n",
    "<li><p>The colormap that will be used for filled contour plots.</p></li>\n",
    "</ul>\n",
    "\n",
    "<h4><code class=\"docutils literal notranslate\"><span class=\"pre\">contour_levels</span></code></h4>\n",
    "<ul>\n",
    "<li><p>A list of the specific contour values that will be used for contour plots.</p></li>\n",
    "<li><p>Cannot be used with \"contour_levels_range\".</p></li>\n",
    "</ul>\n",
    "\n",
    "<h4><code class=\"docutils literal notranslate\"><span class=\"pre\">contour_levels_range</span></code></h4>\n",
    "<ul>\n",
    "<li><p>The contour range that will be used for plots.</p></li>\n",
    "<li><p>Values are min, max, and stride.</p></li>\n",
    "<li><p>Cannot be used with \"contour_levels\".</p></li>\n",
    "</ul>\n",
    "\n",
    "<h4><code class=\"docutils literal notranslate\"><span class=\"pre\">diff_colormap</span></code></h4>\n",
    "<ul>\n",
    "<li><p>The colormap that will be used for filled contour different plots</p></li>\n",
    "</ul>\n",
    "\n",
    "<h4><code class=\"docutils literal notranslate\"><span class=\"pre\">diff_contour_levels</span></code></h4>\n",
    "<ul>\n",
    "<li><p>A list of the specific contour values thta will be used for difference plots.</p></li>\n",
    "<li><p>Cannot be used with \"diff_contour_range\".</p></li>\n",
    "</ul>\n",
    "\n",
    "<h4><code class=\"docutils literal notranslate\"><span class=\"pre\">diff_contour_range</span></code></h4>\n",
    "<ul>\n",
    "<li><p>The contour range that will be used for difference plots.</p></li>\n",
    "<li><p>Values are min, max, and stride. Cannot be used with \"diff_contour_levels\".</p></li>\n",
    "</ul>\n",
    "\n",
    "<h4><code class=\"docutils literal notranslate\"><span class=\"pre\">scale_factor</span></code></h4>\n",
    "<ul>\n",
    "<li><p>Amount to scale the variable (relative to its \"raw\" model values).</p></li>\n",
    "</ul>\n",
    "\n",
    "<h4><code class=\"docutils literal notranslate\"><span class=\"pre\">add_offset</span></code></h4>\n",
    "<ul>\n",
    "<li><p>Amount of offset to add to the variable (relatie to its \"raw\" model values).</p></li>\n",
    "</ul>\n",
    "\n",
    "<h4><code class=\"docutils literal notranslate\"><span class=\"pre\">new_unit</span></code></h4>\n",
    "<ul>\n",
    "<li><p>Variable units (if not using the  \"raw\" model units).</p></li>\n",
    "</ul>\n",
    "\n",
    "<h4><code class=\"docutils literal notranslate\"><span class=\"pre\">mpl</span></code></h4>\n",
    "<ul>\n",
    "<li><p>Dictionary that contains keyword arguments explicitly for matplotlib</p></li>\n",
    "</ul>\n",
    "\n",
    "<h4><code class=\"docutils literal notranslate\"><span class=\"pre\">mask</span></code></h4>\n",
    "<ul>\n",
    "<li><p>Setting that specifies whether the variable should be masked.</p></li>\n",
    "<li><p>Currently only accepts \"ocean\", which means the variable will be masked everywhere that isn't open ocean.</p></li>\n",
    "</ul>"
   ]
  },
  {
   "cell_type": "raw",
   "id": "08aa2cfc-d27a-47f1-86d7-fe445d3d7141",
   "metadata": {},
   "source": [
    "\n",
    "```{attention} This admonition was styled...\n",
    "If only the file name is given, then the file is assumed to exist in the path specified by `obs_data_loc` in the config file.\n",
    "```\n",
    "    "
   ]
  },
  {
   "cell_type": "markdown",
   "id": "76466060-cbf7-4c3e-8d6b-0de971a36ba2",
   "metadata": {
    "jp-MarkdownHeadingCollapsed": true,
    "tags": []
   },
   "source": [
    "### Observations\n",
    "\n",
    "<p>If you want to use observation files that are not in the same location as the ones set in <code class=\"docutils literal notranslate\"><span class=\"pre\">obs_data_loc</span></code> config variable in the <a href=\"https://justin-richling.github.io/ADF-Tutorial/notebooks/intro/yaml/config_cam_baseline_example.html#code-class-docutils-literal-notranslate-span-class-pre-obs-data-loc-span-code\"><code class=\"docutils literal notranslate\"><span class=\"pre\">config_your_run.yaml</span></code> (copy of config_cam_baseline_example.yaml)</a> file, you can set them on a variable by variable basis here.</p>\n",
    "\n",
    "<h4><code class=\"docutils literal notranslate\"><span class=\"pre\">obs_file</span></code><a class=\"headerlink\" href=\"#obs_file\" title=\"Permalink to this heading\">#</a></h4>\n",
    "<ul>\n",
    "<li><p>Path to observations file.</p></li>\n",
    "</ul>\n",
    "\n",
    "<ul class=\"adom\">\n",
    "<div class=\"admonition attention\">\n",
    "<p class=\"admonition-title\">Attention</p>\n",
    "<p>If only the file name is given (<strong>some_OBS.nc</strong>), then the file is assumed to exist in the path specified by <code class=\"docutils literal notranslate\"><span class=\"pre\">obs_data_loc</span></code> in the <a class=\"reference internal\" href=\"https://justin-richling.github.io/ADF-Tutorial/notebooks/intro/yaml/config_cam_baseline_example.html#obs_data_loc\"><span class=\"std std-ref\">config file</span></a>.</p><br>\n",
    "<p>Otherwise, if a path is supllied with a file name (<strong>/path/to/some_OBS.nc</strong>), the ADF will search that instead of what is supplied in the <code class=\"docutils literal notranslate\"><span class=\"pre\">obs_data_loc</span></code> location</p>\n",
    "</div>\n",
    "</ul>\n",
    "\n",
    "<h4><code class=\"docutils literal notranslate\"><span class=\"pre\">obs_name</span></code></h4>\n",
    "<ul>\n",
    "<li><p>Name of the observational dataset (mostly used for plotting and generated file naming).</p></li>\n",
    "<li><p>If this isn't present then the <code class=\"docutils literal notranslate\"><span class=\"pre\">obs_file</span></code> file name is used.</p></li>\n",
    "</ul>\n",
    "\n",
    "<h4><code class=\"docutils literal notranslate\"><span class=\"pre\">obs_var_name</span></code></h4>\n",
    "<ul>\n",
    "<li><p>Variable in the observations file to compare against.</p></li>\n",
    "<li><p>If this isn't present then the variable name is assumed to be the same as the model variable name.</p></li>\n",
    "</ul>"
   ]
  },
  {
   "cell_type": "markdown",
   "id": "abf396e9-173d-4cfd-b7dd-0ee0e20f35ff",
   "metadata": {},
   "source": [
    "### Vector\n",
    "\n",
    "<h4><code class=\"docutils literal notranslate\"><span class=\"pre\">vector_pair</span></code></h4>\n",
    "<ul>\n",
    "<li><p>Another variable that when combined with the given variable makes up a vector pair.</p></li>\n",
    "<li><p>If this default is not present then it is assumed the given variable is not a vector component, and will thus be skipped during the vector plotting phase.</p></li>\n",
    "</ul>\n",
    "\n",
    "<h4><code class=\"docutils literal notranslate\"><span class=\"pre\">vector_name</span></code></h4>\n",
    "<ul>\n",
    "<li><p>The name of the vector the variable is associated with, which will be used to title the respective vector plot(s).</p></li>\n",
    "</ul>"
   ]
  },
  {
   "cell_type": "markdown",
   "id": "cd45f781-3b67-4b7c-bbe1-b2e8ad35c82d",
   "metadata": {},
   "source": [
    "### Website\n",
    "\n",
    "<h4><code class=\"docutils literal notranslate\"><span class=\"pre\">category</span></code></h4>\n",
    "<ul>\n",
    "<li><p>The website category the variable will be placed under.</p>\n",
    "</ul>"
   ]
  },
  {
   "cell_type": "code",
   "execution_count": null,
   "id": "736e2a8b-0148-40e7-93ba-e45e7b1fde55",
   "metadata": {},
   "outputs": [],
   "source": []
  },
  {
   "cell_type": "raw",
   "id": "555ddbc3-4b07-4736-8cc7-55f01b2e4977",
   "metadata": {},
   "source": [
    "If you plan on modifying anything in the variable defaults file, please make a copy and yada yada yada\n",
    "\n",
    "<p>If you plan on using a modified file for your custom values you need to set <a href=\"https://justin-richling.github.io/ADF-Tutorial/notebooks/configs/yaml/runtime.html#use-defaults\"><code class=\"docutils literal notranslate\"><span class=\"pre\">use_defaults</span></code></a> in your copy of the run-time config yaml file to false and set the path to the custom variable default file with <a href=\"https://justin-richling.github.io/ADF-Tutorial/notebooks/configs/yaml/runtime.html#defaults-file\"><code class=\"docutils literal notranslate\"><span class=\"pre\">defaults_file</span></code></a>\n",
    "</p>"
   ]
  },
  {
   "cell_type": "raw",
   "id": "30ea1fe9-c3a5-40f1-93af-5912e576c29f",
   "metadata": {},
   "source": [
    "If you would like to modify this file for your personal ADF runs then it is recommended to make a copy of this file, make modifications in that copy, and then point the ADF to it using the `defaults_file` config variable in the <a href=\"https://justin-richling.github.io/ADF-Tutorial/notebooks/configs/yaml/runtime.html#defaults-file\"><code class=\"docutils literal notranslate\"><span class=\"pre\">config_adf_tutorial.yaml</span></code> (copy of config_cam_baseline_example.yaml)</a>."
   ]
  },
  {
   "cell_type": "markdown",
   "id": "34a40a5a-f3dd-45a5-b51c-f225b8714a0f",
   "metadata": {},
   "source": [
    "## Custom Set\n",
    "\n",
    "\n",
    "\n",
    "::::{Warning}\n",
    "<strong>Please do not modify this file unless you plan to push your changes back to the ADF repo!</strong>\n",
    "             \n",
    "If you would like to modify this file for your personal ADF runs then it is recommended to make a copy of this file, make modifications in that copy, and then point the ADF to it using the `defaults_file` config variable in your copy of config_cam_baseline_example.yaml</a>.\n",
    "\n",
    "\n",
    ":::{admonition} Example\n",
    ":class: seealso\n",
    "From the ADF root directory\n",
    "\n",
    "    cp lib/adf_variable_defaults.yaml lib/your_variable_defaults.yaml\n",
    "\n",
    "\n",
    "In <code class=\"docutils literal notranslate\"><span class=\"pre\">your_adf_config.yaml</span></code> (copy of config_cam_baseline_example.yaml):\n",
    "\n",
    "Under the subset `diag_basic_info`:\n",
    "\n",
    "&ensp; Uncomment and set the defaults_file variable:\n",
    "<p style=\"margin-top: -5px;\">&ensp; defaults_file: <code class=\"docutils literal notranslate\"><span class=\"pre\">lib/your_variable_defaults.yaml</span></code></p>\n",
    ":::\n",
    "::::\n",
    "\n",
    "\n",
    "<p>After the new file <code class=\"docutils literal notranslate\"><span class=\"pre\">lib/your_variable_defaults.yaml</span></code> has been created, open the file with your favorite editor</p>\n",
    "\n",
    "Example of `U` \n",
    "```\n",
    "U:\n",
    "  colormap: \"Blues\"\n",
    "  contour_levels_range: [-10, 90, 5]\n",
    "  diff_colormap: \"BrBG\"\n",
    "  diff_contour_range: [-15, 15, 2]\n",
    "  scale_factor: 1\n",
    "  add_offset: 0\n",
    "  new_unit: \"ms$^{-1}$\"\n",
    "  mpl:\n",
    "    colorbar:\n",
    "      label : \"ms$^{-1}$\"\n",
    "  obs_file: \"U_ERA5_monthly_climo_197901-202112.nc\"\n",
    "  obs_name: \"ERA5\"\n",
    "  obs_var_name: \"U\"\n",
    "  vector_pair: \"V\"\n",
    "  vector_name: \"Wind\"\n",
    "  category: \"State\"\n",
    "```\n",
    "\n",
    "\n",
    "Example of custom variable `VAR` \n",
    "```\n",
    "VAR:\n",
    "  colormap: \"rainbow\"\n",
    "  contour_levels_range: [-50, 50, 5]\n",
    "  diff_colormap: \"RdBu\"\n",
    "  diff_contour_range: [-15, 15, 3]\n",
    "  new_unit: \"some_unit\"\n",
    "  mpl:\n",
    "    colorbar:\n",
    "      label : \"some_unit\"\n",
    "  obs_file: \"var_obs_file.nc\"\n",
    "  obs_name: \"VAR\"\n",
    "  obs_var_name: \"descriptive_var_name\"\n",
    "  category: \"State\"\n",
    "```"
   ]
  }
 ],
 "metadata": {
  "kernelspec": {
   "display_name": "Python 3 (ipykernel)",
   "language": "python",
   "name": "python3"
  },
  "language_info": {
   "codemirror_mode": {
    "name": "ipython",
    "version": 3
   },
   "file_extension": ".py",
   "mimetype": "text/x-python",
   "name": "python",
   "nbconvert_exporter": "python",
   "pygments_lexer": "ipython3",
   "version": "3.9.12"
  }
 },
 "nbformat": 4,
 "nbformat_minor": 5
}
