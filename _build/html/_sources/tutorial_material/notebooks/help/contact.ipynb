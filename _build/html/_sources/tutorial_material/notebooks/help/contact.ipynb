{
 "cells": [
  {
   "cell_type": "markdown",
   "id": "789e911c-f379-41c2-9165-c40e5d338e5d",
   "metadata": {},
   "source": [
    "# Contact\n",
    "\n",
    "There are a couple of different ways to seek help or ask questions about the ADF\n",
    "\n",
    "<ul>\n",
    "<li>GitHub: <a href=\"https://github.com/NCAR/ADF\" target=\"_blank\">https://github.com/NCAR/ADF</a></li>\n",
    "<li>Zulip (currently a private account, tbd): <a href=\"https://zulip2.cloud.ucar.edu/#narrow/stream/63-CESM-diagnostics\" target=\"_balnk\">https://zulip2.cloud.ucar.edu/#narrow/stream/63-CESM-diagnostics</a></li>\n",
    "<li>Email: <a>richling@ucar.edu</a></li>\n",
    "<li>Hackathon (contact us if you're not receiving weekly invitations): Thursdays 2:00-4:00 PM Mountain time</li>\n",
    "</ul>"
   ]
  },
  {
   "cell_type": "code",
   "execution_count": null,
   "id": "ff797573-b785-4a98-a715-a3928470be49",
   "metadata": {},
   "outputs": [],
   "source": []
  }
 ],
 "metadata": {
  "kernelspec": {
   "display_name": "Python 3 (ipykernel)",
   "language": "python",
   "name": "python3"
  },
  "language_info": {
   "codemirror_mode": {
    "name": "ipython",
    "version": 3
   },
   "file_extension": ".py",
   "mimetype": "text/x-python",
   "name": "python",
   "nbconvert_exporter": "python",
   "pygments_lexer": "ipython3",
   "version": "3.9.12"
  }
 },
 "nbformat": 4,
 "nbformat_minor": 5
}
