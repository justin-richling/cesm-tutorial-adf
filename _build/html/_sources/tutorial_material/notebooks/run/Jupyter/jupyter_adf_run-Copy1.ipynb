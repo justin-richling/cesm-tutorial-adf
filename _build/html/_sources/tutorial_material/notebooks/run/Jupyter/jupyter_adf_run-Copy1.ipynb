{
 "cells": [
  {
   "cell_type": "markdown",
   "id": "0a8d9910",
   "metadata": {},
   "source": [
    "# Exercise - Run ADF via Jupyter\n",
    "\n",
    "In addition to running the ADF in the terminal, it can also be run in Jupyter Notebooks!\n",
    "\n",
    "Let's use the same two CAM simulations we used to run the ADF in the terminal, but this time let's run it for climo years 2001-2005\n"
   ]
  },
  {
   "cell_type": "markdown",
   "id": "2b1df5bc-457c-48a1-856f-42526d6862df",
   "metadata": {},
   "source": []
  },
  {
   "cell_type": "code",
   "execution_count": null,
   "id": "aea9ea4d-75ec-4b8e-b86f-0f38711941a7",
   "metadata": {},
   "outputs": [],
   "source": []
  },
  {
   "cell_type": "markdown",
   "id": "b1d22a1c-2f4a-4cff-a02a-a99ff249e47e",
   "metadata": {},
   "source": [
    "For this example we will run the ADF diagnostics for two different CAM simulations for a 5 years, 2000-2006\n",
    "\n",
    "Running the ADF in a Jupyter Notebook allows for some really handy access to the output data as well as all the paths\n",
    "\n",
    "The test (experiment) case is `f.cam6_3_106.FLTHIST_v0a.ne30.dcs_non-ogw.001`\n",
    "\n",
    "The baseline (control) case is `f.cam6_3_106.FLTHIST_v0a.ne30.dcs_effgw_rdg.001`\n"
   ]
  },
  {
   "cell_type": "code",
   "execution_count": null,
   "id": "3379e7e4-c8c5-4cd6-a9a9-8d4529e99af0",
   "metadata": {},
   "outputs": [],
   "source": [
    "%matplotlib inline"
   ]
  },
  {
   "cell_type": "code",
   "execution_count": null,
   "id": "3b9ed14e",
   "metadata": {},
   "outputs": [],
   "source": [
    "import os.path\n",
    "from pathlib import Path\n",
    "import sys"
   ]
  },
  {
   "cell_type": "code",
   "execution_count": null,
   "id": "44f3a088-fc30-4010-b452-eb743322f296",
   "metadata": {},
   "outputs": [],
   "source": [
    "# Determine ADF directory path\n",
    "# If it is in your cwd, set adf_path = local_path, \n",
    "# otherwise set adf_path appropriately\n",
    "\n",
    "local_path = os.path.abspath('')"
   ]
  },
  {
   "cell_type": "code",
   "execution_count": null,
   "id": "7b241a6b-2865-4a1f-a3cd-7095a342ed9f",
   "metadata": {},
   "outputs": [],
   "source": []
  },
  {
   "cell_type": "markdown",
   "id": "f7af12ca-7037-42b5-beeb-32fea6d79c29",
   "metadata": {},
   "source": [
    "#### It is important to remember the <strong>two</strong> things important in this notebook are the:\n",
    "    * ADF branch you want, which will also be dependent on adf_path\n",
    "    * Config yaml file you want"
   ]
  },
  {
   "cell_type": "markdown",
   "id": "b8e613f2-80bc-44ea-ae54-e8154be0ae54",
   "metadata": {},
   "source": [
    "##### ADF location\n",
    "\n",
    "* NOTE: you will have to change the branch via terminal if you want a certain branch in this notebook\n",
    "\n",
    "Or you could use a cell to do it:\n",
    "\n",
    "    !git checkout <your-branch>"
   ]
  },
  {
   "cell_type": "code",
   "execution_count": null,
   "id": "3162306b-d06e-44d0-8e18-8e9495039202",
   "metadata": {},
   "outputs": [
    {
     "name": "stdout",
     "output_type": "stream",
     "text": [
      "current working directory = /glade/work/richling/ADF/adf-tutorials/ADF-Tutorial/notebooks/run\n",
      "ADF path                  = /glade/work/richling/ADF/ADF_dev/Justin_ADF/ADF\n"
     ]
    }
   ],
   "source": [
    "# You can change the path to ADF (git branch) so it can be different than the\n",
    "# current location\n",
    "\n",
    "#adf_path = \"/path/to/your/ADF\"\n",
    "adf_path = \"/glade/work/richling/ADF/ADF_dev/Justin_ADF/ADF\"\n",
    "\n",
    "print(f\"current working directory = {local_path}\")\n",
    "print(f\"ADF path                  = {adf_path}\")"
   ]
  },
  {
   "cell_type": "code",
   "execution_count": null,
   "id": "ee605022-5fc2-4822-950b-bef7e3999212",
   "metadata": {},
   "outputs": [
    {
     "name": "stdout",
     "output_type": "stream",
     "text": [
      "The lib scripts live here, right? /glade/work/richling/ADF/ADF_dev/Justin_ADF/ADF/lib\n",
      "The plotting scripts live here, right? /glade/work/richling/ADF/ADF_dev/Justin_ADF/ADF/scripts/plotting\n"
     ]
    }
   ],
   "source": [
    "#set path to ADF lib\n",
    "lib_path = os.path.join(adf_path,\"lib\")\n",
    "print(f\"The lib scripts live here, right? {lib_path}\")\n",
    "\n",
    "#set path to ADF plotting scripts directory\n",
    "plotting_scripts_path = os.path.join(adf_path,\"scripts\",\"plotting\")\n",
    "print(f\"The plotting scripts live here, right? {plotting_scripts_path}\")\n",
    "\n",
    "#Add paths to python path:\n",
    "sys.path.append(lib_path)\n",
    "sys.path.append(plotting_scripts_path)"
   ]
  },
  {
   "cell_type": "code",
   "execution_count": null,
   "id": "afed5364-827c-422a-89cf-f6d337e9790b",
   "metadata": {},
   "outputs": [
    {
     "name": "stderr",
     "output_type": "stream",
     "text": [
      "ERROR 1: PROJ: proj_create_from_database: Open of /glade/u/apps/opt/conda/envs/npl-2022b/share/proj failed\n"
     ]
    }
   ],
   "source": [
    "#import ADF diagnostics object\n",
    "from adf_diag import AdfDiag\n",
    "\n",
    "# If this fails, check your paths output in the cells above,\n",
    "# and that you are running the NPL (conda) Kernel\n",
    "# You can see all the paths being examined by un-commenting the following:\n",
    "#sys.path"
   ]
  },
  {
   "cell_type": "code",
   "execution_count": null,
   "id": "8acb0f9e-0e0c-4823-b131-a49c0a8663ae",
   "metadata": {},
   "outputs": [],
   "source": []
  },
  {
   "cell_type": "markdown",
   "id": "a9a3dd0c-97c9-4872-9269-817a098a4acd",
   "metadata": {},
   "source": [
    "### Single CAM vs CAM case\n",
    "---"
   ]
  },
  {
   "cell_type": "markdown",
   "id": "6fe1b7cc-e3eb-40e6-82fe-25dcb925f92d",
   "metadata": {},
   "source": [
    "##### Config yaml file location and name"
   ]
  },
  {
   "cell_type": "code",
   "execution_count": null,
   "id": "9586b36f-fa23-43b4-ae4a-f6c464fc5178",
   "metadata": {},
   "outputs": [],
   "source": [
    "# Set path for config YAML file\n",
    "#config_path = \"/path/to/your/yaml/file/\"\n",
    "config_path = \"/glade/work/richling/ADF/adf-tutorials/ADF-Tutorial/config_files/\"\n",
    "\n",
    "# Set name of config YAML file:\n",
    "config_fil_str = \"config_model_vs_model_single.yaml\"\n",
    "\n",
    "# Make full path to config file\n",
    "config_file=os.path.join(config_path,config_fil_str)"
   ]
  },
  {
   "cell_type": "code",
   "execution_count": null,
   "id": "1466c675-2fbe-4d13-97fb-db863a150e48",
   "metadata": {},
   "outputs": [
    {
     "data": {
      "text/plain": [
       "<adf_diag.AdfDiag at 0x2b4984b32b80>"
      ]
     },
     "execution_count": 8,
     "metadata": {},
     "output_type": "execute_result"
    }
   ],
   "source": [
    "#Initialize ADF object with config file\n",
    "adf = AdfDiag(config_file)\n",
    "adf"
   ]
  },
  {
   "cell_type": "markdown",
   "id": "5c97b667-f8e2-4a39-a56a-91e2c04c3474",
   "metadata": {},
   "source": [
    "## Let's look at some basic info from the ADF"
   ]
  },
  {
   "cell_type": "markdown",
   "id": "1b3a458d-fba3-43f8-bf24-8414297085c1",
   "metadata": {},
   "source": [
    "#### Read out some of the declared variables from the config file"
   ]
  },
  {
   "cell_type": "code",
   "execution_count": null,
   "id": "14714bf6-e9d3-45c4-85ec-0fde25ef917f",
   "metadata": {},
   "outputs": [
    {
     "data": {
      "text/plain": [
       "['compare_obs',\n",
       " 'create_html',\n",
       " 'obs_data_loc',\n",
       " 'cam_regrid_loc',\n",
       " 'cam_overwrite_regrid',\n",
       " 'cam_diag_plot_loc',\n",
       " 'use_defaults',\n",
       " 'plot_press_levels',\n",
       " 'weight_season',\n",
       " 'num_procs',\n",
       " 'redo_plot']"
      ]
     },
     "execution_count": 9,
     "metadata": {},
     "output_type": "execute_result"
    }
   ],
   "source": [
    "basic_info_dict = adf.read_config_var(\"diag_basic_info\")\n",
    "list(basic_info_dict)"
   ]
  },
  {
   "cell_type": "code",
   "execution_count": null,
   "id": "62783899-28e4-4740-abca-444c2712198c",
   "metadata": {},
   "outputs": [
    {
     "name": "stdout",
     "output_type": "stream",
     "text": [
      "'get basic info' found compare_obs = False\n"
     ]
    }
   ],
   "source": [
    "# Quick check if we are comparing against obs, in case we forgot our ginkaloba pills this morning\n",
    "obs = adf.get_basic_info('compare_obs')\n",
    "print(\"'get basic info' found compare_obs =\",obs)"
   ]
  },
  {
   "cell_type": "code",
   "execution_count": null,
   "id": "98539f1c-047b-46d2-bcd6-8dad72483646",
   "metadata": {},
   "outputs": [
    {
     "data": {
      "text/plain": [
       "False"
      ]
     },
     "execution_count": 11,
     "metadata": {},
     "output_type": "execute_result"
    }
   ],
   "source": [
    "# A similar but different way to check directly from the adf object:\n",
    "adf.compare_obs"
   ]
  },
  {
   "cell_type": "code",
   "execution_count": null,
   "id": "ba7c5089-722c-48dd-a830-9c35996bbac6",
   "metadata": {},
   "outputs": [
    {
     "data": {
      "text/plain": [
       "['calc_cam_climo',\n",
       " 'cam_overwrite_climo',\n",
       " 'cam_case_name',\n",
       " 'cam_hist_loc',\n",
       " 'cam_climo_loc',\n",
       " 'start_year',\n",
       " 'end_year',\n",
       " 'cam_ts_done',\n",
       " 'cam_ts_save',\n",
       " 'cam_overwrite_ts',\n",
       " 'cam_ts_loc',\n",
       " 'case_nickname']"
      ]
     },
     "execution_count": 12,
     "metadata": {},
     "output_type": "execute_result"
    }
   ],
   "source": [
    "# Baseline case details\n",
    "baseline_dict = adf.read_config_var(\"diag_cam_baseline_climo\")\n",
    "list(baseline_dict)"
   ]
  },
  {
   "cell_type": "raw",
   "id": "df7988d0-bb73-4afa-916a-14723de0032e",
   "metadata": {},
   "source": [
    "```python\n",
    "dir(adf)\n",
    "```"
   ]
  },
  {
   "cell_type": "raw",
   "id": "f8cfe1c9-7062-461a-a67e-732e44166454",
   "metadata": {},
   "source": [
    "<div class=\"admonition tip\">\n",
    "<p>Some **content**</p>\n",
    "\n",
    "````html\n",
    "```python\n",
    "dir(adf)\n",
    "```\n",
    "````\n",
    "\n",
    "</div>"
   ]
  },
  {
   "cell_type": "raw",
   "id": "de910b6a-dc3f-40f1-ae82-7ea19b8ed493",
   "metadata": {},
   "source": [
    "\n",
    "\n",
    "```{admonition} &ensp; \n",
    ":class: dropdown, hint\n",
    "\n",
    "::::\n",
    "['_AdfBase__debug_log',\n",
    " '_AdfConfig__config_dict',\n",
    " '_AdfConfig__create_search_dict',\n",
    " '_AdfConfig__expand_yaml_var_ref',\n",
    " '_AdfConfig__kword_pattern',\n",
    " '_AdfConfig__search_dict',\n",
    " '_AdfDiag__analysis_scripts',\n",
    " '_AdfDiag__cvdp_info',\n",
    " '_AdfDiag__diag_scripts_caller',\n",
    " '_AdfDiag__function_caller',\n",
    " '_AdfDiag__plotting_scripts',\n",
    " '_AdfDiag__regridding_scripts',\n",
    " '_AdfDiag__time_averaging_scripts',\n",
    " '_AdfInfo__base_nickname',\n",
    " '_AdfInfo__basic_info',\n",
    " '_AdfInfo__cam_bl_climo_info',\n",
    " '_AdfInfo__cam_climo_info',\n",
    " '_AdfInfo__compare_obs',\n",
    " '_AdfInfo__derived_var_list',\n",
    " '_AdfInfo__diag_var_list',\n",
    " '_AdfInfo__eyear_baseline',\n",
    " '_AdfInfo__eyears',\n",
    " '_AdfInfo__num_cases',\n",
    " '_AdfInfo__num_procs',\n",
    " '_AdfInfo__plot_location',\n",
    " '_AdfInfo__syear_baseline',\n",
    " '_AdfInfo__syears',\n",
    " '_AdfInfo__test_nicknames',\n",
    " '_AdfObs__use_defaults',\n",
    " '_AdfObs__var_obs_dict',\n",
    " '_AdfObs__variable_defaults',\n",
    " '_AdfWeb__case_web_paths',\n",
    " '_AdfWeb__plot_type_multi',\n",
    " '_AdfWeb__plot_type_order',\n",
    " '_AdfWeb__website_data',\n",
    " '__class__',\n",
    " '__delattr__',\n",
    " '__dict__',\n",
    " '__dir__',\n",
    " '__doc__',\n",
    " '__eq__',\n",
    " '__format__',\n",
    " '__ge__',\n",
    " '__getattribute__',\n",
    " '__gt__',\n",
    " '__hash__',\n",
    " '__init__',\n",
    " '__init_subclass__',\n",
    " '__le__',\n",
    " '__lt__',\n",
    " '__module__',\n",
    " '__ne__',\n",
    " '__new__',\n",
    " '__reduce__',\n",
    " '__reduce_ex__',\n",
    " '__repr__',\n",
    " '__setattr__',\n",
    " '__sizeof__',\n",
    " '__str__',\n",
    " '__subclasshook__',\n",
    " '__weakref__',\n",
    " 'add_diag_var',\n",
    " 'add_website_data',\n",
    " 'baseline_climo_dict',\n",
    " 'basic_info_dict',\n",
    " 'cam_climo_dict',\n",
    " 'case_nicknames',\n",
    " 'climo_yrs',\n",
    " 'compare_obs',\n",
    " 'create_climo',\n",
    " 'create_html',\n",
    " 'create_plots',\n",
    " 'create_time_series',\n",
    " 'create_website',\n",
    " 'debug_log',\n",
    " 'derived_var_list',\n",
    " 'diag_var_list',\n",
    " 'end_diag_fail',\n",
    " 'expand_references',\n",
    " 'get_baseline_info',\n",
    " 'get_basic_info',\n",
    " 'get_cam_info',\n",
    " 'get_cvdp_info',\n",
    " 'log_press',\n",
    " 'main_site_paths',\n",
    " 'num_cases',\n",
    " 'num_procs',\n",
    " 'perform_analyses',\n",
    " 'plot_location',\n",
    " 'read_config_var',\n",
    " 'regrid_climo',\n",
    " 'setup_run_cvdp',\n",
    " 'use_defaults',\n",
    " 'var_obs_dict',\n",
    " 'variable_defaults']\n",
    "::::\n",
    "```"
   ]
  },
  {
   "cell_type": "raw",
   "id": "80ca5945-3339-4cd3-b48f-5305169216ad",
   "metadata": {},
   "source": [
    "::::{admonition}\n",
    ":::python\n",
    "dir(adf)\n",
    ":::\n",
    "::::\n",
    "\n",
    "sdad"
   ]
  },
  {
   "cell_type": "raw",
   "id": "2b4cda75-0840-4279-9e46-c311c1ff2ab0",
   "metadata": {},
   "source": [
    "::::{Warning}\n",
    "<strong>Please do not modify this file unless you plan to push your changes back to the ADF repo!</strong>\n",
    "             \n",
    "If you would like to modify this file for your personal ADF runs then it is recommended to make a copy of this file, make modifications in that copy, and then point the ADF to it using the `defaults_file` config variable in the <a href=\"https://justin-richling.github.io/ADF-Tutorial/notebooks/configs/yaml/runtime.html#defaults-file\"><code class=\"docutils literal notranslate\"><span class=\"pre\">config_your_run.yaml</span></code> (copy of config_cam_baseline_example.yaml)</a>.\n",
    "\n",
    "\n",
    ":::{admonition} Example\n",
    ":class: seealso\n",
    "From the ADF root directory\n",
    "\n",
    "    cp lib/adf_variable_defaults.yaml lib/my_variable_defaults.yaml\n",
    "\n",
    "In <code class=\"docutils literal notranslate\"><span class=\"pre\">config_your_run.yaml</span></code>:\n",
    "\n",
    "Under the subset `diag_basic_info`:\n",
    "\n",
    "<p style=\"margin-top: -5px;\">&ensp; use_defaults: <code class=\"docutils literal notranslate\"><span class=\"pre\">false</span></code></p>\n",
    "\n",
    "<p style=\"margin-top: -5px;\">&ensp; defaults_file: <code class=\"docutils literal notranslate\"><span class=\"pre\">/path/to/your_variable_defaults.yaml</span></code></p>\n",
    ":::\n",
    "::::"
   ]
  },
  {
   "cell_type": "raw",
   "id": "a2addfcc-c7af-46d7-886d-880f462ce5d0",
   "metadata": {},
   "source": [
    "```{admonition} `{python} dir(adf)`\n",
    ":class: dropdown, hint\n",
    "\n",
    "::::\n",
    "['_AdfBase__debug_log',\n",
    " '_AdfConfig__config_dict',\n",
    " '_AdfConfig__create_search_dict',\n",
    " '_AdfConfig__expand_yaml_var_ref',\n",
    " '_AdfConfig__kword_pattern',\n",
    " '_AdfConfig__search_dict',\n",
    " '_AdfDiag__analysis_scripts',\n",
    " '_AdfDiag__cvdp_info',\n",
    " '_AdfDiag__diag_scripts_caller',\n",
    " '_AdfDiag__function_caller',\n",
    " '_AdfDiag__plotting_scripts',\n",
    " '_AdfDiag__regridding_scripts',\n",
    " '_AdfDiag__time_averaging_scripts',\n",
    " '_AdfInfo__base_nickname',\n",
    " '_AdfInfo__basic_info',\n",
    " '_AdfInfo__cam_bl_climo_info',\n",
    " '_AdfInfo__cam_climo_info',\n",
    " '_AdfInfo__compare_obs',\n",
    " '_AdfInfo__derived_var_list',\n",
    " '_AdfInfo__diag_var_list',\n",
    " '_AdfInfo__eyear_baseline',\n",
    " '_AdfInfo__eyears',\n",
    " '_AdfInfo__num_cases',\n",
    " '_AdfInfo__num_procs',\n",
    " '_AdfInfo__plot_location',\n",
    " '_AdfInfo__syear_baseline',\n",
    " '_AdfInfo__syears',\n",
    " '_AdfInfo__test_nicknames',\n",
    " '_AdfObs__use_defaults',\n",
    " '_AdfObs__var_obs_dict',\n",
    " '_AdfObs__variable_defaults',\n",
    " '_AdfWeb__case_web_paths',\n",
    " '_AdfWeb__plot_type_multi',\n",
    " '_AdfWeb__plot_type_order',\n",
    " '_AdfWeb__website_data',\n",
    " '__class__',\n",
    " '__delattr__',\n",
    " '__dict__',\n",
    " '__dir__',\n",
    " '__doc__',\n",
    " '__eq__',\n",
    " '__format__',\n",
    " '__ge__',\n",
    " '__getattribute__',\n",
    " '__gt__',\n",
    " '__hash__',\n",
    " '__init__',\n",
    " '__init_subclass__',\n",
    " '__le__',\n",
    " '__lt__',\n",
    " '__module__',\n",
    " '__ne__',\n",
    " '__new__',\n",
    " '__reduce__',\n",
    " '__reduce_ex__',\n",
    " '__repr__',\n",
    " '__setattr__',\n",
    " '__sizeof__',\n",
    " '__str__',\n",
    " '__subclasshook__',\n",
    " '__weakref__',\n",
    " 'add_diag_var',\n",
    " 'add_website_data',\n",
    " 'baseline_climo_dict',\n",
    " 'basic_info_dict',\n",
    " 'cam_climo_dict',\n",
    " 'case_nicknames',\n",
    " 'climo_yrs',\n",
    " 'compare_obs',\n",
    " 'create_climo',\n",
    " 'create_html',\n",
    " 'create_plots',\n",
    " 'create_time_series',\n",
    " 'create_website',\n",
    " 'debug_log',\n",
    " 'derived_var_list',\n",
    " 'diag_var_list',\n",
    " 'end_diag_fail',\n",
    " 'expand_references',\n",
    " 'get_baseline_info',\n",
    " 'get_basic_info',\n",
    " 'get_cam_info',\n",
    " 'get_cvdp_info',\n",
    " 'log_press',\n",
    " 'main_site_paths',\n",
    " 'num_cases',\n",
    " 'num_procs',\n",
    " 'perform_analyses',\n",
    " 'plot_location',\n",
    " 'read_config_var',\n",
    " 'regrid_climo',\n",
    " 'setup_run_cvdp',\n",
    " 'use_defaults',\n",
    " 'var_obs_dict',\n",
    " 'variable_defaults']\n",
    "::::\n",
    "```"
   ]
  },
  {
   "cell_type": "markdown",
   "id": "3a4f9a94-5fce-456b-a793-af328d782b34",
   "metadata": {},
   "source": [
    "For an in-depth break down of all the possible properties and methods, without values, from the `adf` object"
   ]
  },
  {
   "cell_type": "code",
   "execution_count": null,
   "id": "41e8fed4-9c08-46bb-a520-ac6bfa82447e",
   "metadata": {},
   "outputs": [
    {
     "data": {
      "text/plain": [
       "['_AdfBase__debug_log',\n",
       " '_AdfConfig__config_dict',\n",
       " '_AdfConfig__create_search_dict',\n",
       " '_AdfConfig__expand_yaml_var_ref',\n",
       " '_AdfConfig__kword_pattern',\n",
       " '_AdfConfig__search_dict',\n",
       " '_AdfDiag__analysis_scripts',\n",
       " '_AdfDiag__cvdp_info',\n",
       " '_AdfDiag__diag_scripts_caller',\n",
       " '_AdfDiag__function_caller',\n",
       " '_AdfDiag__plotting_scripts',\n",
       " '_AdfDiag__regridding_scripts',\n",
       " '_AdfDiag__time_averaging_scripts',\n",
       " '_AdfInfo__base_nickname',\n",
       " '_AdfInfo__basic_info',\n",
       " '_AdfInfo__cam_bl_climo_info',\n",
       " '_AdfInfo__cam_climo_info',\n",
       " '_AdfInfo__compare_obs',\n",
       " '_AdfInfo__derived_var_list',\n",
       " '_AdfInfo__diag_var_list',\n",
       " '_AdfInfo__eyear_baseline',\n",
       " '_AdfInfo__eyears',\n",
       " '_AdfInfo__num_cases',\n",
       " '_AdfInfo__num_procs',\n",
       " '_AdfInfo__plot_location',\n",
       " '_AdfInfo__syear_baseline',\n",
       " '_AdfInfo__syears',\n",
       " '_AdfInfo__test_nicknames',\n",
       " '_AdfObs__use_defaults',\n",
       " '_AdfObs__var_obs_dict',\n",
       " '_AdfObs__variable_defaults',\n",
       " '_AdfWeb__case_web_paths',\n",
       " '_AdfWeb__plot_type_multi',\n",
       " '_AdfWeb__plot_type_order',\n",
       " '_AdfWeb__website_data',\n",
       " '__class__',\n",
       " '__delattr__',\n",
       " '__dict__',\n",
       " '__dir__',\n",
       " '__doc__',\n",
       " '__eq__',\n",
       " '__format__',\n",
       " '__ge__',\n",
       " '__getattribute__',\n",
       " '__gt__',\n",
       " '__hash__',\n",
       " '__init__',\n",
       " '__init_subclass__',\n",
       " '__le__',\n",
       " '__lt__',\n",
       " '__module__',\n",
       " '__ne__',\n",
       " '__new__',\n",
       " '__reduce__',\n",
       " '__reduce_ex__',\n",
       " '__repr__',\n",
       " '__setattr__',\n",
       " '__sizeof__',\n",
       " '__str__',\n",
       " '__subclasshook__',\n",
       " '__weakref__',\n",
       " 'add_diag_var',\n",
       " 'add_website_data',\n",
       " 'baseline_climo_dict',\n",
       " 'basic_info_dict',\n",
       " 'cam_climo_dict',\n",
       " 'case_nicknames',\n",
       " 'climo_yrs',\n",
       " 'compare_obs',\n",
       " 'create_climo',\n",
       " 'create_html',\n",
       " 'create_plots',\n",
       " 'create_time_series',\n",
       " 'create_website',\n",
       " 'debug_log',\n",
       " 'derived_var_list',\n",
       " 'diag_var_list',\n",
       " 'end_diag_fail',\n",
       " 'expand_references',\n",
       " 'get_baseline_info',\n",
       " 'get_basic_info',\n",
       " 'get_cam_info',\n",
       " 'get_cvdp_info',\n",
       " 'log_press',\n",
       " 'main_site_paths',\n",
       " 'num_cases',\n",
       " 'num_procs',\n",
       " 'perform_analyses',\n",
       " 'plot_location',\n",
       " 'read_config_var',\n",
       " 'regrid_climo',\n",
       " 'setup_run_cvdp',\n",
       " 'use_defaults',\n",
       " 'var_obs_dict',\n",
       " 'variable_defaults']"
      ]
     },
     "execution_count": 13,
     "metadata": {},
     "output_type": "execute_result"
    }
   ],
   "source": [
    "dir(adf)"
   ]
  },
  {
   "cell_type": "markdown",
   "id": "d16c8825-bfe4-4875-ac79-1a2de77cafb8",
   "metadata": {},
   "source": [
    "Say you want to grab the case names as a variable for later use, ie plot titles or file name, etc. The ADF object can provide that as well:"
   ]
  },
  {
   "cell_type": "code",
   "execution_count": 14,
   "id": "6c15e229-df20-4865-984c-7c7905cc80c8",
   "metadata": {},
   "outputs": [
    {
     "name": "stdout",
     "output_type": "stream",
     "text": [
      "['f.cam6_3_106.FLTHIST_v0a.ne30.dcs_non-ogw.001']\n",
      "f.cam6_3_106.FLTHIST_v0a.ne30.dcs_effgw_rdg.001\n"
     ]
    }
   ],
   "source": [
    "case_names = adf.get_cam_info(\"cam_case_name\",required=True)\n",
    "print(case_names)\n",
    "case_names = adf.get_baseline_info(\"cam_case_name\",required=True)\n",
    "print(case_names)"
   ]
  },
  {
   "cell_type": "markdown",
   "id": "5ed9f814-4c82-42db-b238-607d802e64ed",
   "metadata": {},
   "source": [
    "Grab the climo years for all cases available (observations won't have climo years from the ADF)"
   ]
  },
  {
   "cell_type": "code",
   "execution_count": 16,
   "id": "9d55f899-fc7c-4056-9fe7-89b7336bc6d0",
   "metadata": {},
   "outputs": [
    {
     "data": {
      "text/plain": [
       "{'syears': [1995],\n",
       " 'eyears': [2012],\n",
       " 'syear_baseline': 1995,\n",
       " 'eyear_baseline': 2012}"
      ]
     },
     "execution_count": 16,
     "metadata": {},
     "output_type": "execute_result"
    }
   ],
   "source": [
    "adf.climo_yrs"
   ]
  },
  {
   "cell_type": "markdown",
   "id": "2e0966d2-2bf2-4814-bc7a-c2338e5ff486",
   "metadata": {},
   "source": [
    "Grab a list of all desired variables"
   ]
  },
  {
   "cell_type": "code",
   "execution_count": 15,
   "id": "2598b080-ddcf-4bbf-800d-2517ff97bc8a",
   "metadata": {},
   "outputs": [
    {
     "data": {
      "text/plain": [
       "['FLNT',\n",
       " 'FSNT',\n",
       " 'LHFLX',\n",
       " 'LWCF',\n",
       " 'OMEGA500',\n",
       " 'PBLH',\n",
       " 'PRECL',\n",
       " 'PRECT',\n",
       " 'PS',\n",
       " 'PSL',\n",
       " 'QFLX',\n",
       " 'CLDLIQ',\n",
       " 'Q',\n",
       " 'RELHUM',\n",
       " 'SHFLX',\n",
       " 'SST',\n",
       " 'SWCF',\n",
       " 'T',\n",
       " 'TAUX',\n",
       " 'TAUY',\n",
       " 'THETA',\n",
       " 'TREFHT',\n",
       " 'TS',\n",
       " 'U',\n",
       " 'U10',\n",
       " 'ICEFRAC',\n",
       " 'OCNFRAC',\n",
       " 'LANDFRAC']"
      ]
     },
     "execution_count": 15,
     "metadata": {},
     "output_type": "execute_result"
    }
   ],
   "source": [
    "var_list = adf.diag_var_list\n",
    "list(var_list)"
   ]
  },
  {
   "cell_type": "code",
   "execution_count": null,
   "id": "58361865-df9a-4da1-ab10-10769bb09e6a",
   "metadata": {},
   "outputs": [],
   "source": []
  },
  {
   "cell_type": "markdown",
   "id": "f87e8929-65ad-422a-833d-d3eef5ec0322",
   "metadata": {},
   "source": [
    "---"
   ]
  },
  {
   "cell_type": "markdown",
   "id": "d613da3a-6f0d-49f3-8bf5-daef8b68570a",
   "metadata": {},
   "source": [
    "## ADF Standard Work Flow"
   ]
  },
  {
   "cell_type": "markdown",
   "id": "62e9958e-3237-40d4-aa0b-1f1829c56f7a",
   "metadata": {},
   "source": [
    "#### First part of ADF is to create time series files\n",
    "    \n",
    "    * if they don't already exist or input files are in time series format already\n",
    "    \n",
    "##### This is under the hood when the ADF is run via terminal"
   ]
  },
  {
   "cell_type": "code",
   "execution_count": 17,
   "id": "9728fd00-3c5b-4aab-9d82-17c114885217",
   "metadata": {},
   "outputs": [
    {
     "name": "stdout",
     "output_type": "stream",
     "text": [
      "\n",
      "  Generating CAM time series files...\n",
      "\t Processing time series for case 'f.cam6_3_106.FLTHIST_v0a.ne30.dcs_non-ogw.001' :\n",
      "\t - time series for FLNT\n",
      "\t - time series for FSNT\n",
      "\t - time series for LHFLX\n",
      "\t - time series for LWCF\n",
      "\t - time series for OMEGA500\n",
      "\t - time series for PBLH\n",
      "\t - time series for PRECL\n",
      "\t - time series for PRECT\n",
      "\t - time series for PS\n",
      "\t - time series for PSL\n",
      "\t - time series for QFLX\n",
      "\t - time series for CLDLIQ\n",
      "\t - time series for Q\n",
      "\t - time series for RELHUM\n",
      "\t - time series for SHFLX\n",
      "\t - time series for SST\n",
      "\t - time series for SWCF\n",
      "\t - time series for T\n",
      "\t - time series for TAUX\n",
      "\t - time series for TAUY\n",
      "WARNING: THETA is not in the file /glade/work/richling/ADF/adf-tutorials/data/f.cam6_3_106.FLTHIST_v0a.ne30.dcs_non-ogw.001/f.cam6_3_106.FLTHIST_v0a.ne30.dcs_non-ogw.001.cam.h0.1995-01.nc. No time series will be generated.\n",
      "\t - time series for TREFHT\n",
      "\t - time series for TS\n",
      "\t - time series for U\n",
      "\t - time series for U10\n",
      "\t - time series for ICEFRAC\n",
      "\t - time series for OCNFRAC\n",
      "\t - time series for LANDFRAC\n",
      "  ...CAM time series file generation has finished successfully.\n",
      "CPU times: user 232 ms, sys: 84.7 ms, total: 317 ms\n",
      "Wall time: 1min 59s\n"
     ]
    }
   ],
   "source": [
    "%%time\n",
    "#Create model time series.\n",
    "adf.create_time_series()"
   ]
  },
  {
   "cell_type": "code",
   "execution_count": 18,
   "id": "575c4258-76a1-45fd-b80f-6f13efd91b52",
   "metadata": {},
   "outputs": [
    {
     "name": "stdout",
     "output_type": "stream",
     "text": [
      "\n",
      "  Generating CAM time series files...\n",
      "\t Processing time series for case 'f.cam6_3_106.FLTHIST_v0a.ne30.dcs_effgw_rdg.001' :\n",
      "\t - time series for FLNT\n",
      "\t - time series for FSNT\n",
      "\t - time series for LHFLX\n",
      "\t - time series for LWCF\n",
      "\t - time series for OMEGA500\n",
      "\t - time series for PBLH\n",
      "\t - time series for PRECL\n",
      "\t - time series for PRECT\n",
      "\t - time series for PS\n",
      "\t - time series for PSL\n",
      "\t - time series for QFLX\n",
      "\t - time series for CLDLIQ\n",
      "\t - time series for Q\n",
      "\t - time series for RELHUM\n",
      "\t - time series for SHFLX\n",
      "\t - time series for SST\n",
      "\t - time series for SWCF\n",
      "\t - time series for T\n",
      "\t - time series for TAUX\n",
      "\t - time series for TAUY\n",
      "WARNING: THETA is not in the file /glade/work/richling/ADF/adf-tutorials/data/f.cam6_3_106.FLTHIST_v0a.ne30.dcs_effgw_rdg.001/f.cam6_3_106.FLTHIST_v0a.ne30.dcs_effgw_rdg.001.cam.h0.1995-01.nc. No time series will be generated.\n",
      "\t - time series for TREFHT\n",
      "\t - time series for TS\n",
      "\t - time series for U\n",
      "\t - time series for U10\n",
      "\t - time series for ICEFRAC\n",
      "\t - time series for OCNFRAC\n",
      "\t - time series for LANDFRAC\n",
      "  ...CAM time series file generation has finished successfully.\n",
      "CPU times: user 241 ms, sys: 92.5 ms, total: 333 ms\n",
      "Wall time: 2min 1s\n"
     ]
    }
   ],
   "source": [
    "%%time\n",
    "#Create model baseline time series (if needed):\n",
    "\n",
    "# Since we are doing model vs model\n",
    "if not adf.compare_obs:\n",
    "    adf.create_time_series(baseline=True)"
   ]
  },
  {
   "cell_type": "markdown",
   "id": "e1a37fe1-5789-4a31-918e-f4a73103b86e",
   "metadata": {},
   "source": [
    "#### Next, create climotology files from time series files"
   ]
  },
  {
   "cell_type": "code",
   "execution_count": 20,
   "id": "5afafe1e-9204-4a3c-9c14-aab4aae0c3da",
   "metadata": {},
   "outputs": [
    {
     "name": "stdout",
     "output_type": "stream",
     "text": [
      "\n",
      "  Calculating CAM climatologies...\n",
      "\t Calculating climatologies for case 'f.cam6_3_106.FLTHIST_v0a.ne30.dcs_non-ogw.001' :\n",
      "\t    /glade/work/richling/ADF/adf-tutorials/adf-output/climo/f.cam6_3_106.FLTHIST_v0a.ne30.dcs_non-ogw.001/fake not found, making new directory\n",
      "The input location searched was: /glade/work/richling/ADF/adf-tutorials/adf-output/ts/f.cam6_3_106.FLTHIST_v0a.ne30.dcs_non-ogw.001/fake. The glob pattern was f.cam6_3_106.FLTHIST_v0a.ne30.dcs_non-ogw.001*.THETA.*nc.\n",
      "\t Calculating climatologies for case 'f.cam6_3_106.FLTHIST_v0a.ne30.dcs_effgw_rdg.001' :\n",
      "\t    /glade/work/richling/ADF/adf-tutorials/adf-output/climo/f.cam6_3_106.FLTHIST_v0a.ne30.dcs_effgw_rdg.001/fake not found, making new directory\n",
      "The input location searched was: /glade/work/richling/ADF/adf-tutorials/adf-output/ts/f.cam6_3_106.FLTHIST_v0a.ne30.dcs_effgw_rdg.001/fake. The glob pattern was f.cam6_3_106.FLTHIST_v0a.ne30.dcs_effgw_rdg.001*.THETA.*nc.\n",
      "  ...CAM climatologies have been calculated successfully.\n",
      "CPU times: user 47.4 ms, sys: 126 ms, total: 174 ms\n",
      "Wall time: 22min 57s\n"
     ]
    }
   ],
   "source": [
    "%%time\n",
    "#Create model climatology (climo) files.\n",
    "adf.create_climo()"
   ]
  },
  {
   "cell_type": "markdown",
   "id": "89e98cf0-78b6-434c-8b79-c7ef8f53ac59",
   "metadata": {},
   "source": [
    "#### Finally, regrid climotology files"
   ]
  },
  {
   "cell_type": "code",
   "execution_count": null,
   "id": "bd217e86-cac4-4f44-89a3-da8c5c8b8a4b",
   "metadata": {},
   "outputs": [],
   "source": [
    "%%time\n",
    "#Regrid model climatology files to match either observations or CAM baseline climatologies.\n",
    "#This call uses the \"regridding_scripts\" specified in the config file:\n",
    "adf.regrid_climo()"
   ]
  },
  {
   "cell_type": "markdown",
   "id": "1b4ed913-8139-498e-a636-5eaba828a8e5",
   "metadata": {},
   "source": [
    "```\n",
    "Regridding CAM climatologies...\n",
    "    /glade/work/richling/ADF/adf-tutorials/adf-output/regrid not found, making new directory\n",
    "\t Regridding case 'f.cam6_3_106.FLTHIST_v0a.ne30.dcs_non-ogw.001' :\n",
    "\t - regridding PS (known targets: ['f.cam6_3_106.FLTHIST_v0a.ne30.dcs_effgw_rdg.001'])\n",
    "\t    /glade/work/richling/ADF/adf-tutorials/adf-output/diag-plot/f.cam6_3_106.FLTHIST_v0a.ne30.dcs_non-ogw.001_1995_2012_vs_f.cam6_3_106.FLTHIST_v0a.ne30.dcs_effgw_rdg.001_1995_2012 not found, making new directory\n",
    "\t - regridding FLNT (known targets: ['f.cam6_3_106.FLTHIST_v0a.ne30.dcs_effgw_rdg.001'])\n",
    "\t - regridding FSNT (known targets: ['f.cam6_3_106.FLTHIST_v0a.ne30.dcs_effgw_rdg.001'])\n",
    "\t - regridding LHFLX (known targets: ['f.cam6_3_106.FLTHIST_v0a.ne30.dcs_effgw_rdg.001'])\n",
    "\t - regridding LWCF (known targets: ['f.cam6_3_106.FLTHIST_v0a.ne30.dcs_effgw_rdg.001'])\n",
    "\t - regridding OMEGA500 (known targets: ['f.cam6_3_106.FLTHIST_v0a.ne30.dcs_effgw_rdg.001'])\n",
    "\t - regridding PBLH (known targets: ['f.cam6_3_106.FLTHIST_v0a.ne30.dcs_effgw_rdg.001'])\n",
    "\t - regridding PRECL (known targets: ['f.cam6_3_106.FLTHIST_v0a.ne30.dcs_effgw_rdg.001'])\n",
    "\t - regridding PRECT (known targets: ['f.cam6_3_106.FLTHIST_v0a.ne30.dcs_effgw_rdg.001'])\n",
    "\t - regridding PSL (known targets: ['f.cam6_3_106.FLTHIST_v0a.ne30.dcs_effgw_rdg.001'])\n",
    "\t - regridding QFLX (known targets: ['f.cam6_3_106.FLTHIST_v0a.ne30.dcs_effgw_rdg.001'])\n",
    "\t - regridding CLDLIQ (known targets: ['f.cam6_3_106.FLTHIST_v0a.ne30.dcs_effgw_rdg.001'])\n",
    "Please ignore the interpolation warnings that follow!\n",
    "Interpolation point out of data bounds encountered\n",
    "Interpolation point out of data bounds encountered\n",
    "Please ignore the interpolation warnings that follow!\n",
    "Interpolation point out of data bounds encountered\n",
    "Interpolation point out of data bounds encountered\n",
    "\t - regridding Q (known targets: ['f.cam6_3_106.FLTHIST_v0a.ne30.dcs_effgw_rdg.001'])\n",
    "Please ignore the interpolation warnings that follow!\n",
    "Interpolation point out of data bounds encountered\n",
    "Interpolation point out of data bounds encountered\n",
    "Please ignore the interpolation warnings that follow!\n",
    "Interpolation point out of data bounds encountered\n",
    "Interpolation point out of data bounds encountered\n",
    "\t - regridding RELHUM (known targets: ['f.cam6_3_106.FLTHIST_v0a.ne30.dcs_effgw_rdg.001'])\n",
    "Please ignore the interpolation warnings that follow!\n",
    "Interpolation point out of data bounds encountered\n",
    "Interpolation point out of data bounds encountered\n",
    "Please ignore the interpolation warnings that follow!\n",
    "Interpolation point out of data bounds encountered\n",
    "Interpolation point out of data bounds encountered\n",
    "\t - regridding SHFLX (known targets: ['f.cam6_3_106.FLTHIST_v0a.ne30.dcs_effgw_rdg.001'])\n",
    "\t - regridding SST (known targets: ['f.cam6_3_106.FLTHIST_v0a.ne30.dcs_effgw_rdg.001'])\n",
    "\t - regridding SWCF (known targets: ['f.cam6_3_106.FLTHIST_v0a.ne30.dcs_effgw_rdg.001'])\n",
    "\t - regridding T (known targets: ['f.cam6_3_106.FLTHIST_v0a.ne30.dcs_effgw_rdg.001'])\n",
    "Please ignore the interpolation warnings that follow!\n",
    "Interpolation point out of data bounds encountered\n",
    "Interpolation point out of data bounds encountered\n",
    "Please ignore the interpolation warnings that follow!\n",
    "Interpolation point out of data bounds encountered\n",
    "Interpolation point out of data bounds encountered\n",
    "\t - regridding TAUX (known targets: ['f.cam6_3_106.FLTHIST_v0a.ne30.dcs_effgw_rdg.001'])\n",
    "\t - regridding TAUY (known targets: ['f.cam6_3_106.FLTHIST_v0a.ne30.dcs_effgw_rdg.001'])\n",
    "\t - regridding THETA (known targets: ['f.cam6_3_106.FLTHIST_v0a.ne30.dcs_effgw_rdg.001'])\n",
    "\t - regridding THETA failed, no file. Continuing to next variable.\n",
    "\t - regridding TREFHT (known targets: ['f.cam6_3_106.FLTHIST_v0a.ne30.dcs_effgw_rdg.001'])\n",
    "\t - regridding TS (known targets: ['f.cam6_3_106.FLTHIST_v0a.ne30.dcs_effgw_rdg.001'])\n",
    "\t - regridding U (known targets: ['f.cam6_3_106.FLTHIST_v0a.ne30.dcs_effgw_rdg.001'])\n",
    "Please ignore the interpolation warnings that follow!\n",
    "Interpolation point out of data bounds encountered\n",
    "Interpolation point out of data bounds encountered\n",
    "Please ignore the interpolation warnings that follow!\n",
    "Interpolation point out of data bounds encountered\n",
    "Interpolation point out of data bounds encountered\n",
    "\t - regridding U10 (known targets: ['f.cam6_3_106.FLTHIST_v0a.ne30.dcs_effgw_rdg.001'])\n",
    "\t - regridding ICEFRAC (known targets: ['f.cam6_3_106.FLTHIST_v0a.ne30.dcs_effgw_rdg.001'])\n",
    "\t - regridding OCNFRAC (known targets: ['f.cam6_3_106.FLTHIST_v0a.ne30.dcs_effgw_rdg.001'])\n",
    "\t - regridding LANDFRAC (known targets: ['f.cam6_3_106.FLTHIST_v0a.ne30.dcs_effgw_rdg.001'])\n",
    "  ...CAM climatologies have been regridded successfully.\n",
    "CPU times: user 59.7 s, sys: 17.7 s, total: 1min 17s\n",
    "Wall time: 1min 27s\n",
    "```"
   ]
  },
  {
   "cell_type": "markdown",
   "id": "eab0e7fa-4511-4a81-a053-2b26e572e5a9",
   "metadata": {},
   "source": [
    "### Start diagnostics calls now"
   ]
  },
  {
   "cell_type": "markdown",
   "id": "19ebb1de-510c-4a83-a856-5ec1c0c327ef",
   "metadata": {},
   "source": [
    "##### Run the analysis script to create the AMWG tables"
   ]
  },
  {
   "cell_type": "code",
   "execution_count": null,
   "id": "362da236-bb3a-43f5-a115-88d560f2c940",
   "metadata": {},
   "outputs": [],
   "source": [
    "#Perform analyses on the simulation(s).\n",
    "#This call uses the \"analysis_scripts\" specified in the\n",
    "#config file:\n",
    "adf.perform_analyses()"
   ]
  },
  {
   "cell_type": "markdown",
   "id": "34a2219e-9366-400c-85b8-ba08ba293844",
   "metadata": {},
   "source": [
    "##### Run the plotting scripts"
   ]
  },
  {
   "cell_type": "code",
   "execution_count": null,
   "id": "f17fdd0b-5fb1-4c7a-b524-b47e5bc15738",
   "metadata": {},
   "outputs": [],
   "source": [
    "#Create plots.\n",
    "#This call uses the \"plotting_scripts\" specified\n",
    "#in the config file:\n",
    "adf.create_plots()"
   ]
  },
  {
   "cell_type": "markdown",
   "id": "efee21f1-fd83-41e5-b208-9c504283ee31",
   "metadata": {},
   "source": [
    "### Now we can generate webpage `html` files"
   ]
  },
  {
   "cell_type": "code",
   "execution_count": null,
   "id": "f6f1eb44-dc6a-4106-a7f8-38a266d8f955",
   "metadata": {},
   "outputs": [],
   "source": [
    "#Create website if requested in the config file\n",
    "if adf.create_html:\n",
    "    adf.create_website()"
   ]
  },
  {
   "cell_type": "markdown",
   "id": "b9c4e44e-f3c5-4f40-ab63-8d9b2f57d140",
   "metadata": {},
   "source": [
    "---"
   ]
  },
  {
   "cell_type": "markdown",
   "id": "bf1f4a76-0c90-4900-a7da-cb1f666e394f",
   "metadata": {},
   "source": [
    "## End single CAM vs CAM case\n",
    "\n",
    "Hope everything went well...\n"
   ]
  },
  {
   "cell_type": "code",
   "execution_count": null,
   "id": "510d65e3-90c3-4ee6-8d33-472b8beb74fa",
   "metadata": {},
   "outputs": [],
   "source": []
  },
  {
   "cell_type": "markdown",
   "id": "580ea9e4-acc4-4fd6-8000-6408843d3efd",
   "metadata": {},
   "source": [
    "###\n",
    "\n",
    "Let's use the same two CAM simulations we used to run the ADF in the terminal, but this time let's run it for climo years 2001-2005"
   ]
  },
  {
   "cell_type": "markdown",
   "id": "b3a17f8b-c867-49bd-a557-8698d5331b26",
   "metadata": {},
   "source": [
    " "
   ]
  }
 ],
 "metadata": {
  "kernelspec": {
   "display_name": "NPL-3.7.9",
   "language": "python",
   "name": "npl-3.7.9"
  },
  "language_info": {
   "codemirror_mode": {
    "name": "ipython",
    "version": 3
   },
   "file_extension": ".py",
   "mimetype": "text/x-python",
   "name": "python",
   "nbconvert_exporter": "python",
   "pygments_lexer": "ipython3",
   "version": "3.7.9"
  }
 },
 "nbformat": 4,
 "nbformat_minor": 5
}
