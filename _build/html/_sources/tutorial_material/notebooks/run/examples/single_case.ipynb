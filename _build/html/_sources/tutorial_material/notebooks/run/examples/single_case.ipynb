{
 "cells": [
  {
   "cell_type": "markdown",
   "id": "a2f87964-5ad7-43b1-a57a-3c6643ac5010",
   "metadata": {},
   "source": [
    "# Single Case\n",
    "\n",
    "By default the ADF will run a single CAM test simulation (experiment) case vs baseline (control) case."
   ]
  },
  {
   "cell_type": "markdown",
   "id": "f2d0faab-ca67-477f-94a8-37e6468bab5d",
   "metadata": {},
   "source": [
    "---"
   ]
  },
  {
   "cell_type": "markdown",
   "id": "280fbd17-a42b-4181-bac7-90d2b4e128ea",
   "metadata": {},
   "source": [
    "First step: Setup the Run-time config file\n",
    "\n",
    "Navigate to the ADF root directory if you're not already there.\n",
    "\n",
    "ADF/"
   ]
  },
  {
   "cell_type": "markdown",
   "id": "93ca71fb-1a05-4f54-82d8-0da098c23738",
   "metadata": {},
   "source": [
    "    <p><strong>user:</strong> 'USER-NAME-NOT-SET' -> <font color=\"red\">CHANGE ME!</font></p>\n",
    "    userz_boi: me"
   ]
  },
  {
   "cell_type": "markdown",
   "id": "25e350ca-9d1f-4f7c-b1ce-0f71a5927947",
   "metadata": {},
   "source": []
  },
  {
   "cell_type": "markdown",
   "id": "de3e97ad-38eb-4611-b0f1-d8b34c084486",
   "metadata": {},
   "source": []
  },
  {
   "cell_type": "markdown",
   "id": "4954243c-6ccf-41fa-a671-0ab398ec5aa6",
   "metadata": {},
   "source": []
  }
 ],
 "metadata": {
  "kernelspec": {
   "display_name": "Python 3 (ipykernel)",
   "language": "python",
   "name": "python3"
  },
  "language_info": {
   "codemirror_mode": {
    "name": "ipython",
    "version": 3
   },
   "file_extension": ".py",
   "mimetype": "text/x-python",
   "name": "python",
   "nbconvert_exporter": "python",
   "pygments_lexer": "ipython3",
   "version": "3.9.12"
  }
 },
 "nbformat": 4,
 "nbformat_minor": 5
}
