{
 "cells": [
  {
   "cell_type": "markdown",
   "id": "d4bbe372-1a9b-485f-9dc9-369e649a0a2d",
   "metadata": {},
   "source": [
    "# Explore ADF Outputs"
   ]
  },
  {
   "cell_type": "markdown",
   "id": "783078f9-a6c1-4f7f-89f3-c4824a0a62f6",
   "metadata": {},
   "source": [
    "### Check the ADF output\n",
    "\n",
    "If your ADF run completes there are a couple ways to explore the output plots\n",
    "\n",
    "###### Locally\n",
    "\n",
    "If the ADF ran successfully, we can navigate to where we set the diagnostic plots output:\n",
    "\n",
    "`````{div} full-width\n",
    "\n",
    "&ensp;On a CISL machine, navigate to the root ADF directory\n",
    "\n",
    "<code class=\"docutils literal notranslate\"><span class=\"pre\" style=\"color:black\">&emsp;/glade/scratch/&#60;user&#62;/ADF/plots/</span></code>\n",
    "\n",
    "&ensp;Then go to where you assigned the `cam_diag_plot_loc` location in the run-time config file\n",
    "\n",
    "<code class=\"docutils literal notranslate\"><span class=\"pre\" style=\"color:black\">&emsp;f.cam6_3_106.FLTHIST_v0a.ne30.dcs_non-ogw.001_1995_2000_vs_f.cam6_3_106.FLTHIST_v0a.ne30.dcs_effgw_rdg.001_1995_2000/</span></code>"
   ]
  },
  {
   "cell_type": "markdown",
   "id": "b92fe305-c1db-4a62-8f82-dd01cec71ab6",
   "metadata": {},
   "source": [
    "###### JupyterHub\n",
    "\n",
    "apidfjwd"
   ]
  },
  {
   "cell_type": "markdown",
   "id": "7f5b2abf-c1e9-4f13-a02c-78dcec6d917a",
   "metadata": {},
   "source": [
    "###### Website\n",
    "\n",
    "If you choose to create HTML files you can publish those to a web server. In the diagnostics plotting location (<code class=\"docutils literal notranslate\"><span class=\"pre\">cam_diag_plot_loc</span></code>) you set in the run-time config file, a `website` directory exists where all the html and css files are saved.\n",
    "\n",
    "\n",
    "    .\n",
    "    ├── plots\n",
    "    │   └── <test case>_<start year>_<end year>_vs_<baseline case>_<start year>_<end year>\n",
    "    │       └── website\n",
    "    │           ├── assets\n",
    "    │           ├── html_img\n",
    "    │           ├── html_table\n",
    "    │           └── templates\n",
    "\n",
    "\n"
   ]
  },
  {
   "cell_type": "markdown",
   "id": "d010c529-3220-4487-bef1-4a7fe8b76915",
   "metadata": {},
   "source": [
    "Example: If you have a project page on a CGD machine like Tungsten, it is a simple secure copy of files to the server:\n",
    "\n",
    "<style>\n",
    "    #box {\n",
    "    word-wrap:normal;\n",
    "    overflow:scroll;\n",
    "}\n",
    "</style>\n",
    "\n",
    "\n",
    "&ensp;Navigate to the `cam_diag_plot_loc` location and copy all the files from the `website` directory to the server address:\n",
    "\n",
    "&emsp;For Tungsten:\n",
    "&emsp;    <code class=\"docutils literal notranslate\"><span class=\"pre\" style=\"color: black;\">scp -r website/* tungsten.cgd.ucar.edu:/path/to/your/project/page/</span></code>\n",
    "\n",
    "<div class=\"admonition tip\" style=\"padding-right: 7px\">\n",
    "<div><h6>A sample website:</h6></div>\n",
    "<p><a href=\"https://webext.cgd.ucar.edu/FLTHIST/f.cam6_3_132.FLTHIST_ne30.001/atm/f.cam6_3_132.FLTHIST_ne30.001_1995_2011_vs_f.cam6_3_119.FLTHIST_ne30.r328_gamma0.33_soae.001_1995_2011/index.html\" target=\"_blank\">f.cam6_3_132.FLTHIST_ne30.001 vs f.cam6_3_119.FLTHIST_ne30.r328_gamma0.33_soae.001</a></p>\n",
    "</div>\n",
    "\n",
    "---"
   ]
  }
 ],
 "metadata": {
  "kernelspec": {
   "display_name": "Python 3 (ipykernel)",
   "language": "python",
   "name": "python3"
  },
  "language_info": {
   "codemirror_mode": {
    "name": "ipython",
    "version": 3
   },
   "file_extension": ".py",
   "mimetype": "text/x-python",
   "name": "python",
   "nbconvert_exporter": "python",
   "pygments_lexer": "ipython3",
   "version": "3.9.12"
  }
 },
 "nbformat": 4,
 "nbformat_minor": 5
}
