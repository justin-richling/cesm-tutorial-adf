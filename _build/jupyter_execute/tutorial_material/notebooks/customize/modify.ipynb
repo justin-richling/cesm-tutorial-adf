{
 "cells": [
  {
   "cell_type": "markdown",
   "id": "1b31ec5c",
   "metadata": {},
   "source": [
    "# Modify ADF Structure\n",
    "\n",
    "This is a more advanced example of modifying the ADF"
   ]
  },
  {
   "cell_type": "code",
   "execution_count": null,
   "id": "a079e882",
   "metadata": {},
   "outputs": [],
   "source": []
  }
 ],
 "metadata": {
  "kernelspec": {
   "display_name": "Python 3 (ipykernel)",
   "language": "python",
   "name": "python3"
  },
  "language_info": {
   "codemirror_mode": {
    "name": "ipython",
    "version": 3
   },
   "file_extension": ".py",
   "mimetype": "text/x-python",
   "name": "python",
   "nbconvert_exporter": "python",
   "pygments_lexer": "ipython3",
   "version": "3.9.7"
  }
 },
 "nbformat": 4,
 "nbformat_minor": 5
}