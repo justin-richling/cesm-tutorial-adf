{
 "cells": [
  {
   "cell_type": "markdown",
   "id": "eccd2504-9610-4063-b795-717627d66e45",
   "metadata": {},
   "source": [
    "# Conda Env"
   ]
  },
  {
   "cell_type": "markdown",
   "id": "c3737bcf-2ad1-4ca8-84de-eafb14c41ef4",
   "metadata": {},
   "source": [
    "Here is a collection of necessary packages to run the ADF built into a conda environment.\n",
    "\n"
   ]
  }
 ],
 "metadata": {
  "kernelspec": {
   "display_name": "Python 3 (ipykernel)",
   "language": "python",
   "name": "python3"
  },
  "language_info": {
   "codemirror_mode": {
    "name": "ipython",
    "version": 3
   },
   "file_extension": ".py",
   "mimetype": "text/x-python",
   "name": "python",
   "nbconvert_exporter": "python",
   "pygments_lexer": "ipython3",
   "version": "3.9.12"
  }
 },
 "nbformat": 4,
 "nbformat_minor": 5
}
