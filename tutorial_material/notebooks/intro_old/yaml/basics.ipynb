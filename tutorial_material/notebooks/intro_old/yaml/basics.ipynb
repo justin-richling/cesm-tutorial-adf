{
 "cells": [
  {
   "cell_type": "markdown",
   "id": "b4e6cb20-7d66-459f-ac86-cdec8ec5df7a",
   "metadata": {},
   "source": [
    "# YAML File Basics\n",
    "\n",
    "Basic tips and tricks for using the yaml file in the ADF config files"
   ]
  },
  {
   "cell_type": "markdown",
   "id": "dbd4582c-9821-406d-a7f8-78d25fb56016",
   "metadata": {},
   "source": [
    "A couple of notes about using the ADF yaml files:\n",
    "&ensp;&ensp;Variables can be referenced within the yaml file<br>\n",
    "&ensp;&ensp;Variables <strong>cannot</strong> be used in nested varaibles lists<br>\n",
    "&ensp;&ensp;&ensp;&ensp;ie: \n",
    "\n",
    "\n",
    "\n",
    "\n",
    "\n",
    "`````{admonition} ** does not work **\n",
    ":class: error\n",
    "<p><strong>user:</strong> richling<br>\n",
    "<strong>case:</strong> some_run<br>\n",
    "<strong>some_path:</strong><br>\n",
    "&ensp;&ensp;&ensp;- /glade/u/home/${user}<br>\n",
    "&ensp;&ensp;&ensp;- /glade/u/home/${user}/${case}\n",
    "</p>\n",
    "`````\n",
    "\n",
    "```{admonition} ** works **\n",
    "<p><strong>some_path:</strong><br>\n",
    "&ensp;&ensp;&ensp;- /glade/u/home/richling<br>\n",
    "&ensp;&ensp;&ensp;- /glade/u/home/richling/some_run\n",
    "</p>\n",
    "```"
   ]
  },
  {
   "cell_type": "markdown",
   "id": "e62fd9fe-8d11-4532-89cb-cafbbb471b4a",
   "metadata": {},
   "source": []
  },
  {
   "cell_type": "markdown",
   "id": "143f3bf6-f315-4c6a-b306-608c4eae8b1d",
   "metadata": {},
   "source": []
  },
  {
   "cell_type": "markdown",
   "id": "7e6b4255-8666-4214-995a-09b233b3fd53",
   "metadata": {},
   "source": []
  },
  {
   "cell_type": "markdown",
   "id": "375a1f37-93c0-453f-83e2-944addc7e224",
   "metadata": {},
   "source": []
  },
  {
   "cell_type": "markdown",
   "id": "850e7084-af19-4455-bd37-32897fa6c803",
   "metadata": {},
   "source": []
  }
 ],
 "metadata": {
  "kernelspec": {
   "display_name": "Python 3 (ipykernel)",
   "language": "python",
   "name": "python3"
  },
  "language_info": {
   "codemirror_mode": {
    "name": "ipython",
    "version": 3
   },
   "file_extension": ".py",
   "mimetype": "text/x-python",
   "name": "python",
   "nbconvert_exporter": "python",
   "pygments_lexer": "ipython3",
   "version": "3.9.12"
  }
 },
 "nbformat": 4,
 "nbformat_minor": 5
}
