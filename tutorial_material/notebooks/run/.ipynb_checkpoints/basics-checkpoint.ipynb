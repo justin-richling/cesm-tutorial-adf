{
 "cells": [
  {
   "cell_type": "markdown",
   "id": "b650d423-ec58-44bd-aa05-a177f16d3efa",
   "metadata": {},
   "source": [
    "# Running ADF Basics\n",
    "\n",
    "Now that the environment is setup with the required modules loaded and the ADF cloned let's put it all together and do a CAM vs CAM comparison!"
   ]
  },
  {
   "cell_type": "markdown",
   "id": "b880e21b-26d6-47c9-a759-532aff7fe31d",
   "metadata": {},
   "source": [
    "## How to run the ADF\n",
    "\n",
    "There are two ways to run the ADF, the first and most stright forward is runnning the ADF in the terminal and the second is via Jupyter.\n",
    "\n",
    "The first steps are to set the desired (and required) variables in the config yaml file(s). In this demo, we will run the ADF standard variable defaults file (`adf_variable_defaults.yaml`), but feel free to explore making your own, please refer back to the <a href=\"https://justin-richling.github.io/ADF-Tutorial/notebooks/intro/yaml/adf_variable_defaults.html\" target=\"_blank\">Variable Defaults</a> yaml section.\n",
    "\n",
    "\n",
    "\n",
    "\n",
    "## Types of ADF Comparisons\n",
    "\n",
    "There are a couple different ADF runs one can do:\n",
    "\n",
    "<p>Single Case Comparison</p>\n",
    "<p>Multiple Case Comparison**</p>\n",
    "<p style=\"margin-top: -15px;\">&ensp; ** In progress, will not be part of this tutorial currently :(</p>\n",
    "\n",
    "## Available Comparison Cases\n",
    "\n",
    "There are essentially 3 types of comparisons:\n",
    "\n",
    "* CAM vs CAM\n",
    "* CAM vs Observations/Reanalysis\n",
    "* CAM vs CMIP\n",
    "\n",
    "Each have their own requirements for the run-time config file (eg `config_cam_baseline_example`). The requirements for each type of comparison will be addressed in their respective sections of this tutorial.\n"
   ]
  },
  {
   "cell_type": "markdown",
   "id": "ebc4c1ff-23c6-4831-a626-88eb4949cbe9",
   "metadata": {},
   "source": [
    "---"
   ]
  },
  {
   "cell_type": "markdown",
   "id": "dcc6fe42-adab-4852-b47d-e19ce0ff33d3",
   "metadata": {},
   "source": [
    "## Running ADF in Terminal"
   ]
  },
  {
   "cell_type": "markdown",
   "id": "32316e0d-2250-4ae3-9695-ad8195829796",
   "metadata": {},
   "source": []
  },
  {
   "cell_type": "markdown",
   "id": "8d2b4551-8dbb-4f9f-ac1c-558eb9422a68",
   "metadata": {},
   "source": []
  },
  {
   "cell_type": "code",
   "execution_count": null,
   "id": "5d69d88c-7c1e-47c0-b4d6-43c01aec9967",
   "metadata": {},
   "outputs": [],
   "source": []
  },
  {
   "cell_type": "code",
   "execution_count": null,
   "id": "d746810c-9031-46ab-8719-ebcb5a8b2cd9",
   "metadata": {},
   "outputs": [],
   "source": []
  },
  {
   "cell_type": "code",
   "execution_count": null,
   "id": "6b3b16c6-cf00-4617-934d-c2aef63c3015",
   "metadata": {},
   "outputs": [],
   "source": []
  },
  {
   "cell_type": "markdown",
   "id": "1c335d7f-5cbe-4b59-9dce-6cc30f20b2c2",
   "metadata": {},
   "source": []
  },
  {
   "cell_type": "markdown",
   "id": "2a94bba4-4887-4136-a744-eb3951579939",
   "metadata": {},
   "source": [
    "## Running ADF via Jupyter"
   ]
  },
  {
   "cell_type": "code",
   "execution_count": null,
   "id": "ebf7f332-ebb9-41f7-878e-97db86779922",
   "metadata": {},
   "outputs": [],
   "source": []
  }
 ],
 "metadata": {
  "kernelspec": {
   "display_name": "NPL-3.7.9",
   "language": "python",
   "name": "npl-3.7.9"
  },
  "language_info": {
   "codemirror_mode": {
    "name": "ipython",
    "version": 3
   },
   "file_extension": ".py",
   "mimetype": "text/x-python",
   "name": "python",
   "nbconvert_exporter": "python",
   "pygments_lexer": "ipython3",
   "version": "3.7.9"
  }
 },
 "nbformat": 4,
 "nbformat_minor": 5
}
