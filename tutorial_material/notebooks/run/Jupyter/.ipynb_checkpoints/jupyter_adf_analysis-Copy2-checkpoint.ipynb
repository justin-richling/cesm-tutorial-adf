{
 "cells": [
  {
   "cell_type": "markdown",
   "id": "0a8d9910",
   "metadata": {},
   "source": [
    "# Analysing ADF Output via Jupyter\n",
    "\n",
    "In addition to running the ADF via Jupyter, the ADF output can also be analyzed in Jupyter Notebooks!\n",
    "\n",
    "Accessing the ADF through Jupyter will aid in having the paths of the data and all the metadata already stored"
   ]
  },
  {
   "cell_type": "markdown",
   "id": "b1d22a1c-2f4a-4cff-a02a-a99ff249e47e",
   "metadata": {},
   "source": [
    "For this example we will explore the run the already done ADF diagnostics for two different CAM simulations for a 5 years, 1995-2000\n",
    "\n",
    "<p>The test (experiment) case is <code class=\"docutils literal notranslate\"><span class=\"pre\">f.cam6_3_106.FLTHIST_v0a.ne30.dcs_non-ogw.001</span></code></p>\n",
    "<p style=\"margin-top: -15px;\">The baseline (control) case is <code class=\"docutils literal notranslate\"><span class=\"pre\">f.cam6_3_106.FLTHIST_v0a.ne30.dcs_effgw_rdg.001</span></code></p>"
   ]
  },
  {
   "cell_type": "code",
   "execution_count": null,
   "id": "3b9ed14e",
   "metadata": {},
   "outputs": [],
   "source": [
    "%matplotlib inline\n",
    "\n",
    "import os.path\n",
    "from pathlib import Path\n",
    "import sys"
   ]
  },
  {
   "cell_type": "code",
   "execution_count": null,
   "id": "44f3a088-fc30-4010-b452-eb743322f296",
   "metadata": {},
   "outputs": [],
   "source": [
    "# Determine ADF directory path\n",
    "# If it is in your cwd, set adf_path = local_path, \n",
    "# otherwise set adf_path appropriately\n",
    "\n",
    "local_path = os.path.abspath('')"
   ]
  },
  {
   "cell_type": "code",
   "execution_count": null,
   "id": "3162306b-d06e-44d0-8e18-8e9495039202",
   "metadata": {},
   "outputs": [
    {
     "name": "stdout",
     "output_type": "stream",
     "text": [
      "current working directory = /glade/work/richling/ADF/adf-tutorials/ADF-Tutorial/notebooks/run\n",
      "ADF path                  = /glade/work/richling/ADF/ADF_dev/Justin_ADF/ADF\n"
     ]
    }
   ],
   "source": [
    "# You can change the path to ADF (git branch) so it can be different than the\n",
    "# current location\n",
    "\n",
    "#adf_path = \"/path/to/your/ADF\"\n",
    "adf_path = \"/glade/work/richling/ADF/ADF_dev/Justin_ADF/ADF\"\n",
    "\n",
    "print(f\"current working directory = {local_path}\")\n",
    "print(f\"ADF path                  = {adf_path}\")"
   ]
  },
  {
   "cell_type": "code",
   "execution_count": null,
   "id": "ee605022-5fc2-4822-950b-bef7e3999212",
   "metadata": {},
   "outputs": [
    {
     "name": "stdout",
     "output_type": "stream",
     "text": [
      "The lib scripts live here, right? /glade/work/richling/ADF/ADF_dev/Justin_ADF/ADF/lib\n",
      "The plotting scripts live here, right? /glade/work/richling/ADF/ADF_dev/Justin_ADF/ADF/scripts/plotting\n"
     ]
    }
   ],
   "source": [
    "#set path to ADF lib\n",
    "lib_path = os.path.join(adf_path,\"lib\")\n",
    "print(f\"The lib scripts live here, right? {lib_path}\")\n",
    "\n",
    "#set path to ADF plotting scripts directory\n",
    "plotting_scripts_path = os.path.join(adf_path,\"scripts\",\"plotting\")\n",
    "print(f\"The plotting scripts live here, right? {plotting_scripts_path}\")\n",
    "\n",
    "#Add paths to python path:\n",
    "sys.path.append(lib_path)\n",
    "sys.path.append(plotting_scripts_path)"
   ]
  },
  {
   "cell_type": "code",
   "execution_count": null,
   "id": "afed5364-827c-422a-89cf-f6d337e9790b",
   "metadata": {},
   "outputs": [
    {
     "name": "stderr",
     "output_type": "stream",
     "text": [
      "ERROR 1: PROJ: proj_create_from_database: Open of /glade/u/apps/opt/conda/envs/npl-2022b/share/proj failed\n"
     ]
    }
   ],
   "source": [
    "#import ADF diagnostics object\n",
    "from adf_diag import AdfDiag\n",
    "\n",
    "# If this fails, check your paths output in the cells above,\n",
    "# and that you are running the NPL (conda) Kernel\n",
    "# You can see all the paths being examined by un-commenting the following:\n",
    "#sys.path"
   ]
  },
  {
   "cell_type": "code",
   "execution_count": null,
   "id": "8acb0f9e-0e0c-4823-b131-a49c0a8663ae",
   "metadata": {},
   "outputs": [],
   "source": []
  },
  {
   "cell_type": "markdown",
   "id": "a9a3dd0c-97c9-4872-9269-817a098a4acd",
   "metadata": {},
   "source": [
    "### Single CAM vs CAM case\n",
    "---"
   ]
  },
  {
   "cell_type": "markdown",
   "id": "6fe1b7cc-e3eb-40e6-82fe-25dcb925f92d",
   "metadata": {},
   "source": [
    "##### Config yaml file location and name"
   ]
  },
  {
   "cell_type": "code",
   "execution_count": null,
   "id": "9586b36f-fa23-43b4-ae4a-f6c464fc5178",
   "metadata": {},
   "outputs": [],
   "source": [
    "# Set path for config YAML file\n",
    "#config_path = \"/path/to/your/yaml/file/\"\n",
    "config_path = \"/glade/work/richling/ADF/adf-tutorials/ADF-Tutorial/config_files/\"\n",
    "\n",
    "# Set name of config YAML file:\n",
    "config_fil_str = \"config_model_vs_model_single.yaml\"\n",
    "\n",
    "# Make full path to config file\n",
    "config_file=os.path.join(config_path,config_fil_str)"
   ]
  },
  {
   "cell_type": "code",
   "execution_count": null,
   "id": "1466c675-2fbe-4d13-97fb-db863a150e48",
   "metadata": {},
   "outputs": [
    {
     "data": {
      "text/plain": [
       "<adf_diag.AdfDiag at 0x2b4984b32b80>"
      ]
     },
     "execution_count": 8,
     "metadata": {},
     "output_type": "execute_result"
    }
   ],
   "source": [
    "#Initialize ADF object with config file\n",
    "adf = AdfDiag(config_file)\n",
    "adf"
   ]
  },
  {
   "cell_type": "markdown",
   "id": "5c97b667-f8e2-4a39-a56a-91e2c04c3474",
   "metadata": {},
   "source": [
    "## Let's look at some basic info from the ADF"
   ]
  },
  {
   "cell_type": "markdown",
   "id": "1b3a458d-fba3-43f8-bf24-8414297085c1",
   "metadata": {},
   "source": [
    "#### Read out some of the declared variables from the config file"
   ]
  },
  {
   "cell_type": "code",
   "execution_count": null,
   "id": "14714bf6-e9d3-45c4-85ec-0fde25ef917f",
   "metadata": {},
   "outputs": [
    {
     "data": {
      "text/plain": [
       "['compare_obs',\n",
       " 'create_html',\n",
       " 'obs_data_loc',\n",
       " 'cam_regrid_loc',\n",
       " 'cam_overwrite_regrid',\n",
       " 'cam_diag_plot_loc',\n",
       " 'use_defaults',\n",
       " 'plot_press_levels',\n",
       " 'weight_season',\n",
       " 'num_procs',\n",
       " 'redo_plot']"
      ]
     },
     "execution_count": 9,
     "metadata": {},
     "output_type": "execute_result"
    }
   ],
   "source": [
    "basic_info_dict = adf.read_config_var(\"diag_basic_info\")\n",
    "list(basic_info_dict)"
   ]
  },
  {
   "cell_type": "code",
   "execution_count": null,
   "id": "62783899-28e4-4740-abca-444c2712198c",
   "metadata": {},
   "outputs": [
    {
     "name": "stdout",
     "output_type": "stream",
     "text": [
      "'get basic info' found compare_obs = False\n"
     ]
    }
   ],
   "source": [
    "# Quick check if we are comparing against obs, in case we forgot our ginkaloba pills this morning\n",
    "obs = adf.get_basic_info('compare_obs')\n",
    "print(\"'get basic info' found compare_obs =\",obs)"
   ]
  },
  {
   "cell_type": "code",
   "execution_count": null,
   "id": "98539f1c-047b-46d2-bcd6-8dad72483646",
   "metadata": {},
   "outputs": [
    {
     "data": {
      "text/plain": [
       "False"
      ]
     },
     "execution_count": 11,
     "metadata": {},
     "output_type": "execute_result"
    }
   ],
   "source": [
    "# A similar but different way to check directly from the adf object:\n",
    "adf.compare_obs"
   ]
  },
  {
   "cell_type": "code",
   "execution_count": null,
   "id": "ba7c5089-722c-48dd-a830-9c35996bbac6",
   "metadata": {},
   "outputs": [
    {
     "data": {
      "text/plain": [
       "['calc_cam_climo',\n",
       " 'cam_overwrite_climo',\n",
       " 'cam_case_name',\n",
       " 'cam_hist_loc',\n",
       " 'cam_climo_loc',\n",
       " 'start_year',\n",
       " 'end_year',\n",
       " 'cam_ts_done',\n",
       " 'cam_ts_save',\n",
       " 'cam_overwrite_ts',\n",
       " 'cam_ts_loc',\n",
       " 'case_nickname']"
      ]
     },
     "execution_count": 12,
     "metadata": {},
     "output_type": "execute_result"
    }
   ],
   "source": [
    "# Baseline case details\n",
    "baseline_dict = adf.read_config_var(\"diag_cam_baseline_climo\")\n",
    "list(baseline_dict)"
   ]
  },
  {
   "cell_type": "code",
   "execution_count": null,
   "id": "41e8fed4-9c08-46bb-a520-ac6bfa82447e",
   "metadata": {},
   "outputs": [
    {
     "data": {
      "text/plain": [
       "['_AdfBase__debug_log',\n",
       " '_AdfConfig__config_dict',\n",
       " '_AdfConfig__create_search_dict',\n",
       " '_AdfConfig__expand_yaml_var_ref',\n",
       " '_AdfConfig__kword_pattern',\n",
       " '_AdfConfig__search_dict',\n",
       " '_AdfDiag__analysis_scripts',\n",
       " '_AdfDiag__cvdp_info',\n",
       " '_AdfDiag__diag_scripts_caller',\n",
       " '_AdfDiag__function_caller',\n",
       " '_AdfDiag__plotting_scripts',\n",
       " '_AdfDiag__regridding_scripts',\n",
       " '_AdfDiag__time_averaging_scripts',\n",
       " '_AdfInfo__base_nickname',\n",
       " '_AdfInfo__basic_info',\n",
       " '_AdfInfo__cam_bl_climo_info',\n",
       " '_AdfInfo__cam_climo_info',\n",
       " '_AdfInfo__compare_obs',\n",
       " '_AdfInfo__derived_var_list',\n",
       " '_AdfInfo__diag_var_list',\n",
       " '_AdfInfo__eyear_baseline',\n",
       " '_AdfInfo__eyears',\n",
       " '_AdfInfo__num_cases',\n",
       " '_AdfInfo__num_procs',\n",
       " '_AdfInfo__plot_location',\n",
       " '_AdfInfo__syear_baseline',\n",
       " '_AdfInfo__syears',\n",
       " '_AdfInfo__test_nicknames',\n",
       " '_AdfObs__use_defaults',\n",
       " '_AdfObs__var_obs_dict',\n",
       " '_AdfObs__variable_defaults',\n",
       " '_AdfWeb__case_web_paths',\n",
       " '_AdfWeb__plot_type_multi',\n",
       " '_AdfWeb__plot_type_order',\n",
       " '_AdfWeb__website_data',\n",
       " '__class__',\n",
       " '__delattr__',\n",
       " '__dict__',\n",
       " '__dir__',\n",
       " '__doc__',\n",
       " '__eq__',\n",
       " '__format__',\n",
       " '__ge__',\n",
       " '__getattribute__',\n",
       " '__gt__',\n",
       " '__hash__',\n",
       " '__init__',\n",
       " '__init_subclass__',\n",
       " '__le__',\n",
       " '__lt__',\n",
       " '__module__',\n",
       " '__ne__',\n",
       " '__new__',\n",
       " '__reduce__',\n",
       " '__reduce_ex__',\n",
       " '__repr__',\n",
       " '__setattr__',\n",
       " '__sizeof__',\n",
       " '__str__',\n",
       " '__subclasshook__',\n",
       " '__weakref__',\n",
       " 'add_diag_var',\n",
       " 'add_website_data',\n",
       " 'baseline_climo_dict',\n",
       " 'basic_info_dict',\n",
       " 'cam_climo_dict',\n",
       " 'case_nicknames',\n",
       " 'climo_yrs',\n",
       " 'compare_obs',\n",
       " 'create_climo',\n",
       " 'create_html',\n",
       " 'create_plots',\n",
       " 'create_time_series',\n",
       " 'create_website',\n",
       " 'debug_log',\n",
       " 'derived_var_list',\n",
       " 'diag_var_list',\n",
       " 'end_diag_fail',\n",
       " 'expand_references',\n",
       " 'get_baseline_info',\n",
       " 'get_basic_info',\n",
       " 'get_cam_info',\n",
       " 'get_cvdp_info',\n",
       " 'log_press',\n",
       " 'main_site_paths',\n",
       " 'num_cases',\n",
       " 'num_procs',\n",
       " 'perform_analyses',\n",
       " 'plot_location',\n",
       " 'read_config_var',\n",
       " 'regrid_climo',\n",
       " 'setup_run_cvdp',\n",
       " 'use_defaults',\n",
       " 'var_obs_dict',\n",
       " 'variable_defaults']"
      ]
     },
     "execution_count": 13,
     "metadata": {},
     "output_type": "execute_result"
    }
   ],
   "source": [
    "dir(adf)"
   ]
  },
  {
   "cell_type": "code",
   "execution_count": 14,
   "id": "6c15e229-df20-4865-984c-7c7905cc80c8",
   "metadata": {},
   "outputs": [
    {
     "name": "stdout",
     "output_type": "stream",
     "text": [
      "['f.cam6_3_106.FLTHIST_v0a.ne30.dcs_non-ogw.001']\n",
      "f.cam6_3_106.FLTHIST_v0a.ne30.dcs_effgw_rdg.001\n"
     ]
    }
   ],
   "source": [
    "case_names = adf.get_cam_info(\"cam_case_name\",required=True)\n",
    "print(case_names)\n",
    "case_names = adf.get_baseline_info(\"cam_case_name\",required=True)\n",
    "print(case_names)"
   ]
  },
  {
   "cell_type": "code",
   "execution_count": 16,
   "id": "9d55f899-fc7c-4056-9fe7-89b7336bc6d0",
   "metadata": {},
   "outputs": [
    {
     "data": {
      "text/plain": [
       "{'syears': [1995],\n",
       " 'eyears': [2012],\n",
       " 'syear_baseline': 1995,\n",
       " 'eyear_baseline': 2012}"
      ]
     },
     "execution_count": 16,
     "metadata": {},
     "output_type": "execute_result"
    }
   ],
   "source": [
    "adf.climo_yrs"
   ]
  },
  {
   "cell_type": "code",
   "execution_count": 15,
   "id": "2598b080-ddcf-4bbf-800d-2517ff97bc8a",
   "metadata": {},
   "outputs": [
    {
     "data": {
      "text/plain": [
       "['FLNT',\n",
       " 'FSNT',\n",
       " 'LHFLX',\n",
       " 'LWCF',\n",
       " 'OMEGA500',\n",
       " 'PBLH',\n",
       " 'PRECL',\n",
       " 'PRECT',\n",
       " 'PS',\n",
       " 'PSL',\n",
       " 'QFLX',\n",
       " 'CLDLIQ',\n",
       " 'Q',\n",
       " 'RELHUM',\n",
       " 'SHFLX',\n",
       " 'SST',\n",
       " 'SWCF',\n",
       " 'T',\n",
       " 'TAUX',\n",
       " 'TAUY',\n",
       " 'THETA',\n",
       " 'TREFHT',\n",
       " 'TS',\n",
       " 'U',\n",
       " 'U10',\n",
       " 'ICEFRAC',\n",
       " 'OCNFRAC',\n",
       " 'LANDFRAC']"
      ]
     },
     "execution_count": 15,
     "metadata": {},
     "output_type": "execute_result"
    }
   ],
   "source": [
    "var_list = adf.diag_var_list\n",
    "list(var_list)"
   ]
  },
  {
   "cell_type": "code",
   "execution_count": null,
   "id": "58361865-df9a-4da1-ab10-10769bb09e6a",
   "metadata": {},
   "outputs": [],
   "source": []
  },
  {
   "cell_type": "markdown",
   "id": "f87e8929-65ad-422a-833d-d3eef5ec0322",
   "metadata": {},
   "source": [
    "---"
   ]
  },
  {
   "cell_type": "markdown",
   "id": "b3a17f8b-c867-49bd-a557-8698d5331b26",
   "metadata": {},
   "source": [
    " "
   ]
  },
  {
   "cell_type": "markdown",
   "id": "400e17a9-9c1b-4503-9e1a-46dba45f6abb",
   "metadata": {},
   "source": [
    "### Now some custom plotting, what do you think?\n",
    "\n",
    "Let's take the time series files the ADF produced and make some time series plots\n",
    "\n",
    "* Climo years will be on the x-axis and variable values will be on the y-axis"
   ]
  },
  {
   "cell_type": "code",
   "execution_count": 30,
   "id": "1e3abd95-5c31-44ad-8d1b-3f44b6d58b27",
   "metadata": {},
   "outputs": [],
   "source": [
    "import os.path\n",
    "import sys\n",
    "import glob\n",
    "from pathlib import Path\n",
    "\n",
    "# Import necessary packages for the new script\n",
    "import numpy as np\n",
    "import matplotlib.pyplot as plt\n",
    "from matplotlib.ticker import MultipleLocator\n",
    "from matplotlib.lines import Line2D\n",
    "\n",
    "import xarray as xr"
   ]
  },
  {
   "cell_type": "code",
   "execution_count": 31,
   "id": "fdd03cd0-a077-4db4-96d0-59551e72b913",
   "metadata": {},
   "outputs": [],
   "source": [
    "case_names = adf.get_cam_info('cam_case_name', required=True)\n",
    "case_names_len = len(case_names)\n",
    "data_name = adf.get_baseline_info('cam_case_name', required=False)\n",
    "\n",
    "case_ts_loc = adf.get_cam_info(\"cam_ts_loc\", required=True)\n",
    "data_ts_loc = adf.get_baseline_info(\"cam_ts_loc\", required=False)\n",
    " \n",
    "res = adf.variable_defaults # dict of variable-specific plot preferences\n",
    "# or an empty dictionary if use_defaults was not specified in YAML.\n",
    "\n",
    "start_year = adf.climo_yrs[\"syears\"]\n",
    "end_year = adf.climo_yrs[\"eyears\"]\n",
    "\n",
    "case_ts_locs = []\n",
    "for i,val in enumerate(case_ts_loc):\n",
    "    case_ts_locs.append(f\"{val}/{start_year[i]}-{end_year[i]}/\")\n",
    "\n",
    "bl_syr = adf.climo_yrs[\"syear_baseline\"]\n",
    "bl_eyr = adf.climo_yrs[\"eyear_baseline\"]"
   ]
  },
  {
   "cell_type": "code",
   "execution_count": 32,
   "id": "b01fb28b-19a7-477a-ba45-46cc38999044",
   "metadata": {},
   "outputs": [],
   "source": [
    "def _load_dataset(fils):\n",
    "    if len(fils) == 0:\n",
    "        print(\"Input file list is empty.\")\n",
    "        return None\n",
    "    elif len(fils) > 1:\n",
    "        return xr.open_mfdataset(fils, combine='by_coords')\n",
    "    else:\n",
    "        sfil = str(fils[0])\n",
    "        return xr.open_dataset(sfil)\n",
    "    #End if\n",
    "#End def"
   ]
  },
  {
   "cell_type": "code",
   "execution_count": 33,
   "id": "76962e45-8bc2-4bbc-a607-b5f049cce031",
   "metadata": {},
   "outputs": [],
   "source": [
    "def _data_calcs(ts_loc,var,subset=None):\n",
    "    \"\"\"\n",
    "    args\n",
    "    ----\n",
    "     - ts_loc: Path\n",
    "         path to time series file\n",
    "         \n",
    "     - var: str\n",
    "         name of variable\n",
    "         \n",
    "     - subset: dict \n",
    "         lat/lon extents (south, north, east, west)\n",
    "    \"\"\"\n",
    "    fils = sorted(list(Path(ts_loc).glob(f\"*{var}*.nc\")))\n",
    "\n",
    "    ts_ds = _load_dataset(fils)\n",
    "    \n",
    "    time = ts_ds['time']\n",
    "    time = xr.DataArray(ts_ds['time_bnds'].load().mean(dim='nbnd').values, dims=time.dims, attrs=time.attrs)\n",
    "    ts_ds['time'] = time\n",
    "    ts_ds.assign_coords(time=time)\n",
    "    ts_ds = xr.decode_cf(ts_ds)\n",
    "    \n",
    "    if subset != None:\n",
    "        ts_ds = ts_ds.sel(lat=slice(subset[\"s\"],subset[\"n\"]), lon=slice(subset[\"w\"],subset[\"e\"])) \n",
    "    \n",
    "    data = ts_ds[var].squeeze()\n",
    "    unit = data.units\n",
    "    \n",
    "    # global weighting\n",
    "    w = np.cos(np.radians(data.lat))\n",
    "    avg = data.weighted(w).mean(dim=(\"lat\",\"lon\"))\n",
    "    \n",
    "    yrs = np.unique([str(val.item().timetuple().tm_year).zfill(4) for _,val in enumerate(ts_ds[\"time\"])])\n",
    "\n",
    "    return avg,yrs,unit"
   ]
  },
  {
   "cell_type": "code",
   "execution_count": 34,
   "id": "d1ae65da-4a03-40f2-b6f9-393f6bbb16a1",
   "metadata": {},
   "outputs": [],
   "source": [
    "def ts_plot(ax, name, vals, yrs, unit, color_dict,linewidth=None,zorder=1):\n",
    "    \"\"\"\n",
    "    args\n",
    "    ----\n",
    "     - color_dict: dict\n",
    "         color and marker style for variable\n",
    "    \"\"\"\n",
    "\n",
    "    ax.plot(yrs, vals, color_dict[\"marker\"], c=color_dict[\"color\"],label=name,linewidth=linewidth,zorder=zorder)\n",
    "\n",
    "    ax.set_xlabel(\"Years\",fontsize=15,labelpad=20)\n",
    "    ax.set_ylabel(unit,fontsize=15,labelpad=20)  \n",
    "\n",
    "    # For the minor ticks, use no labels; default NullFormatter.\n",
    "    ax.tick_params(which='major', length=7)\n",
    "    ax.tick_params(which='minor', length=5)  \n",
    "\n",
    "    \n",
    "    \n",
    "    return ax"
   ]
  },
  {
   "cell_type": "code",
   "execution_count": 35,
   "id": "60c54086-3496-47fd-a090-4c020a955b94",
   "metadata": {},
   "outputs": [],
   "source": [
    "def plot_var_details(ax, var, vals_cases, vals_base):\n",
    "    \n",
    "    mins = []\n",
    "    maxs = []\n",
    "    for i,val in enumerate(vals_cases):\n",
    "\n",
    "        mins.append(np.nanmin(vals_cases[i]))\n",
    "        maxs.append(np.nanmax(vals_cases[i]))\n",
    "\n",
    "    mins.append(np.nanmin(vals_base))\n",
    "    maxs.append(np.nanmax(vals_base))\n",
    "\n",
    "    if var == \"SST\":         \n",
    "        ax.set_ylabel(\"K\",fontsize=20,labelpad=12)\n",
    "        tick_spacing = 0.5\n",
    "        ax.yaxis.set_major_locator(MultipleLocator(1))\n",
    "        ax.set_title(f\"Time Series Global: {var} - ANN\",loc=\"left\",fontsize=22)\n",
    "        \n",
    "    if var == \"TS\":\n",
    "        ax.set_ylabel(\"K\",fontsize=20,labelpad=12)\n",
    "        tick_spacing = 0.5\n",
    "        ax.yaxis.set_minor_locator(MultipleLocator(0.5))\n",
    "        ax.set_title(f\"Time Series Global: {var} - ANN\",loc=\"left\",fontsize=22)\n",
    "\n",
    "    if var == \"ICEFRAC\":\n",
    "        ax.set_ylabel(\"frac\",fontsize=20,labelpad=12)\n",
    "        tick_spacing = 0.1\n",
    "        ax.set_ylim(np.floor(min(mins)),np.ceil(max(maxs)))\n",
    "        ax.set_title(f\"Time Series LabSea: {var} - ANN\",loc=\"left\",fontsize=22)\n",
    "\n",
    "    if var == \"RESTOM\":\n",
    "        ax.set_ylabel(\"W/m2\",fontsize=20,labelpad=12)\n",
    "        tick_spacing = 0.5\n",
    "        ax.yaxis.set_minor_locator(MultipleLocator(0.1))\n",
    "        ax.set_title(f\"Time Series Global: {var} - ANN\",loc=\"left\",fontsize=22)\n",
    "        \n",
    "        # Set label to show if RESTOM is 1 or 5-yr avg\n",
    "        line_1yr = Line2D([], [], label='1-yr avg', color='k', linewidth=1,marker='*',)              \n",
    "        line_5yr = Line2D([], [], label='5-yr avg', color='k', linewidth=1,)\n",
    "        ax.legend(handles=[line_1yr,line_5yr], bbox_to_anchor=(0.99, 0.99))\n",
    "    \n",
    "    # Add extra space on the y-axis, except for ICEFRAC\n",
    "    if var != \"ICEFRAC\":\n",
    "        ax.set_ylim(np.floor(min(mins)),np.ceil(max(maxs))+tick_spacing)\n",
    "        \n",
    "    ax.yaxis.set_major_locator(MultipleLocator(tick_spacing))\n",
    "    \n",
    "    ax.tick_params(axis='y', which='major', labelsize=16)\n",
    "    ax.tick_params(axis='y', which='minor', labelsize=16)\n",
    "    \n",
    "    ax.tick_params(axis='x', which='major', labelsize=14)\n",
    "    ax.tick_params(axis='x', which='minor', labelsize=14)\n",
    "        \n",
    "    return ax"
   ]
  },
  {
   "cell_type": "code",
   "execution_count": 36,
   "id": "ba26c6fb-b648-47fa-a7b3-a6fef374cef4",
   "metadata": {},
   "outputs": [],
   "source": [
    "def make_fig_legend(ax,fig,fontsize=20,custom_legend=False):\n",
    "    \"\"\"\n",
    "    Function to generate legend and labels for all plots\n",
    "        * This will be one legend with all cases along side all\n",
    "           the subplots \n",
    "    \n",
    "    \"\"\"\n",
    "    \n",
    "    # Gather labels based on case names and plotted line format (color, style, etc)\n",
    "    lines_labels = [ax.get_legend_handles_labels() for ax in fig.axes]\n",
    "    lines, labels = [sum(lol, []) for lol in zip(*lines_labels)]\n",
    "    \n",
    "    #Option for custom legend, if not go with standard matplotlib legend creation\n",
    "    if custom_legend == True:\n",
    "        \"\"\"\n",
    "        Make your own custom legend\n",
    "        ---------------------------\n",
    "        \n",
    "        Number of lables must equal number of plotted lines\n",
    "        \"\"\"\n",
    "        labels = [\"009: Target\",\n",
    "                  \"016: Control\",\n",
    "                  \"025b: ice/ocn spunup + large RESTOM\",\n",
    "                  \"026a: ice spunup\",\n",
    "                  \"026c: ice/land spunup\",\n",
    "                  \"026d: ice/land spunup + zeroing snow\"\n",
    "                  ]\n",
    "        fig.legend(lines[:case_names_len+1], labels,loc=\"center left\",fontsize=fontsize,\n",
    "                                    bbox_to_anchor=(0.4, 0.25,.05,.05)) #bbox_to_anchor(x0, y0, width, height)\n",
    "    else:\n",
    "        \"\"\"\n",
    "        Defualt matplotlib legend\n",
    "        -------------------------\n",
    "        This will just plot the colored lines and case names as given by the adf obj\n",
    "        \"\"\"\n",
    "        fig.legend(lines[:case_names_len+1], labels[:case_names_len+1],loc=\"center left\",fontsize=fontsize,\n",
    "                                    bbox_to_anchor=(0.365, 0.25,.02,.05)) #bbox_to_anchor(x0, y0, width, height)\n",
    "    return fig"
   ]
  },
  {
   "cell_type": "code",
   "execution_count": 37,
   "id": "3089ed4c-2a0e-417f-bd69-31bc895b15e8",
   "metadata": {},
   "outputs": [
    {
     "name": "stdout",
     "output_type": "stream",
     "text": [
      "['FLNT', 'FSNT', 'LHFLX', 'LWCF', 'OMEGA500', 'PBLH', 'PRECL', 'PRECT', 'PS', 'PSL', 'QFLX', 'CLDLIQ', 'Q', 'RELHUM', 'SHFLX', 'SST', 'SWCF', 'T', 'TAUX', 'TAUY', 'THETA', 'TREFHT', 'TS', 'U', 'U10', 'ICEFRAC', 'OCNFRAC', 'LANDFRAC']\n"
     ]
    },
    {
     "data": {
      "text/plain": [
       "['RESTOM', 'TS', 'SST', 'ICEFRAC']"
      ]
     },
     "execution_count": 37,
     "metadata": {},
     "output_type": "execute_result"
    }
   ],
   "source": [
    "# Grab variables form YAML file\n",
    "var_list = adf.diag_var_list\n",
    "print(var_list)\n",
    "\n",
    "# Make a separate list than what's provided in YAML file\n",
    "# This is to remove FSNT and FLNT\n",
    "drop = {\"FSNT\",\"FLNT\",\"SST\"} #\"SST\"\n",
    "ts_var_list = [e for e in var_list if e not in drop]\n",
    "\n",
    "# This is to add RESTOM\n",
    "ts_var_list += [\"RESTOM\"]\n",
    "ts_var_list = [\"RESTOM\",\"TS\",\"SST\",\"ICEFRAC\"]\n",
    "ts_var_list"
   ]
  },
  {
   "cell_type": "code",
   "execution_count": null,
   "id": "07592a23-c988-4e42-b139-86ea843c6aeb",
   "metadata": {},
   "outputs": [],
   "source": [
    "plot_path = \"./\""
   ]
  },
  {
   "cell_type": "code",
   "execution_count": 46,
   "id": "c193f541-5789-42e0-9b0f-891c732bcf28",
   "metadata": {},
   "outputs": [
    {
     "name": "stdout",
     "output_type": "stream",
     "text": [
      "Plotting variable: RESTOM\n",
      "2012\n",
      "Plotting variable: TS\n",
      "2012\n",
      "Plotting variable: SST\n",
      "2012\n",
      "Plotting variable: ICEFRAC\n",
      "2012\n"
     ]
    },
    {
     "data": {
      "image/png": "[encoded data removed]",
      "text/plain": [
       "<Figure size 2160x1080 with 4 Axes>"
      ]
     },
     "metadata": {
      "needs_background": "light"
     },
     "output_type": "display_data"
    },
    {
     "name": "stdout",
     "output_type": "stream",
     "text": [
      "CPU times: user 1.72 s, sys: 647 ms, total: 2.37 s\n",
      "Wall time: 3.58 s\n"
     ]
    }
   ],
   "source": [
    "%%time\n",
    "\n",
    "fig = plt.figure(figsize=(30,15))\n",
    "\n",
    "# Change the layout/number of subplots based off number of variables desired\n",
    "rows = 2\n",
    "cols = 3\n",
    "gs = fig.add_gridspec(rows, cols, hspace=.3, wspace=.2)\n",
    "\n",
    "# Subset for Lab Sea\n",
    "'''\n",
    "w = -64.+360\n",
    "e = -44+360\n",
    "s = 53\n",
    "n = 67\n",
    "'''\n",
    "w = -63.5+360\n",
    "e = -47.5+360\n",
    "s = 53.5\n",
    "n = 65.5\n",
    "subset = {\"s\":s,\"n\":n,\"e\":e,\"w\":w}\n",
    "\n",
    "# Add more colors as needed for number of test cases\n",
    "# ** Baseline is already added as green dashed line in plotting function **\n",
    "# matplotlib colors here: https://matplotlib.org/stable/gallery/color/named_colors.html\n",
    "colors = [\"k\", \"aqua\", \"orange\", \"b\", \"magenta\", \"goldenrod\", \"slategrey\", \"rosybrown\"]\n",
    "\n",
    "case_names_len = len(case_names)\n",
    "\n",
    "# Loop over variables:\n",
    "for i,var in enumerate(ts_var_list):\n",
    "        \n",
    "    print(\"Plotting variable:\",var)\n",
    "        \n",
    "    if var == \"RESTOM\":\n",
    "        ax = plt.subplot(gs[0, 0])\n",
    "    if var == \"TS\":\n",
    "        ax = plt.subplot(gs[0, 1])\n",
    "    if var == \"SST\":\n",
    "        ax = plt.subplot(gs[0, 2])\n",
    "    if var == \"ICEFRAC\":\n",
    "        ax = plt.subplot(gs[1, 0])\n",
    "        \n",
    "        \n",
    "    # Grab baseline case:\n",
    "    #--------------------\n",
    "\n",
    "    if var == \"RESTOM\":            \n",
    "        avg_base_FSNT,yrs_base,unit = _data_calcs(data_ts_loc,'FSNT')\n",
    "        avg_base_FLNT,_,_ = _data_calcs(data_ts_loc,\"FLNT\")\n",
    "        if len(yrs_base) < 5:\n",
    "            print(f\"Not a lot of climo years for {data_name}, only doing 1-yr avg for RESTOM...\")\n",
    "            FSNT_base = avg_base_FSNT\n",
    "            FLNT_base = avg_base_FLNT\n",
    "        else:\n",
    "            FSNT_base = avg_base_FSNT.rolling(time=60,center=True).mean()\n",
    "            FLNT_base = avg_base_FLNT.rolling(time=60,center=True).mean()\n",
    "\n",
    "        avg_base = FSNT_base - FLNT_base\n",
    "            \n",
    "    if (var == \"TS\" or var == \"SST\"):\n",
    "        avg_base,yrs_base,unit = _data_calcs(data_ts_loc,var)\n",
    "                \n",
    "    if var == \"ICEFRAC\":\n",
    "        avg_base,yrs_base,unit = _data_calcs(data_ts_loc,var,subset)\n",
    "    \n",
    "    # Get int of years for plotting on x-axis\n",
    "    yrs_base_int = yrs_base.astype(int)\n",
    "\n",
    "    # Create yearly averages\n",
    "    vals_base = [avg_base.sel(time=i).mean() for i in yrs_base]\n",
    "        \n",
    "    color_dict = {\"color\":\"g\",\"marker\":\"--\"}\n",
    "    ax = ts_plot(ax, data_name, vals_base, yrs_base_int, unit, color_dict)\n",
    "        \n",
    "        \n",
    "    # Loop over test cases:\n",
    "    #----------------------\n",
    "        \n",
    "    # Create lists to hold all sets of years (for each case) and\n",
    "    # sets of var data (for each case)\n",
    "    vals_cases = []\n",
    "    yrs_cases = []\n",
    "    for case_idx, case_name in enumerate(case_names):\n",
    "\n",
    "        if var == \"RESTOM\":\n",
    "            avg_case_FSNT,yrs_case,unit = _data_calcs(case_ts_loc[case_idx],'FSNT')\n",
    "            avg_case_FLNT,_,_ = _data_calcs(case_ts_loc[case_idx],\"FLNT\")\n",
    "            if len(yrs_case) < 5:\n",
    "                print(f\"Not a lot of climo years for {case_name}, only doing 1-yr avg for RESTOM...\")\n",
    "                FSNT_case = avg_case_FSNT\n",
    "                FLNT_case = avg_case_FLNT\n",
    "                color_dict = {\"color\":colors[case_idx],\"marker\":\"-*\"}\n",
    "            else:\n",
    "                FSNT_case = avg_case_FSNT.rolling(time=60,center=True).mean()\n",
    "                FLNT_case = avg_case_FLNT.rolling(time=60,center=True).mean()\n",
    "                color_dict = {\"color\":colors[case_idx],\"marker\":\"-\"}\n",
    "\n",
    "            avg_case = FSNT_case - FLNT_case\n",
    "\n",
    "        if (var == \"TS\" or var == \"SST\"):\n",
    "            avg_case,yrs_case,unit = _data_calcs(case_ts_loc[case_idx],var)\n",
    "            color_dict = {\"color\":colors[case_idx],\"marker\":\"-\"}\n",
    "                \n",
    "        if var == \"ICEFRAC\":\n",
    "            avg_case,yrs_case,unit = _data_calcs(case_ts_loc[case_idx],var,subset)\n",
    "            color_dict = {\"color\":colors[case_idx],\"marker\":\"-\"}\n",
    "                \n",
    "        # Get yearly averages for all available years\n",
    "        vals_case = [avg_case.sel(time=i).mean() for i in yrs_case]\n",
    "        vals_cases.append(vals_case)\n",
    "            \n",
    "        # Get int of years for plotting on x-axis\n",
    "        yrs_case_int = yrs_case.astype(int)\n",
    "        yrs_cases.append(yrs_case_int)\n",
    "        \n",
    "        # Add case to plot (ax)\n",
    "        ax = ts_plot(ax, case_name, vals_case, yrs_case_int, unit, color_dict)\n",
    "\n",
    "    # End for (case names)\n",
    "\n",
    "    # Get variable details\n",
    "    ax = plot_var_details(ax, var, vals_cases, vals_base)\n",
    "        \n",
    "    # Grab the earliest and latest climo years of all cases excluding baseline\n",
    "    yrs_cases_min = min([min(i) for i in yrs_cases])\n",
    "    yrs_cases_max = max([max(i) for i in yrs_cases])\n",
    "    \n",
    "    max_year = max([yrs_cases_max,max(yrs_base_int)])\n",
    "    min_year = min(yrs_cases_min,min(yrs_base_int))\n",
    "    # Set the x-axis plot limits\n",
    "    # to guarantee data from all cases (including baseline) are on plot\n",
    "    ax.set_xlim(min_year, max_year+1)\n",
    "    \n",
    "    print(max_year)\n",
    "    # x-axis ticks and numbers\n",
    "    if len(yrs_cases[0]) > 120:\n",
    "        ax.xaxis.set_major_locator(MultipleLocator(20))\n",
    "        ax.xaxis.set_minor_locator(MultipleLocator(10))\n",
    "    if 10 <= len(yrs_cases[0]) <= 120:\n",
    "        ax.xaxis.set_major_locator(MultipleLocator(5))\n",
    "        ax.xaxis.set_minor_locator(MultipleLocator(1))\n",
    "    if 0 < len(yrs_cases[0]) < 10:\n",
    "        ax.xaxis.set_major_locator(MultipleLocator(1))\n",
    "        ax.xaxis.set_minor_locator(MultipleLocator(1))\n",
    "        \n",
    "    # End for (case loop)\n",
    "# End for (variables loop)\n",
    "\n",
    "# Set up legend\n",
    "# If custom_legend = True, change the code in make_fig_legend() function for custom legend\n",
    "fig = make_fig_legend(ax, fig, fontsize=18, custom_legend=False) \n",
    "#plt.savefig(f\"{plot_path}TimeSeries_ANN.png\", facecolor='w',bbox_inches=\"tight\")\n",
    "plt.show()"
   ]
  },
  {
   "cell_type": "markdown",
   "id": "55f32f23-d644-4f61-a50e-ed6648b96d80",
   "metadata": {},
   "source": [
    "```{note}\n",
    "You can run these types of analysis in the previous\n",
    "```"
   ]
  }
 ],
 "metadata": {
  "kernelspec": {
   "display_name": "NPL-3.7.9",
   "language": "python",
   "name": "npl-3.7.9"
  },
  "language_info": {
   "codemirror_mode": {
    "name": "ipython",
    "version": 3
   },
   "file_extension": ".py",
   "mimetype": "text/x-python",
   "name": "python",
   "nbconvert_exporter": "python",
   "pygments_lexer": "ipython3",
   "version": "3.7.9"
  }
 },
 "nbformat": 4,
 "nbformat_minor": 5
}
