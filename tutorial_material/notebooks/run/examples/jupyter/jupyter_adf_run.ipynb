{
 "cells": [
  {
   "cell_type": "markdown",
   "id": "15212f9d-160a-492a-9983-5af64e6afa22",
   "metadata": {},
   "source": [
    "# Running in Jupyter"
   ]
  }
 ],
 "metadata": {
  "kernelspec": {
   "display_name": "Python 3 (ipykernel)",
   "language": "python",
   "name": "python3"
  },
  "language_info": {
   "codemirror_mode": {
    "name": "ipython",
    "version": 3
   },
   "file_extension": ".py",
   "mimetype": "text/x-python",
   "name": "python",
   "nbconvert_exporter": "python",
   "pygments_lexer": "ipython3",
   "version": "3.9.12"
  }
 },
 "nbformat": 4,
 "nbformat_minor": 5
}
