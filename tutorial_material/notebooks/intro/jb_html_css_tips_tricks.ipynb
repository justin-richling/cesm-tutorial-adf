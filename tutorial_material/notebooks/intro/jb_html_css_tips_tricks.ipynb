{
 "cells": [
  {
   "cell_type": "markdown",
   "id": "368c3c2a-ba99-413c-a849-bcd7f431f365",
   "metadata": {},
   "source": [
    "# Jupyter Book/HTML/CSS Tips and Tricks"
   ]
  },
  {
   "cell_type": "markdown",
   "id": "6b97f290-5607-4554-b727-4befffe5ac27",
   "metadata": {},
   "source": [
    "**<u>AMWG</u>** (Atmospheric Model Working Group) <u>**D**</u>iagnostics <u>**F**</u>ramework"
   ]
  },
  {
   "cell_type": "markdown",
   "id": "77f2ac18-89eb-4aab-8b43-960f35d7a0c0",
   "metadata": {},
   "source": [
    "This package is meant to be an update/upgrade to the much used and beloved AMWG diagnostics package used by the atmospheric/chemistry CESM community."
   ]
  },
  {
   "cell_type": "markdown",
   "id": "c28fd8e7-ad98-4d04-94a6-5886aa2627e7",
   "metadata": {},
   "source": [
    "The ADF is a collection of analysis plots and data derived from CAM history output files. \n",
    "\n",
    "It is a multipurpose tool that has been built to be somewhat flexible.\n",
    "\n",
    "What do you get?\n",
    "\n",
    "* Time series\n",
    "* Climotology files\n",
    "* Regridded (Climo) files\n",
    "\n",
    "Plots:\n",
    "\n",
    "* "
   ]
  },
  {
   "cell_type": "markdown",
   "id": "5a86519c-9d59-41c9-9941-accc97562d94",
   "metadata": {},
   "source": [
    "* <p style=\"margin-top: -5px;\">Global Variables</p>\n",
    "* <p style=\"margin-top: -5px;\">diag_basic_info</p>\n",
    "* <p style=\"margin-top: -5px;\">diag_cam_climo</p>\n",
    "* <p style=\"margin-top: -5px;\">diag_cam_baseline_climo</p>\n"
   ]
  },
  {
   "cell_type": "markdown",
   "id": "d3b2375d-cdcb-4d64-9890-ec239d605b88",
   "metadata": {},
   "source": [
    "`````{admonition} Conda cheat sheet for reference\n",
    ":class: tip, dropdown\n",
    "[conda](conda-cheatsheet.pdf)\n",
    "`````"
   ]
  },
  {
   "cell_type": "markdown",
   "id": "26dbb52c-2a7d-452a-8936-0bb5627e7d7a",
   "metadata": {},
   "source": [
    "The ADF is still under active development and is near it's first major version. "
   ]
  },
  {
   "cell_type": "markdown",
   "id": "6ac79f0c-f130-4bd8-a273-b47865cb98e5",
   "metadata": {},
   "source": [
    "<div class=\"admonition\">\n",
    "<p>Some **content**</p>\n",
    "  <div class=\"admonition tip\">\n",
    "  <div class=\"title\">A *title*</div>\n",
    "  <p>Paragraph 1</p>\n",
    "  <p>Paragraph 2</p>\n",
    "  </div>\n",
    "</div>"
   ]
  },
  {
   "cell_type": "markdown",
   "id": "47ac45d9-8d76-4977-9199-ffe1200ed241",
   "metadata": {},
   "source": [
    "<div class=\"admonition\">\n",
    "<p>Some **content**</p>\n",
    "  <div class=\"admonition error\">\n",
    "  <div class=\"title\">Oh jeez, I hope this worked...</div>\n",
    "  <p>Paragraph 1</p>\n",
    "  <p>Paragraph 2</p>\n",
    "  </div>\n",
    "</div>"
   ]
  },
  {
   "cell_type": "markdown",
   "id": "5c8cd3c2-9878-45c4-99f8-251cb9976fee",
   "metadata": {},
   "source": [
    "```{success}\n",
    "s-u-c-c-e-s-s that's the way you spell success...\n",
    "```"
   ]
  },
  {
   "cell_type": "markdown",
   "id": "e16c70b2-25ed-46ff-9e8f-aa225d325b11",
   "metadata": {},
   "source": [
    "```{tip}\n",
    "Arrrrgggg.....\n",
    "```"
   ]
  },
  {
   "cell_type": "markdown",
   "id": "8e2870b0-f74a-47ec-abd4-2f8ac272f0f4",
   "metadata": {},
   "source": [
    "```{hint}\n",
    ":class: dropdown\n",
    "wakkawakka\n",
    "```"
   ]
  },
  {
   "cell_type": "markdown",
   "id": "4a96578b-6df9-4a49-bec7-ff60cd6777a4",
   "metadata": {},
   "source": [
    "```{error}\n",
    "What color is this going to be?\n",
    "```"
   ]
  },
  {
   "cell_type": "markdown",
   "id": "b1cebeab-06a8-4bea-9b4d-2976e3c77bf4",
   "metadata": {},
   "source": [
    "```{warning}\n",
    "Uh, where's his car dude\n",
    "```\n",
    "\n",
    "```{admonition} Life Tip\n",
    "<p>Change your bed sheets every week</p>\n",
    "<p>Don't be gross</p>\n",
    "```\n",
    "\n",
    "```{admonition} Here's your admonition\n",
    "Here's the admonition content\n",
    "```"
   ]
  },
  {
   "cell_type": "markdown",
   "id": "b0c92a17-e718-4929-bc87-4e473f22728d",
   "metadata": {},
   "source": [
    "```{attention}\n",
    "Depending on how many years, plot types and variables you configure, the more time it takes\n",
    "\n",
    "* Rough average for all default plots, 10-20 years for 30 variables is ~45 minutes\n",
    "\n",
    "````{note}\n",
    "This is an active area of development; there are potential ways of cutting time/processes\n",
    "````\n",
    "\n",
    "```"
   ]
  },
  {
   "cell_type": "markdown",
   "id": "b82631e0-af8f-44df-8f3a-85227cbd6b11",
   "metadata": {},
   "source": [
    "::::{important}\n",
    ":::{note}\n",
    "This text is **standard** _Markdown_\n",
    ":::\n",
    "::::"
   ]
  },
  {
   "cell_type": "markdown",
   "id": "5df6bee4-95da-479d-8210-e23102d4b027",
   "metadata": {},
   "source": [
    "::::{attention}\n",
    "Depending on how many years, plot types and variables you configure, the more time it takes\n",
    "\n",
    "* Rough average for all default plots, 10-20 years for 30 variables is ~45 minutes\n",
    "\n",
    ":::{note}\n",
    "This is an active area of development; there are potential ways of cutting time/processes\n",
    ":::\n",
    "::::"
   ]
  },
  {
   "cell_type": "markdown",
   "id": "150efc1c-109c-463f-964d-fdb2ae582d9a",
   "metadata": {},
   "source": [
    "## Third set in yaml file:&ensp; $\\color{#117284}{\\textit{diag\\_cam\\_baseline\\_climo}}$"
   ]
  },
  {
   "cell_type": "markdown",
   "id": "2b3eecc4-6e95-4162-a6d1-ccb7ff2dec1d",
   "metadata": {},
   "source": [
    "| Syntax      | Description |\n",
    "| ----------- | ----------- |\n",
    "| Header      | Title       |\n",
    "| Paragraph   | Text        |"
   ]
  },
  {
   "cell_type": "markdown",
   "id": "74be74cd-2f92-4336-adb5-69f5e935e191",
   "metadata": {},
   "source": [
    "|       |  |       |\n",
    "| :---        |    :----:   |          ---: |\n",
    "| Header      | Title       | Here's this   |\n",
    "| Paragraph   | Text        | And more      |"
   ]
  },
  {
   "cell_type": "markdown",
   "id": "0b220986-3133-4759-a210-ec2d35f265f0",
   "metadata": {},
   "source": [
    "`````{admonition} ** does not work **\n",
    ":class: error\n",
    "<p><strong>user:</strong> richling<br>\n",
    "<strong>case:</strong> some_run<br>\n",
    "<strong>some_path:</strong><br>\n",
    "&ensp;&ensp;&ensp;- /glade/u/home/${user}<br>\n",
    "&ensp;&ensp;&ensp;- /glade/u/home/${user}/${case}\n",
    "</p>\n",
    "`````\n",
    "\n",
    "```{admonition} ** works **\n",
    "<p><strong>some_path:</strong><br>\n",
    "&ensp;&ensp;&ensp;- /glade/u/home/richling<br>\n",
    "&ensp;&ensp;&ensp;- /glade/u/home/richling/some_run\n",
    "</p>\n",
    "```"
   ]
  },
  {
   "cell_type": "markdown",
   "id": "5f7bba96-6fe4-421b-a93d-6324599ea93d",
   "metadata": {},
   "source": [
    "`````{admonition} Conda cheat sheet for reference\n",
    ":class: tip, dropdown\n",
    "[conda](conda-cheatsheet.pdf)\n",
    "`````\n",
    "\n"
   ]
  },
  {
   "cell_type": "markdown",
   "id": "b4fe03d1-bdfd-4ce3-b21e-797eeaf44c58",
   "metadata": {},
   "source": [
    "<div><p style=\"font-size: 25px; font-weight: bold; color: #076E85;\">Alright here we go</p></div>"
   ]
  },
  {
   "cell_type": "markdown",
   "id": "e6660b42-529a-4dc6-9d05-5ebcbf80b7aa",
   "metadata": {},
   "source": [
    "# Single Case Comparison\n",
    "\n",
    "<p>Let's now put it all together and do a CAM vs CAM comparison.</p>\n",
    "<p>Revisit (or reopen) your copy of the runtime configure file (ie )</p>"
   ]
  },
  {
   "cell_type": "markdown",
   "id": "8320b878-6060-4704-9f64-31b4f1da9172",
   "metadata": {},
   "source": [
    "`````{admonition} Wowsie\n",
    ":class: important\n",
    "This is really helpful, thank you.\n",
    "`````"
   ]
  },
  {
   "cell_type": "markdown",
   "id": "25cf7194-24ae-4b18-ba36-37c9593570a3",
   "metadata": {},
   "source": [
    "<section id=\"sidebar-content\">\n",
    "<span id=\"layout-sidebar\"></span><h2>Sidebar content<a class=\"headerlink\" href=\"#sidebar-content\" title=\"Permalink to this heading\">#</a></h2>\n",
    "<p>Adding sidebar elements allow you to provide contextual information that doesn’t break\n",
    "up the flow of your main content. It is one of the main patterns recommended in the\n",
    "<a class=\"reference external\" href=\"https://edwardtufte.github.io/tufte-css/\">Tufte style guide</a>.</p>\n",
    "<p>There are two kinds of sidebars supported by Jupyter Book. We’ll\n",
    "describe them below.</p>\n",
    "<div class=\"admonition note\">\n",
    "<p class=\"admonition-title\">Note</p>\n",
    "<p>Some sidebar content behaves differently depending on the screen size. If the screen is narrow\n",
    "enough, the sidebar content will exist in-line with your content. Make the screen\n",
    "wider and it’ll pop out to the right.</p>\n",
    "</div>\n",
    "<section id=\"sidebars-within-content\">\n",
    "<h3>Sidebars within content<a class=\"headerlink\" href=\"#sidebars-within-content\" title=\"Permalink to this heading\">#</a></h3>\n",
    "<aside class=\"sidebar\">\n",
    "<p class=\"sidebar-title\">Here is some sidebar content</p>\n",
    "<p>It spans a bit of your main content, as well as the margin, as seen by the\n",
    "note block below:</p>\n",
    "<div class=\"admonition note\">\n",
    "<p class=\"admonition-title\">Note</p>\n",
    "<p>Here’s a note block within the sidebar!</p>\n",
    "</div>\n",
    "</aside>\n",
    "<p>If you use a sidebar within your content, the sidebar will stay in-line with your page’s content. However, it will be\n",
    "placed to the right, allowing your content to wrap around it. This prevents\n",
    "the sidebar from breaking up the flow of your content. This is particularly\n",
    "useful if you’ve got tall-and-long blocks of content or images that you would\n",
    "like to provide context to throughout your content.</p>\n",
    "<p>To add a sidebar to your content, use the following syntax:</p>\n",
    "<div class=\"highlight-md notranslate\"><div class=\"highlight\"><pre id=\"codecell1\"><span></span>```{sidebar} My sidebar title\n",
    "My sidebar content\n",
    "```\n",
    "</pre><button class=\"copybtn o-tooltip--left\" data-tooltip=\"Copy\" data-clipboard-target=\"#codecell1\">\n",
    "      <svg xmlns=\"http://www.w3.org/2000/svg\" class=\"icon icon-tabler icon-tabler-copy\" width=\"44\" height=\"44\" viewBox=\"0 0 24 24\" stroke-width=\"1.5\" stroke=\"#000000\" fill=\"none\" stroke-linecap=\"round\" stroke-linejoin=\"round\">\n",
    "  <title>Copy to clipboard</title>\n",
    "  <path stroke=\"none\" d=\"M0 0h24v24H0z\" fill=\"none\"></path>\n",
    "  <rect x=\"8\" y=\"8\" width=\"12\" height=\"12\" rx=\"2\"></rect>\n",
    "  <path d=\"M16 8v-2a2 2 0 0 0 -2 -2h-8a2 2 0 0 0 -2 2v8a2 2 0 0 0 2 2h2\"></path>\n",
    "</svg>\n",
    "    </button></div>\n",
    "</div>\n",
    "</section>\n",
    "<section id=\"margin-content\">\n",
    "<h3>Margin content<a class=\"headerlink\" href=\"#margin-content\" title=\"Permalink to this heading\">#</a></h3>\n",
    "<p>To add content to the margin with MyST Markdown, use this syntax:</p>\n",
    "<div class=\"highlight-md notranslate\"><div class=\"highlight\"><pre id=\"codecell2\"><span></span>```{margin} An optional title\n",
    "My margin content\n",
    "```\n",
    "</pre><button class=\"copybtn o-tooltip--left\" data-tooltip=\"Copy\" data-clipboard-target=\"#codecell2\">\n",
    "      <svg xmlns=\"http://www.w3.org/2000/svg\" class=\"icon icon-tabler icon-tabler-copy\" width=\"44\" height=\"44\" viewBox=\"0 0 24 24\" stroke-width=\"1.5\" stroke=\"#000000\" fill=\"none\" stroke-linecap=\"round\" stroke-linejoin=\"round\">\n",
    "  <title>Copy to clipboard</title>\n",
    "  <path stroke=\"none\" d=\"M0 0h24v24H0z\" fill=\"none\"></path>\n",
    "  <rect x=\"8\" y=\"8\" width=\"12\" height=\"12\" rx=\"2\"></rect>\n",
    "  <path d=\"M16 8v-2a2 2 0 0 0 -2 -2h-8a2 2 0 0 0 -2 2v8a2 2 0 0 0 2 2h2\"></path>\n",
    "</svg>\n",
    "    </button></div>\n",
    "</div>\n",
    "\n",
    "\n",
    "    \n",
    "\n",
    "<aside class=\"margin sidebar\">\n",
    "<p class=\"sidebar-title\"><strong>For example</strong></p>\n",
    "<p>Here’s some margin content! It was created by using the</p>\n",
    "<div class=\"highlight-default notranslate\"><div class=\"highlight\"><pre id=\"codecell3\"><span></span>```{margin}\n",
    "```\n",
    "</pre><button class=\"copybtn o-tooltip--left\" data-tooltip=\"Copy\" data-clipboard-target=\"#codecell3\">\n",
    "<svg xmlns=\"http://www.w3.org/2000/svg\" class=\"icon icon-tabler icon-tabler-copy\" width=\"44\" height=\"44\" viewBox=\"0 0 24 24\" stroke-width=\"1.5\" stroke=\"#000000\" fill=\"none\" stroke-linecap=\"round\" stroke-linejoin=\"round\">\n",
    "<title>Copy to clipboard</title>\n",
    "<path stroke=\"none\" d=\"M0 0h24v24H0z\" fill=\"none\"></path>\n",
    "<rect x=\"8\" y=\"8\" width=\"12\" height=\"12\" rx=\"2\"></rect>\n",
    "<path d=\"M16 8v-2a2 2 0 0 0 -2 -2h-8a2 2 0 0 0 -2 2v8a2 2 0 0 0 2 2h2\"></path>\n",
    "</svg>\n",
    "</button>\n",
    "</div>\n",
    "</div> \n",
    "\n",
    "\n",
    "\n",
    "\n",
    "\n",
    "<div class=\"admonition important\">\n",
    "<p class=\"admonition-title\">Wowsie</p>\n",
    "<p>This is really helpful, thank you.</p>\n",
    "</div>\n",
    "\n",
    "<p>directive in a Markdown cell. Jupyter Book automatically converts these\n",
    "cells into helpful margin content.</p>\n",
    "</aside>\n",
    "\n",
    "    \n",
    "\n",
    "<p>Controlling margin content with code cells uses a slightly different syntax,\n",
    "which we’ll cover below.</p>\n",
    "</section>\n",
    "<section id=\"margins-with-code-cells\">\n",
    "<h3>Margins with code cells<a class=\"headerlink\" href=\"#margins-with-code-cells\" title=\"Permalink to this heading\">#</a></h3>\n",
    "<p>You can make a code cell move to the right margin by adding <code class=\"docutils literal notranslate\"><span class=\"pre\">margin</span></code> to your\n",
    "cell’s tags.</p>\n",
    "<div class=\"sd-tab-set docutils\">\n",
    "<input checked=\"checked\" id=\"sd-tab-item-0\" name=\"sd-tab-set-0\" type=\"radio\">\n",
    "<label class=\"sd-tab-label\" for=\"sd-tab-item-0\">\n",
    "Jupyter Notebook</label><div class=\"sd-tab-content docutils\">\n",
    "<p>Here’s what the cell metadata for a margin cell looks like:</p>\n",
    "<div class=\"highlight-json notranslate\"><div class=\"highlight\"><pre id=\"codecell4\"><span></span><span class=\"p\">{</span>\n",
    "<span class=\"w\">    </span><span class=\"nt\">\"tags\"</span><span class=\"p\">:</span><span class=\"w\"> </span><span class=\"p\">[</span>\n",
    "<span class=\"w\">        </span><span class=\"s2\">\"margin\"</span><span class=\"p\">,</span>\n",
    "<span class=\"w\">    </span><span class=\"p\">]</span>\n",
    "<span class=\"p\">}</span>\n",
    "</pre><button class=\"copybtn o-tooltip--left\" data-tooltip=\"Copy\" data-clipboard-target=\"#codecell4\">\n",
    "      <svg xmlns=\"http://www.w3.org/2000/svg\" class=\"icon icon-tabler icon-tabler-copy\" width=\"44\" height=\"44\" viewBox=\"0 0 24 24\" stroke-width=\"1.5\" stroke=\"#000000\" fill=\"none\" stroke-linecap=\"round\" stroke-linejoin=\"round\">\n",
    "  <title>Copy to clipboard</title>\n",
    "  <path stroke=\"none\" d=\"M0 0h24v24H0z\" fill=\"none\"></path>\n",
    "  <rect x=\"8\" y=\"8\" width=\"12\" height=\"12\" rx=\"2\"></rect>\n",
    "  <path d=\"M16 8v-2a2 2 0 0 0 -2 -2h-8a2 2 0 0 0 -2 2v8a2 2 0 0 0 2 2h2\"></path>\n",
    "</svg>\n",
    "    </button></div>\n",
    "</div>\n",
    "<div class=\"admonition seealso\">\n",
    "<p class=\"admonition-title\">See also</p>\n",
    "<p><a class=\"reference internal\" href=\"metadata.html#jupyter-cell-tags\"><span class=\"std std-ref\">Add metadata to notebooks</span></a></p>\n",
    "</div>\n",
    "</div>\n",
    "<input id=\"sd-tab-item-1\" name=\"sd-tab-set-0\" type=\"radio\">\n",
    "<label class=\"sd-tab-label\" for=\"sd-tab-item-1\">\n",
    "MyST Text File</label><div class=\"sd-tab-content docutils\">\n",
    "<p>For a MyST text file these tags can be added to the <code class=\"docutils literal notranslate\"><span class=\"pre\">code-cell</span></code></p>\n",
    "<div class=\"highlight-md notranslate\"><div class=\"highlight\"><pre id=\"codecell5\"><span></span>```{code-cell} &lt;language&gt;\n",
    ":tags: [margin]\n",
    "```\n",
    "</pre><button class=\"copybtn o-tooltip--left\" data-tooltip=\"Copy\" data-clipboard-target=\"#codecell5\">\n",
    "      <svg xmlns=\"http://www.w3.org/2000/svg\" class=\"icon icon-tabler icon-tabler-copy\" width=\"44\" height=\"44\" viewBox=\"0 0 24 24\" stroke-width=\"1.5\" stroke=\"#000000\" fill=\"none\" stroke-linecap=\"round\" stroke-linejoin=\"round\">\n",
    "  <title>Copy to clipboard</title>\n",
    "  <path stroke=\"none\" d=\"M0 0h24v24H0z\" fill=\"none\"></path>\n",
    "  <rect x=\"8\" y=\"8\" width=\"12\" height=\"12\" rx=\"2\"></rect>\n",
    "  <path d=\"M16 8v-2a2 2 0 0 0 -2 -2h-8a2 2 0 0 0 -2 2v8a2 2 0 0 0 2 2h2\"></path>\n",
    "</svg>\n",
    "    </button></div>\n",
    "</div>\n",
    "</div>\n",
    "</div>\n",
    "<p>For example, we’ll re-display the figure above, and add a <code class=\"docutils literal notranslate\"><span class=\"pre\">margin</span></code> tag to the code cell.</p>\n",
    "<div class=\"cell tag_margin docutils container\">\n",
    "<div class=\"cell_input docutils container\">\n",
    "<div class=\"highlight-ipython3 notranslate\"><div class=\"highlight\"><pre id=\"codecell6\"><span></span><span class=\"n\">make_fig</span><span class=\"p\">(</span><span class=\"n\">figsize</span><span class=\"o\">=</span><span class=\"p\">(</span><span class=\"mi\">10</span><span class=\"p\">,</span> <span class=\"mi\">5</span><span class=\"p\">))</span>\n",
    "</pre><button class=\"copybtn o-tooltip--left\" data-tooltip=\"Copy\" data-clipboard-target=\"#codecell6\">\n",
    "      <svg xmlns=\"http://www.w3.org/2000/svg\" class=\"icon icon-tabler icon-tabler-copy\" width=\"44\" height=\"44\" viewBox=\"0 0 24 24\" stroke-width=\"1.5\" stroke=\"#000000\" fill=\"none\" stroke-linecap=\"round\" stroke-linejoin=\"round\">\n",
    "  <title>Copy to clipboard</title>\n",
    "  <path stroke=\"none\" d=\"M0 0h24v24H0z\" fill=\"none\"></path>\n",
    "  <rect x=\"8\" y=\"8\" width=\"12\" height=\"12\" rx=\"2\"></rect>\n",
    "  <path d=\"M16 8v-2a2 2 0 0 0 -2 -2h-8a2 2 0 0 0 -2 2v8a2 2 0 0 0 2 2h2\"></path>\n",
    "</svg>\n",
    "    </button></div>\n",
    "</div>\n",
    "</div>\n",
    "<div class=\"cell_output docutils container\">\n",
    "<img alt=\"../_images/40467a5c76498c535f614c6cd35f51859dcd4d36d426022fff300f5010b0f03e.png\" src=\"../_images/40467a5c76498c535f614c6cd35f51859dcd4d36d426022fff300f5010b0f03e.png\">\n",
    "</div>\n",
    "</div>\n",
    "<p>This can be combined with other tags like <code class=\"docutils literal notranslate\"><span class=\"pre\">remove-input</span></code> to <strong>only display the figure</strong>.</p>\n",
    "<p>The <a class=\"reference internal\" href=\"../reference/cheatsheet.html#myst-cheatsheet\"><span class=\"std std-ref\">MyST cheat sheet</span></a> provides a <a class=\"reference internal\" href=\"../reference/cheatsheet.html#myst-cheatsheet-code-cell-tags\"><span class=\"std std-ref\">list of <code class=\"docutils literal notranslate\"><span class=\"pre\">code-cell</span></code> tags available</span></a></p>\n",
    "</section>"
   ]
  },
  {
   "cell_type": "markdown",
   "id": "9a69880a-3c59-415c-a74a-f169ab186c98",
   "metadata": {},
   "source": [
    "`````{admonition} This admonition was styled...\n",
    ":class: seealso\n",
    "With a seealso class!\n",
    "`````"
   ]
  },
  {
   "cell_type": "markdown",
   "id": "eb55bb2f-69d9-4c5e-865e-b42af18c20aa",
   "metadata": {},
   "source": [
    "```{admonition} Here's your admonition\n",
    "Here's the admonition content\n",
    "```"
   ]
  },
  {
   "cell_type": "markdown",
   "id": "d5ab73b7-9f72-4130-882a-236cb27ea025",
   "metadata": {},
   "source": [
    "<div class=\"myownstyle admonition\">\n",
    "  <p class=\"first admonition-title\">my title goes here</p>\n",
    "  <p class=\"last\">this is the admonition text</p>\n",
    "</div>"
   ]
  }
 ],
 "metadata": {
  "kernelspec": {
   "display_name": "Python 3 (ipykernel)",
   "language": "python",
   "name": "python3"
  },
  "language_info": {
   "codemirror_mode": {
    "name": "ipython",
    "version": 3
   },
   "file_extension": ".py",
   "mimetype": "text/x-python",
   "name": "python",
   "nbconvert_exporter": "python",
   "pygments_lexer": "ipython3",
   "version": "3.9.12"
  }
 },
 "nbformat": 4,
 "nbformat_minor": 5
}
