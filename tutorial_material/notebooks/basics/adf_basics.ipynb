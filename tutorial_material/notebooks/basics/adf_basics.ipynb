{
 "cells": [
  {
   "cell_type": "markdown",
   "id": "3daa9f7f-12d6-439c-8ec2-d9fafcd43412",
   "metadata": {},
   "source": [
    "# Intro\n",
    "\n",
    "Now that we've covered a little about the ADF, let's dive into what it takes to run it. The following sections will describe the required configuration files and a a quick setup for users that have some simulations to run through the ADF.\n",
    "\n",
    "* YAML basics\n",
    "* ADF Runs"
   ]
  }
 ],
 "metadata": {
  "kernelspec": {
   "display_name": "Python 3 (ipykernel)",
   "language": "python",
   "name": "python3"
  },
  "language_info": {
   "codemirror_mode": {
    "name": "ipython",
    "version": 3
   },
   "file_extension": ".py",
   "mimetype": "text/x-python",
   "name": "python",
   "nbconvert_exporter": "python",
   "pygments_lexer": "ipython3",
   "version": "3.9.12"
  }
 },
 "nbformat": 4,
 "nbformat_minor": 5
}
