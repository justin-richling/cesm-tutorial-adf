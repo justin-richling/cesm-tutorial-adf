{
 "cells": [
  {
   "cell_type": "markdown",
   "id": "51f4894b-4a6e-48ac-bcd1-2d3c872a5439",
   "metadata": {},
   "source": [
    "# Exploring <strong>your</strong> ADF outputs"
   ]
  },
  {
   "cell_type": "markdown",
   "id": "4b38aaa2-ddde-4354-b29d-7de5f548f27f",
   "metadata": {},
   "source": [
    "### Check the ADF output\n",
    "\n",
    "If your ADF run completes there are a couple ways to explore the output plots\n",
    "\n",
    "###### Locally\n",
    "\n",
    "If the ADF ran successfully, we can navigate to where we set the diagnostic plots output:\n",
    "\n",
    "`````{div} full-width\n",
    "\n",
    "&ensp;On a CISL machine, navigate to the root ADF directory\n",
    "\n",
    "Example:\n",
    "<code class=\"docutils literal notranslate\"><span class=\"pre\">&emsp;/glade/scratch/&#60;user&#62;/ADF/plots/</span></code>\n",
    "\n",
    "&ensp;Then go to where you assigned the `cam_diag_plot_loc` location in the run-time config file\n",
    "\n",
    "<code class=\"docutils literal notranslate\"><span class=\"pre\" style=\"color:black\">&emsp;<test case>_<start year>_<end year>_vs_<baseline case>_<start year>_<end year>/</span></code>\n",
    "\n",
    "`````\n"
   ]
  },
  {
   "cell_type": "markdown",
   "id": "578ee8a1-3ed7-4ab9-8189-9c818da25d44",
   "metadata": {},
   "source": [
    "###### JupyterHub\n",
    "\n",
    "apidfjwd"
   ]
  },
  {
   "cell_type": "markdown",
   "id": "ee6c8f88-3a37-4afe-82f1-e4eefcf6e140",
   "metadata": {},
   "source": [
    "###### Website\n",
    "\n",
    "If you choose to create HTML files you can publish those to a web server. In the diagnostics plotting location (<code class=\"docutils literal notranslate\"><span class=\"pre\">cam_diag_plot_loc</span></code>) you set in the run-time config file, a `website` directory exists where all the html and css files are saved.\n",
    "\n",
    "\n",
    "    .\n",
    "    ├── plots\n",
    "    │   └── <test case>_<start year>_<end year>_vs_<baseline case>_<start year>_<end year>\n",
    "    │       └── website\n",
    "    │           ├── assets\n",
    "    │           ├── html_img\n",
    "    │           ├── html_table\n",
    "    │           └── templates\n",
    "\n",
    "\n"
   ]
  },
  {
   "cell_type": "markdown",
   "id": "f11bffb4-88d8-4773-b12b-248e1eda55ff",
   "metadata": {},
   "source": [
    "Example: If you have a project page on a CGD machine like Tungsten, it is a simple secure copy of files to the server:\n",
    "\n",
    "<style>\n",
    "    #box {\n",
    "    word-wrap:normal;\n",
    "    overflow:scroll;\n",
    "}\n",
    "</style>\n",
    "\n",
    "\n",
    "&ensp;Navigate to the `cam_diag_plot_loc` location and copy all the files from the `website` directory to the server address:\n",
    "\n",
    "&emsp;For Tungsten:\n",
    "&emsp;    <code class=\"docutils literal notranslate\"><span class=\"pre\" style=\"color: black;\">scp -r website/* tungsten.cgd.ucar.edu:/path/to/your/project/page/</span></code>\n",
    "\n",
    "<div class=\"admonition tip\" style=\"padding-right: 7px\">\n",
    "<div><h6>A sample website:</h6></div>\n",
    "<p><a href=\"https://webext.cgd.ucar.edu/FLTHIST/f.cam6_3_132.FLTHIST_ne30.001/atm/f.cam6_3_132.FLTHIST_ne30.001_1995_2011_vs_f.cam6_3_119.FLTHIST_ne30.r328_gamma0.33_soae.001_1995_2011/index.html\" target=\"_blank\">f.cam6_3_132.FLTHIST_ne30.001 vs f.cam6_3_119.FLTHIST_ne30.r328_gamma0.33_soae.001</a></p>\n",
    "</div>\n",
    "\n",
    "---"
   ]
  },
  {
   "cell_type": "markdown",
   "id": "3c687d53-c2d8-4267-9a0e-2b07cece427b",
   "metadata": {},
   "source": [
    "````{tip} If this worked for you and are happy, you can finish up the tutorial here!\n",
    ":class: tip\n",
    "\n",
    "Feel free to explore more guided and detailed examples to highlight the different ADF setups in the <a href=\"https://justin-richling.github.io/ADF-Tutorial/notebooks/basic_examples/readme.html\"><strong>GUIDED EXAMPLES</strong></a> section for step by step setup for provided sample data.\n",
    "\n",
    "````"
   ]
  },
  {
   "cell_type": "markdown",
   "id": "903e48a0-2ad7-487f-821a-1372416ced99",
   "metadata": {},
   "source": []
  },
  {
   "cell_type": "markdown",
   "id": "3f0b8128-f8de-4567-b00e-d620d659c750",
   "metadata": {},
   "source": []
  }
 ],
 "metadata": {
  "kernelspec": {
   "display_name": "Python 3 (ipykernel)",
   "language": "python",
   "name": "python3"
  },
  "language_info": {
   "codemirror_mode": {
    "name": "ipython",
    "version": 3
   },
   "file_extension": ".py",
   "mimetype": "text/x-python",
   "name": "python",
   "nbconvert_exporter": "python",
   "pygments_lexer": "ipython3",
   "version": "3.9.12"
  }
 },
 "nbformat": 4,
 "nbformat_minor": 5
}
