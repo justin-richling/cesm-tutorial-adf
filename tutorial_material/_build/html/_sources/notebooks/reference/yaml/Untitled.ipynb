{
 "cells": [
  {
   "cell_type": "code",
   "execution_count": 1,
   "id": "962c3471-7029-41cc-a9ff-459d520ad4cf",
   "metadata": {},
   "outputs": [
    {
     "data": {
      "text/plain": [
       "'/glade/work/richling/ADF/adf-demo/notebooks/intro/yaml'"
      ]
     },
     "execution_count": 1,
     "metadata": {},
     "output_type": "execute_result"
    }
   ],
   "source": [
    "pwd"
   ]
  },
  {
   "cell_type": "code",
   "execution_count": 1,
   "id": "bec62e91-4ca5-4d47-8bc5-358b491ed0f4",
   "metadata": {},
   "outputs": [
    {
     "name": "stdout",
     "output_type": "stream",
     "text": [
      "/glade/work/richling/ADF/adf-demo\n"
     ]
    }
   ],
   "source": [
    "cd ../../../"
   ]
  },
  {
   "cell_type": "code",
   "execution_count": 6,
   "id": "6a0fc073-7baf-439e-97b8-739201d5af8b",
   "metadata": {},
   "outputs": [
    {
     "name": "stdout",
     "output_type": "stream",
     "text": [
      "/bin/bash: jbld: command not found\n"
     ]
    }
   ],
   "source": [
    "! jbld"
   ]
  },
  {
   "cell_type": "code",
   "execution_count": 8,
   "id": "66e3430e-6e58-4443-bba6-097ba4fd519e",
   "metadata": {},
   "outputs": [
    {
     "name": "stdout",
     "output_type": "stream",
     "text": [
      "/glade/u/home/richling/.profile\n"
     ]
    }
   ],
   "source": [
    "ls /glade/u/home/richling/.profile"
   ]
  },
  {
   "cell_type": "code",
   "execution_count": 2,
   "id": "14903ea9-a75e-4a32-becf-61ab07d91393",
   "metadata": {},
   "outputs": [
    {
     "name": "stdout",
     "output_type": "stream",
     "text": [
      "\u001b[0m\u001b[01;34m_build\u001b[0m/        _config.yml  LICENSE     README.md  _toc.yml\n",
      "\u001b[01;34mconfig_files\u001b[0m/  \u001b[01;34mimages\u001b[0m/      \u001b[01;34mnotebooks\u001b[0m/  \u001b[01;34m_static\u001b[0m/\n"
     ]
    }
   ],
   "source": [
    "ls"
   ]
  },
  {
   "cell_type": "code",
   "execution_count": 3,
   "id": "44ae01c1-11e5-4262-971c-efd4d142956d",
   "metadata": {},
   "outputs": [
    {
     "name": "stdout",
     "output_type": "stream",
     "text": [
      "usage: jupyter [-h] [--version] [--config-dir] [--data-dir] [--runtime-dir]\n",
      "               [--paths] [--json] [--debug]\n",
      "               [subcommand]\n",
      "\n",
      "Jupyter: Interactive Computing\n",
      "\n",
      "positional arguments:\n",
      "  subcommand     the subcommand to launch\n",
      "\n",
      "optional arguments:\n",
      "  -h, --help     show this help message and exit\n",
      "  --version      show the versions of core jupyter packages and exit\n",
      "  --config-dir   show Jupyter config dir\n",
      "  --data-dir     show Jupyter data dir\n",
      "  --runtime-dir  show Jupyter runtime dir\n",
      "  --paths        show all Jupyter paths. Add --json for machine-readable\n",
      "                 format.\n",
      "  --json         output paths as machine-readable json\n",
      "  --debug        output debug information about paths\n",
      "\n",
      "Available subcommands: bundlerextension cylc cylchubapp dejavu execute kernel\n",
      "kernelspec lab labextension labhub migrate nbclassic nbconvert nbextension\n",
      "notebook run server serverextension troubleshoot trust\n",
      "\n",
      "Please specify a subcommand or one of the optional arguments.\n"
     ]
    }
   ],
   "source": [
    "!jupyter"
   ]
  },
  {
   "cell_type": "code",
   "execution_count": null,
   "id": "5776be44-3261-4b77-a8bd-efebfcde576e",
   "metadata": {},
   "outputs": [],
   "source": []
  }
 ],
 "metadata": {
  "kernelspec": {
   "display_name": "Python 3 (ipykernel)",
   "language": "python",
   "name": "python3"
  },
  "language_info": {
   "codemirror_mode": {
    "name": "ipython",
    "version": 3
   },
   "file_extension": ".py",
   "mimetype": "text/x-python",
   "name": "python",
   "nbconvert_exporter": "python",
   "pygments_lexer": "ipython3",
   "version": "3.9.12"
  }
 },
 "nbformat": 4,
 "nbformat_minor": 5
}
