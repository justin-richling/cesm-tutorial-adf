{
 "cells": [
  {
   "cell_type": "markdown",
   "id": "05145508",
   "metadata": {},
   "source": [
    "# ADF Website\n",
    "\n",
    "If create website flag is initiated in the yaml file, this is how to push the output to the website"
   ]
  },
  {
   "cell_type": "code",
   "execution_count": null,
   "id": "2ccc3b62",
   "metadata": {},
   "outputs": [],
   "source": []
  }
 ],
 "metadata": {
  "kernelspec": {
   "display_name": "Python 3 (ipykernel)",
   "language": "python",
   "name": "python3"
  },
  "language_info": {
   "codemirror_mode": {
    "name": "ipython",
    "version": 3
   },
   "file_extension": ".py",
   "mimetype": "text/x-python",
   "name": "python",
   "nbconvert_exporter": "python",
   "pygments_lexer": "ipython3",
   "version": "3.9.7"
  }
 },
 "nbformat": 4,
 "nbformat_minor": 5
}
