{
 "cells": [
  {
   "cell_type": "markdown",
   "id": "0a8d9910",
   "metadata": {},
   "source": [
    "# Exercise - Run ADF via Jupyter\n",
    "\n",
    "In addition to running the ADF in the terminal, it can also be run in Jupyter Notebooks!\n",
    "\n",
    "Let's use the same two CAM simulations we used to run the ADF in the terminal, but this time let's run it for climo years 2001-2005\n"
   ]
  },
  {
   "cell_type": "markdown",
   "id": "2b1df5bc-457c-48a1-856f-42526d6862df",
   "metadata": {},
   "source": [
    "```{admonition} Question:\n",
    ":class: hint\n",
    "What do you need to do to run the ADF with a new set of climo years? \n",
    "\n",
    "::::{admonition} Help?\n",
    ":class: dropdown attention\n",
    "GO DO IT!\n",
    "::::\n",
    "\n",
    "Yeah?\n",
    "```"
   ]
  },
  {
   "cell_type": "markdown",
   "id": "cae77e20-37e6-4a17-b922-ad35ab91de29",
   "metadata": {},
   "source": [
    "```{admonition} Question:\n",
    ":class: hint\n",
    "What do you need to do to run the ADF with a new set of climo years? \n",
    "\n",
    "::::{admonition} Help?\n",
    ":class: dropdown attention\n",
    "\n",
    "::::::{admonition} Yes\n",
    ":class: dropdown warning\n",
    "That'd be $3.50 please\n",
    "::::::\n",
    "\n",
    ":::::::{admonition} No\n",
    ":class: dropdown tip\n",
    "GO DO IT!\n",
    ":::::::\n",
    "\n",
    "::::\n",
    "\n",
    "Yeah?\n",
    "```"
   ]
  },
  {
   "cell_type": "markdown",
   "id": "b1d22a1c-2f4a-4cff-a02a-a99ff249e47e",
   "metadata": {},
   "source": [
    "For this example we will run the ADF diagnostics for two different CAM simulations for a 5 years, 2001-2005\n",
    "\n",
    "Running the ADF in a Jupyter Notebook allows for some really handy access to the output data as well as all the paths\n",
    "\n",
    "<p>The test (experiment) case is <code class=\"docutils literal notranslate\"><span class=\"pre\">f.cam6_3_106.FLTHIST_v0a.ne30.dcs_non-ogw.001</span></code></p>\n",
    "<p style=\"margin-top: -15px;\">The baseline (control) case is <code class=\"docutils literal notranslate\"><span class=\"pre\">f.cam6_3_106.FLTHIST_v0a.ne30.dcs_effgw_rdg.001</span></code></p>\n"
   ]
  },
  {
   "cell_type": "code",
   "execution_count": null,
   "id": "3b9ed14e",
   "metadata": {},
   "outputs": [],
   "source": [
    "%matplotlib inline\n",
    "\n",
    "import os.path\n",
    "from pathlib import Path\n",
    "import sys"
   ]
  },
  {
   "cell_type": "code",
   "execution_count": null,
   "id": "44f3a088-fc30-4010-b452-eb743322f296",
   "metadata": {},
   "outputs": [],
   "source": [
    "# Determine ADF directory path\n",
    "# If it is in your cwd, set adf_path = local_path, \n",
    "# otherwise set adf_path appropriately\n",
    "\n",
    "local_path = os.path.abspath('')"
   ]
  },
  {
   "cell_type": "markdown",
   "id": "f5dd97e8-9f33-4a13-ad38-71be82f8a79f",
   "metadata": {},
   "source": [
    "Set the path for the ADF, ie the root directory of the ADF `/glade/work/{user}/ADF`"
   ]
  },
  {
   "cell_type": "code",
   "execution_count": null,
   "id": "3162306b-d06e-44d0-8e18-8e9495039202",
   "metadata": {},
   "outputs": [
    {
     "name": "stdout",
     "output_type": "stream",
     "text": [
      "current working directory = /glade/work/richling/ADF/adf-tutorials/ADF-Tutorial/notebooks/run\n",
      "ADF path                  = /glade/work/richling/ADF/ADF_dev/Justin_ADF/ADF\n"
     ]
    }
   ],
   "source": [
    "adf_path = \"/glade/work/{user}/ADF\"\n",
    "\n",
    "print(f\"current working directory = {local_path}\")\n",
    "print(f\"ADF path                  = {adf_path}\")"
   ]
  },
  {
   "cell_type": "code",
   "execution_count": null,
   "id": "ee605022-5fc2-4822-950b-bef7e3999212",
   "metadata": {},
   "outputs": [
    {
     "name": "stdout",
     "output_type": "stream",
     "text": [
      "The lib scripts live here, right? /glade/work/richling/ADF/ADF_dev/Justin_ADF/ADF/lib\n",
      "The plotting scripts live here, right? /glade/work/richling/ADF/ADF_dev/Justin_ADF/ADF/scripts/plotting\n"
     ]
    }
   ],
   "source": [
    "#set path to ADF lib\n",
    "lib_path = os.path.join(adf_path,\"lib\")\n",
    "print(f\"The lib scripts live here, right? {lib_path}\")\n",
    "\n",
    "#set path to ADF plotting scripts directory\n",
    "plotting_scripts_path = os.path.join(adf_path,\"scripts\",\"plotting\")\n",
    "print(f\"The plotting scripts live here, right? {plotting_scripts_path}\")\n",
    "\n",
    "#Add paths to python path:\n",
    "sys.path.append(lib_path)\n",
    "sys.path.append(plotting_scripts_path)"
   ]
  },
  {
   "cell_type": "code",
   "execution_count": null,
   "id": "afed5364-827c-422a-89cf-f6d337e9790b",
   "metadata": {},
   "outputs": [
    {
     "name": "stderr",
     "output_type": "stream",
     "text": [
      "ERROR 1: PROJ: proj_create_from_database: Open of /glade/u/apps/opt/conda/envs/npl-2022b/share/proj failed\n"
     ]
    }
   ],
   "source": [
    "#import ADF diagnostics object\n",
    "from adf_diag import AdfDiag\n",
    "\n",
    "# If this fails, check your paths output in the cells above,\n",
    "# and that you are running the NPL (conda) Kernel\n",
    "# You can see all the paths being examined by un-commenting the following:\n",
    "#sys.path"
   ]
  },
  {
   "cell_type": "code",
   "execution_count": null,
   "id": "8acb0f9e-0e0c-4823-b131-a49c0a8663ae",
   "metadata": {},
   "outputs": [],
   "source": []
  },
  {
   "cell_type": "markdown",
   "id": "a9a3dd0c-97c9-4872-9269-817a098a4acd",
   "metadata": {},
   "source": [
    "### Single CAM vs CAM case\n",
    "---"
   ]
  },
  {
   "cell_type": "markdown",
   "id": "6fe1b7cc-e3eb-40e6-82fe-25dcb925f92d",
   "metadata": {},
   "source": [
    "##### Config yaml file location and name"
   ]
  },
  {
   "cell_type": "code",
   "execution_count": null,
   "id": "9586b36f-fa23-43b4-ae4a-f6c464fc5178",
   "metadata": {},
   "outputs": [],
   "source": [
    "# Set path for config YAML file\n",
    "#config_path = \"/path/to/your/yaml/file/\"\n",
    "config_path = \"/glade/work/richling/ADF/adf-tutorials/ADF-Tutorial/config_files/\"\n",
    "\n",
    "# Set name of config YAML file:\n",
    "config_fil_str = \"config_model_vs_model_single.yaml\"\n",
    "\n",
    "# Make full path to config file\n",
    "config_file=os.path.join(config_path,config_fil_str)"
   ]
  },
  {
   "cell_type": "code",
   "execution_count": null,
   "id": "1466c675-2fbe-4d13-97fb-db863a150e48",
   "metadata": {},
   "outputs": [
    {
     "data": {
      "text/plain": [
       "<adf_diag.AdfDiag at 0x2b4984b32b80>"
      ]
     },
     "execution_count": 8,
     "metadata": {},
     "output_type": "execute_result"
    }
   ],
   "source": [
    "#Initialize ADF object with config file\n",
    "adf = AdfDiag(config_file)\n",
    "adf"
   ]
  },
  {
   "cell_type": "markdown",
   "id": "d16c8825-bfe4-4875-ac79-1a2de77cafb8",
   "metadata": {},
   "source": [
    "Say you want to grab the case names as a variable for later use, ie plot titles or file name, etc. The ADF object can provide that as well:"
   ]
  },
  {
   "cell_type": "code",
   "execution_count": 14,
   "id": "6c15e229-df20-4865-984c-7c7905cc80c8",
   "metadata": {},
   "outputs": [
    {
     "name": "stdout",
     "output_type": "stream",
     "text": [
      "['f.cam6_3_106.FLTHIST_v0a.ne30.dcs_non-ogw.001']\n",
      "f.cam6_3_106.FLTHIST_v0a.ne30.dcs_effgw_rdg.001\n"
     ]
    }
   ],
   "source": [
    "\n",
    "# Grab the case names\n",
    "case_names = adf.get_cam_info(\"cam_case_name\",required=True)\n",
    "print(case_names)\n",
    "case_names = adf.get_baseline_info(\"cam_case_name\",required=True)\n",
    "print(case_names)"
   ]
  },
  {
   "cell_type": "markdown",
   "id": "5ed9f814-4c82-42db-b238-607d802e64ed",
   "metadata": {},
   "source": [
    "Grab the climo years for all cases available (observations won't have climo years from the ADF)"
   ]
  },
  {
   "cell_type": "code",
   "execution_count": 16,
   "id": "9d55f899-fc7c-4056-9fe7-89b7336bc6d0",
   "metadata": {},
   "outputs": [
    {
     "data": {
      "text/plain": [
       "{'syears': [1995],\n",
       " 'eyears': [2012],\n",
       " 'syear_baseline': 1995,\n",
       " 'eyear_baseline': 2012}"
      ]
     },
     "execution_count": 16,
     "metadata": {},
     "output_type": "execute_result"
    }
   ],
   "source": [
    "adf.climo_yrs"
   ]
  },
  {
   "cell_type": "markdown",
   "id": "2e0966d2-2bf2-4814-bc7a-c2338e5ff486",
   "metadata": {},
   "source": [
    "Grab a list of all desired variables"
   ]
  },
  {
   "cell_type": "code",
   "execution_count": 15,
   "id": "2598b080-ddcf-4bbf-800d-2517ff97bc8a",
   "metadata": {},
   "outputs": [
    {
     "data": {
      "text/plain": [
       "['FLNT',\n",
       " 'FSNT',\n",
       " 'LHFLX',\n",
       " 'LWCF',\n",
       " 'OMEGA500',\n",
       " 'PBLH',\n",
       " 'PRECL',\n",
       " 'PRECT',\n",
       " 'PS',\n",
       " 'PSL',\n",
       " 'QFLX',\n",
       " 'CLDLIQ',\n",
       " 'Q',\n",
       " 'RELHUM',\n",
       " 'SHFLX',\n",
       " 'SST',\n",
       " 'SWCF',\n",
       " 'T',\n",
       " 'TAUX',\n",
       " 'TAUY',\n",
       " 'THETA',\n",
       " 'TREFHT',\n",
       " 'TS',\n",
       " 'U',\n",
       " 'U10',\n",
       " 'ICEFRAC',\n",
       " 'OCNFRAC',\n",
       " 'LANDFRAC']"
      ]
     },
     "execution_count": 15,
     "metadata": {},
     "output_type": "execute_result"
    }
   ],
   "source": [
    "var_list = adf.diag_var_list\n",
    "list(var_list)"
   ]
  },
  {
   "cell_type": "code",
   "execution_count": null,
   "id": "58361865-df9a-4da1-ab10-10769bb09e6a",
   "metadata": {},
   "outputs": [],
   "source": []
  },
  {
   "cell_type": "markdown",
   "id": "f87e8929-65ad-422a-833d-d3eef5ec0322",
   "metadata": {},
   "source": [
    "---"
   ]
  },
  {
   "cell_type": "markdown",
   "id": "d613da3a-6f0d-49f3-8bf5-daef8b68570a",
   "metadata": {},
   "source": [
    "## ADF Standard Work Flow"
   ]
  },
  {
   "cell_type": "markdown",
   "id": "62e9958e-3237-40d4-aa0b-1f1829c56f7a",
   "metadata": {},
   "source": [
    "#### First part of ADF is to create time series files\n",
    "    \n",
    "    * if they don't already exist or input files are in time series format already\n",
    "    \n",
    "##### This is under the hood when the ADF is run via terminal"
   ]
  },
  {
   "cell_type": "code",
   "execution_count": 17,
   "id": "9728fd00-3c5b-4aab-9d82-17c114885217",
   "metadata": {},
   "outputs": [
    {
     "name": "stdout",
     "output_type": "stream",
     "text": [
      "\n",
      "  Generating CAM time series files...\n",
      "\t Processing time series for case 'f.cam6_3_106.FLTHIST_v0a.ne30.dcs_non-ogw.001' :\n",
      "\t - time series for FLNT\n",
      "\t - time series for FSNT\n",
      "\t - time series for LHFLX\n",
      "\t - time series for LWCF\n",
      "\t - time series for OMEGA500\n",
      "\t - time series for PBLH\n",
      "\t - time series for PRECL\n",
      "\t - time series for PRECT\n",
      "\t - time series for PS\n",
      "\t - time series for PSL\n",
      "\t - time series for QFLX\n",
      "\t - time series for CLDLIQ\n",
      "\t - time series for Q\n",
      "\t - time series for RELHUM\n",
      "\t - time series for SHFLX\n",
      "\t - time series for SST\n",
      "\t - time series for SWCF\n",
      "\t - time series for T\n",
      "\t - time series for TAUX\n",
      "\t - time series for TAUY\n",
      "WARNING: THETA is not in the file /glade/work/richling/ADF/adf-tutorials/data/f.cam6_3_106.FLTHIST_v0a.ne30.dcs_non-ogw.001/f.cam6_3_106.FLTHIST_v0a.ne30.dcs_non-ogw.001.cam.h0.1995-01.nc. No time series will be generated.\n",
      "\t - time series for TREFHT\n",
      "\t - time series for TS\n",
      "\t - time series for U\n",
      "\t - time series for U10\n",
      "\t - time series for ICEFRAC\n",
      "\t - time series for OCNFRAC\n",
      "\t - time series for LANDFRAC\n",
      "  ...CAM time series file generation has finished successfully.\n",
      "CPU times: user 232 ms, sys: 84.7 ms, total: 317 ms\n",
      "Wall time: 1min 59s\n"
     ]
    }
   ],
   "source": [
    "%%time\n",
    "#Create model time series.\n",
    "adf.create_time_series()"
   ]
  },
  {
   "cell_type": "code",
   "execution_count": 18,
   "id": "575c4258-76a1-45fd-b80f-6f13efd91b52",
   "metadata": {},
   "outputs": [
    {
     "name": "stdout",
     "output_type": "stream",
     "text": [
      "\n",
      "  Generating CAM time series files...\n",
      "\t Processing time series for case 'f.cam6_3_106.FLTHIST_v0a.ne30.dcs_effgw_rdg.001' :\n",
      "\t - time series for FLNT\n",
      "\t - time series for FSNT\n",
      "\t - time series for LHFLX\n",
      "\t - time series for LWCF\n",
      "\t - time series for OMEGA500\n",
      "\t - time series for PBLH\n",
      "\t - time series for PRECL\n",
      "\t - time series for PRECT\n",
      "\t - time series for PS\n",
      "\t - time series for PSL\n",
      "\t - time series for QFLX\n",
      "\t - time series for CLDLIQ\n",
      "\t - time series for Q\n",
      "\t - time series for RELHUM\n",
      "\t - time series for SHFLX\n",
      "\t - time series for SST\n",
      "\t - time series for SWCF\n",
      "\t - time series for T\n",
      "\t - time series for TAUX\n",
      "\t - time series for TAUY\n",
      "WARNING: THETA is not in the file /glade/work/richling/ADF/adf-tutorials/data/f.cam6_3_106.FLTHIST_v0a.ne30.dcs_effgw_rdg.001/f.cam6_3_106.FLTHIST_v0a.ne30.dcs_effgw_rdg.001.cam.h0.1995-01.nc. No time series will be generated.\n",
      "\t - time series for TREFHT\n",
      "\t - time series for TS\n",
      "\t - time series for U\n",
      "\t - time series for U10\n",
      "\t - time series for ICEFRAC\n",
      "\t - time series for OCNFRAC\n",
      "\t - time series for LANDFRAC\n",
      "  ...CAM time series file generation has finished successfully.\n",
      "CPU times: user 241 ms, sys: 92.5 ms, total: 333 ms\n",
      "Wall time: 2min 1s\n"
     ]
    }
   ],
   "source": [
    "%%time\n",
    "#Create model baseline time series (if needed):\n",
    "\n",
    "# Since we are doing model vs model\n",
    "if not adf.compare_obs:\n",
    "    adf.create_time_series(baseline=True)"
   ]
  },
  {
   "cell_type": "markdown",
   "id": "e1a37fe1-5789-4a31-918e-f4a73103b86e",
   "metadata": {},
   "source": [
    "#### Next, create climotology files from time series files"
   ]
  },
  {
   "cell_type": "code",
   "execution_count": 20,
   "id": "5afafe1e-9204-4a3c-9c14-aab4aae0c3da",
   "metadata": {},
   "outputs": [
    {
     "name": "stdout",
     "output_type": "stream",
     "text": [
      "\n",
      "  Calculating CAM climatologies...\n",
      "\t Calculating climatologies for case 'f.cam6_3_106.FLTHIST_v0a.ne30.dcs_non-ogw.001' :\n",
      "\t    /glade/work/richling/ADF/adf-tutorials/adf-output/climo/f.cam6_3_106.FLTHIST_v0a.ne30.dcs_non-ogw.001/fake not found, making new directory\n",
      "The input location searched was: /glade/work/richling/ADF/adf-tutorials/adf-output/ts/f.cam6_3_106.FLTHIST_v0a.ne30.dcs_non-ogw.001/fake. The glob pattern was f.cam6_3_106.FLTHIST_v0a.ne30.dcs_non-ogw.001*.THETA.*nc.\n",
      "\t Calculating climatologies for case 'f.cam6_3_106.FLTHIST_v0a.ne30.dcs_effgw_rdg.001' :\n",
      "\t    /glade/work/richling/ADF/adf-tutorials/adf-output/climo/f.cam6_3_106.FLTHIST_v0a.ne30.dcs_effgw_rdg.001/fake not found, making new directory\n",
      "The input location searched was: /glade/work/richling/ADF/adf-tutorials/adf-output/ts/f.cam6_3_106.FLTHIST_v0a.ne30.dcs_effgw_rdg.001/fake. The glob pattern was f.cam6_3_106.FLTHIST_v0a.ne30.dcs_effgw_rdg.001*.THETA.*nc.\n",
      "  ...CAM climatologies have been calculated successfully.\n",
      "CPU times: user 47.4 ms, sys: 126 ms, total: 174 ms\n",
      "Wall time: 22min 57s\n"
     ]
    }
   ],
   "source": [
    "%%time\n",
    "#Create model climatology (climo) files.\n",
    "adf.create_climo()"
   ]
  },
  {
   "cell_type": "markdown",
   "id": "89e98cf0-78b6-434c-8b79-c7ef8f53ac59",
   "metadata": {},
   "source": [
    "#### Finally, regrid climotology files"
   ]
  },
  {
   "cell_type": "code",
   "execution_count": null,
   "id": "bd217e86-cac4-4f44-89a3-da8c5c8b8a4b",
   "metadata": {},
   "outputs": [],
   "source": [
    "%%time\n",
    "#Regrid model climatology files to match either observations or CAM baseline climatologies.\n",
    "#This call uses the \"regridding_scripts\" specified in the config file:\n",
    "adf.regrid_climo()"
   ]
  },
  {
   "cell_type": "markdown",
   "id": "1b4ed913-8139-498e-a636-5eaba828a8e5",
   "metadata": {},
   "source": [
    "```\n",
    "Regridding CAM climatologies...\n",
    "    /glade/work/richling/ADF/adf-tutorials/adf-output/regrid not found, making new directory\n",
    "\t Regridding case 'f.cam6_3_106.FLTHIST_v0a.ne30.dcs_non-ogw.001' :\n",
    "\t - regridding PS (known targets: ['f.cam6_3_106.FLTHIST_v0a.ne30.dcs_effgw_rdg.001'])\n",
    "\t    /glade/work/richling/ADF/adf-tutorials/adf-output/diag-plot/f.cam6_3_106.FLTHIST_v0a.ne30.dcs_non-ogw.001_1995_2012_vs_f.cam6_3_106.FLTHIST_v0a.ne30.dcs_effgw_rdg.001_1995_2012 not found, making new directory\n",
    "\t - regridding FLNT (known targets: ['f.cam6_3_106.FLTHIST_v0a.ne30.dcs_effgw_rdg.001'])\n",
    "\t - regridding FSNT (known targets: ['f.cam6_3_106.FLTHIST_v0a.ne30.dcs_effgw_rdg.001'])\n",
    "\t - regridding LHFLX (known targets: ['f.cam6_3_106.FLTHIST_v0a.ne30.dcs_effgw_rdg.001'])\n",
    "\t - regridding LWCF (known targets: ['f.cam6_3_106.FLTHIST_v0a.ne30.dcs_effgw_rdg.001'])\n",
    "\t - regridding OMEGA500 (known targets: ['f.cam6_3_106.FLTHIST_v0a.ne30.dcs_effgw_rdg.001'])\n",
    "\t - regridding PBLH (known targets: ['f.cam6_3_106.FLTHIST_v0a.ne30.dcs_effgw_rdg.001'])\n",
    "\t - regridding PRECL (known targets: ['f.cam6_3_106.FLTHIST_v0a.ne30.dcs_effgw_rdg.001'])\n",
    "\t - regridding PRECT (known targets: ['f.cam6_3_106.FLTHIST_v0a.ne30.dcs_effgw_rdg.001'])\n",
    "\t - regridding PSL (known targets: ['f.cam6_3_106.FLTHIST_v0a.ne30.dcs_effgw_rdg.001'])\n",
    "\t - regridding QFLX (known targets: ['f.cam6_3_106.FLTHIST_v0a.ne30.dcs_effgw_rdg.001'])\n",
    "\t - regridding CLDLIQ (known targets: ['f.cam6_3_106.FLTHIST_v0a.ne30.dcs_effgw_rdg.001'])\n",
    "Please ignore the interpolation warnings that follow!\n",
    "Interpolation point out of data bounds encountered\n",
    "Interpolation point out of data bounds encountered\n",
    "Please ignore the interpolation warnings that follow!\n",
    "Interpolation point out of data bounds encountered\n",
    "Interpolation point out of data bounds encountered\n",
    "\t - regridding Q (known targets: ['f.cam6_3_106.FLTHIST_v0a.ne30.dcs_effgw_rdg.001'])\n",
    "Please ignore the interpolation warnings that follow!\n",
    "Interpolation point out of data bounds encountered\n",
    "Interpolation point out of data bounds encountered\n",
    "Please ignore the interpolation warnings that follow!\n",
    "Interpolation point out of data bounds encountered\n",
    "Interpolation point out of data bounds encountered\n",
    "\t - regridding RELHUM (known targets: ['f.cam6_3_106.FLTHIST_v0a.ne30.dcs_effgw_rdg.001'])\n",
    "Please ignore the interpolation warnings that follow!\n",
    "Interpolation point out of data bounds encountered\n",
    "Interpolation point out of data bounds encountered\n",
    "Please ignore the interpolation warnings that follow!\n",
    "Interpolation point out of data bounds encountered\n",
    "Interpolation point out of data bounds encountered\n",
    "\t - regridding SHFLX (known targets: ['f.cam6_3_106.FLTHIST_v0a.ne30.dcs_effgw_rdg.001'])\n",
    "\t - regridding SST (known targets: ['f.cam6_3_106.FLTHIST_v0a.ne30.dcs_effgw_rdg.001'])\n",
    "\t - regridding SWCF (known targets: ['f.cam6_3_106.FLTHIST_v0a.ne30.dcs_effgw_rdg.001'])\n",
    "\t - regridding T (known targets: ['f.cam6_3_106.FLTHIST_v0a.ne30.dcs_effgw_rdg.001'])\n",
    "Please ignore the interpolation warnings that follow!\n",
    "Interpolation point out of data bounds encountered\n",
    "Interpolation point out of data bounds encountered\n",
    "Please ignore the interpolation warnings that follow!\n",
    "Interpolation point out of data bounds encountered\n",
    "Interpolation point out of data bounds encountered\n",
    "\t - regridding TAUX (known targets: ['f.cam6_3_106.FLTHIST_v0a.ne30.dcs_effgw_rdg.001'])\n",
    "\t - regridding TAUY (known targets: ['f.cam6_3_106.FLTHIST_v0a.ne30.dcs_effgw_rdg.001'])\n",
    "\t - regridding THETA (known targets: ['f.cam6_3_106.FLTHIST_v0a.ne30.dcs_effgw_rdg.001'])\n",
    "\t - regridding THETA failed, no file. Continuing to next variable.\n",
    "\t - regridding TREFHT (known targets: ['f.cam6_3_106.FLTHIST_v0a.ne30.dcs_effgw_rdg.001'])\n",
    "\t - regridding TS (known targets: ['f.cam6_3_106.FLTHIST_v0a.ne30.dcs_effgw_rdg.001'])\n",
    "\t - regridding U (known targets: ['f.cam6_3_106.FLTHIST_v0a.ne30.dcs_effgw_rdg.001'])\n",
    "Please ignore the interpolation warnings that follow!\n",
    "Interpolation point out of data bounds encountered\n",
    "Interpolation point out of data bounds encountered\n",
    "Please ignore the interpolation warnings that follow!\n",
    "Interpolation point out of data bounds encountered\n",
    "Interpolation point out of data bounds encountered\n",
    "\t - regridding U10 (known targets: ['f.cam6_3_106.FLTHIST_v0a.ne30.dcs_effgw_rdg.001'])\n",
    "\t - regridding ICEFRAC (known targets: ['f.cam6_3_106.FLTHIST_v0a.ne30.dcs_effgw_rdg.001'])\n",
    "\t - regridding OCNFRAC (known targets: ['f.cam6_3_106.FLTHIST_v0a.ne30.dcs_effgw_rdg.001'])\n",
    "\t - regridding LANDFRAC (known targets: ['f.cam6_3_106.FLTHIST_v0a.ne30.dcs_effgw_rdg.001'])\n",
    "  ...CAM climatologies have been regridded successfully.\n",
    "CPU times: user 59.7 s, sys: 17.7 s, total: 1min 17s\n",
    "Wall time: 1min 27s\n",
    "```"
   ]
  },
  {
   "cell_type": "markdown",
   "id": "eab0e7fa-4511-4a81-a053-2b26e572e5a9",
   "metadata": {},
   "source": [
    "### Start diagnostics calls now"
   ]
  },
  {
   "cell_type": "markdown",
   "id": "19ebb1de-510c-4a83-a856-5ec1c0c327ef",
   "metadata": {},
   "source": [
    "##### Run the analysis script to create the AMWG tables"
   ]
  },
  {
   "cell_type": "code",
   "execution_count": null,
   "id": "362da236-bb3a-43f5-a115-88d560f2c940",
   "metadata": {},
   "outputs": [],
   "source": [
    "#Perform analyses on the simulation(s).\n",
    "#This call uses the \"analysis_scripts\" specified in the\n",
    "#config file:\n",
    "adf.perform_analyses()"
   ]
  },
  {
   "cell_type": "markdown",
   "id": "34a2219e-9366-400c-85b8-ba08ba293844",
   "metadata": {},
   "source": [
    "##### Run the plotting scripts"
   ]
  },
  {
   "cell_type": "code",
   "execution_count": null,
   "id": "f17fdd0b-5fb1-4c7a-b524-b47e5bc15738",
   "metadata": {},
   "outputs": [],
   "source": [
    "#Create plots.\n",
    "#This call uses the \"plotting_scripts\" specified\n",
    "#in the config file:\n",
    "adf.create_plots()"
   ]
  },
  {
   "cell_type": "markdown",
   "id": "efee21f1-fd83-41e5-b208-9c504283ee31",
   "metadata": {},
   "source": [
    "### Now we can generate webpage `html` files"
   ]
  },
  {
   "cell_type": "code",
   "execution_count": null,
   "id": "f6f1eb44-dc6a-4106-a7f8-38a266d8f955",
   "metadata": {},
   "outputs": [],
   "source": [
    "#Create website if requested in the config file\n",
    "if adf.create_html:\n",
    "    adf.create_website()"
   ]
  },
  {
   "cell_type": "markdown",
   "id": "b9c4e44e-f3c5-4f40-ab63-8d9b2f57d140",
   "metadata": {},
   "source": [
    "---"
   ]
  },
  {
   "cell_type": "markdown",
   "id": "bf1f4a76-0c90-4900-a7da-cb1f666e394f",
   "metadata": {},
   "source": [
    "## End single CAM vs CAM case\n",
    "\n",
    "Hope everything went well...\n"
   ]
  }
 ],
 "metadata": {
  "kernelspec": {
   "display_name": "CMIP6 2019.10a",
   "language": "python",
   "name": "cmip6-201910a"
  },
  "language_info": {
   "codemirror_mode": {
    "name": "ipython",
    "version": 3
   },
   "file_extension": ".py",
   "mimetype": "text/x-python",
   "name": "python",
   "nbconvert_exporter": "python",
   "pygments_lexer": "ipython3",
   "version": "3.7.3"
  }
 },
 "nbformat": 4,
 "nbformat_minor": 5
}
