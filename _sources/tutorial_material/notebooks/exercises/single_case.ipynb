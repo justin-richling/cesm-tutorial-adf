{
 "cells": [
  {
   "cell_type": "markdown",
   "id": "3f692f94-88eb-424d-8c01-7946d8ac09b8",
   "metadata": {},
   "source": [
    "# Exercises On Your Own!"
   ]
  },
  {
   "cell_type": "markdown",
   "id": "866b17eb-36e0-46a6-b35b-f4dbb0ced559",
   "metadata": {},
   "source": [
    "### Single Case Comparison"
   ]
  },
  {
   "cell_type": "code",
   "execution_count": null,
   "id": "6407860f-e130-4d6d-9f8b-02bf9c12b154",
   "metadata": {},
   "outputs": [],
   "source": []
  }
 ],
 "metadata": {
  "kernelspec": {
   "display_name": "Python 3 (ipykernel)",
   "language": "python",
   "name": "python3"
  },
  "language_info": {
   "codemirror_mode": {
    "name": "ipython",
    "version": 3
   },
   "file_extension": ".py",
   "mimetype": "text/x-python",
   "name": "python",
   "nbconvert_exporter": "python",
   "pygments_lexer": "ipython3",
   "version": "3.9.12"
  }
 },
 "nbformat": 4,
 "nbformat_minor": 5
}
