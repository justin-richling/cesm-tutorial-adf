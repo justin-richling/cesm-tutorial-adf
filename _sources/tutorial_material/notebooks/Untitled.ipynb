{
 "cells": [
  {
   "cell_type": "code",
   "execution_count": 7,
   "id": "3cf78627-2142-4ef1-87fd-368eb06a8cac",
   "metadata": {},
   "outputs": [],
   "source": [
    "mv run/basics/single_case.ipynb examples/single_case.ipynb"
   ]
  },
  {
   "cell_type": "code",
   "execution_count": 3,
   "id": "11032b94-6200-4dc7-ade0-5f150f465159",
   "metadata": {},
   "outputs": [
    {
     "data": {
      "text/plain": [
       "'/glade/work/richling/ADF/adf-demo/notebooks'"
      ]
     },
     "execution_count": 3,
     "metadata": {},
     "output_type": "execute_result"
    }
   ],
   "source": [
    "pwd"
   ]
  },
  {
   "cell_type": "code",
   "execution_count": 4,
   "id": "27c32a78-75aa-476a-85dd-efba6061af5b",
   "metadata": {},
   "outputs": [
    {
     "name": "stdout",
     "output_type": "stream",
     "text": [
      "\u001b[0m\u001b[01;34mbasics\u001b[0m/       basics-tutorial.ipynb  Jupyter.ipynb  terminal.ipynb\n",
      "basics.ipynb  \u001b[01;34mJupyter\u001b[0m/               \u001b[01;34mterminal\u001b[0m/\n"
     ]
    }
   ],
   "source": [
    "ls run/"
   ]
  },
  {
   "cell_type": "code",
   "execution_count": null,
   "id": "4002faf9-ff10-4d0d-8f56-7e080a40729e",
   "metadata": {},
   "outputs": [],
   "source": []
  },
  {
   "cell_type": "code",
   "execution_count": null,
   "id": "c5b15011-6abf-4b23-9348-847d13ce4885",
   "metadata": {},
   "outputs": [],
   "source": []
  },
  {
   "cell_type": "code",
   "execution_count": 3,
   "id": "e351cd10-6ac0-4311-9c74-1e69f6b94232",
   "metadata": {},
   "outputs": [
    {
     "name": "stdout",
     "output_type": "stream",
     "text": [
      "current working directory = /glade/work/richling/ADF/adf-demo/notebooks\n",
      "ADF path                  = /glade/work/richling/ADF/ADF/\n",
      "The lib scripts live here, right? /glade/work/richling/ADF/ADF/lib\n",
      "The plotting scripts live here, right? /glade/work/richling/ADF/ADF/scripts/plotting\n"
     ]
    }
   ],
   "source": [
    "import os.path\n",
    "from pathlib import Path\n",
    "import sys\n",
    "\n",
    "# Determine ADF directory path\n",
    "# If it is in your cwd, set adf_path = local_path, \n",
    "# otherwise set adf_path appropriately\n",
    "\n",
    "local_path = os.path.abspath('')\n",
    "\n",
    "\n",
    "#adf_path = \"/glade/work/{user}/ADF\" # <-- uncomment and use your username\n",
    "adf_path = \"/glade/work/richling/ADF/ADF/\" # <-- then comment out\n",
    "\n",
    "print(f\"current working directory = {local_path}\")\n",
    "print(f\"ADF path                  = {adf_path}\")\n",
    "\n",
    "#set path to ADF lib\n",
    "lib_path = os.path.join(adf_path,\"lib\")\n",
    "print(f\"The lib scripts live here, right? {lib_path}\")\n",
    "\n",
    "#set path to ADF plotting scripts directory\n",
    "plotting_scripts_path = os.path.join(adf_path,\"scripts\",\"plotting\")\n",
    "print(f\"The plotting scripts live here, right? {plotting_scripts_path}\")\n",
    "\n",
    "#Add paths to python path:\n",
    "sys.path.append(lib_path)\n",
    "sys.path.append(plotting_scripts_path)\n",
    "\n",
    "#import ADF diagnostics object\n",
    "from adf_diag import AdfDiag\n",
    "\n",
    "# If this fails, check your paths output in the cells above,\n",
    "# and that you are running the NPL (conda) Kernel\n",
    "# You can see all the paths being examined by un-commenting the following:\n",
    "#sys.path"
   ]
  },
  {
   "cell_type": "code",
   "execution_count": 4,
   "id": "370c129a-3096-4e4f-ad1d-736f0c2b4016",
   "metadata": {},
   "outputs": [],
   "source": [
    "#Set path to config YAML file:\n",
    "config_fil = \"/glade/u/home/brianpm/drive_diagnostics/test_ca_sc_plot.yaml\"\n",
    "\n",
    "#Initialize ADF object:\n",
    "adf = AdfDiag(config_fil)"
   ]
  },
  {
   "cell_type": "code",
   "execution_count": null,
   "id": "9f5d0863-3693-480e-9cb2-bb1211616d71",
   "metadata": {},
   "outputs": [],
   "source": [
    "case_names = adf.get_cam_info('cam_case_name', required=True)  # Loop over these\n",
    "case_climo_loc = adf.get_cam_info('cam_climo_loc', required=True)\n",
    "data_name = adf.get_baseline_info('cam_case_name', required=True)\n",
    "data_list = data_name # should not be needed (?)\n",
    "data_loc = adf.get_baseline_info(\"cam_climo_loc\", required=True)"
   ]
  },
  {
   "cell_type": "code",
   "execution_count": 5,
   "id": "77f1cf50-6d46-450b-89f2-a855190a8b91",
   "metadata": {},
   "outputs": [],
   "source": [
    "basic_info_dict = adf.read_config_var(\"diag_basic_info\")\n",
    "plot_type = basic_info_dict.get('plot_type', 'png')\n",
    "\n",
    "import numpy as np\n",
    "\n",
    "#Set seasonal ranges:\n",
    "seasons = {\"ANN\": np.arange(1,13,1),\n",
    "            \"DJF\": [12, 1, 2],\n",
    "            \"JJA\": [6, 7, 8],\n",
    "            \"MAM\": [3, 4, 5],\n",
    "            \"SON\": [9, 10, 11]}"
   ]
  },
  {
   "cell_type": "code",
   "execution_count": null,
   "id": "efa40ff0-4ca9-4f15-a9fd-6d5d9c60f3b1",
   "metadata": {},
   "outputs": [],
   "source": []
  },
  {
   "cell_type": "code",
   "execution_count": null,
   "id": "0af0a539-9c94-4486-9e63-ad3dfd695d90",
   "metadata": {},
   "outputs": [],
   "source": []
  },
  {
   "cell_type": "code",
   "execution_count": 6,
   "id": "06faf03c-5b97-486f-bdb9-6223f0a10508",
   "metadata": {},
   "outputs": [],
   "source": [
    "import xarray as xr\n",
    "import numpy as np\n",
    "import geocat.comp as gc  # use geocat's interpolation\n",
    "import matplotlib.pyplot as plt\n",
    "from cycler import cycler\n",
    "from pathlib import Path \n",
    "\n",
    "\n",
    "def california_stratocumulus(adfobj):\n",
    "    \"\"\"Main function for making the California stratocumulus profile plot.\n",
    "    \n",
    "    Makes profiles of specific humidity, potential temperature, and cloud liquid water\n",
    "    in the region 20N-30N, 230E-240E. Uses the climatological mean files, makes Annual and Seasonal average plots.\n",
    "    Plots each case versus baseline/reference case separately. \n",
    "    Interpolates to pressure levels 600hPa to 1000hPa by 15 hPa.\n",
    "    \"\"\"\n",
    "    # Check that we have the required variables:\n",
    "    var_list = adfobj.diag_var_list\n",
    "    our_required_variables = ['CLDLIQ', 'PS', 'T', 'Q']\n",
    "    for req in our_required_variables:\n",
    "        assert req in var_list, f'Sorry variable: {req} is required for California stratocumulus plot'\n",
    "\n",
    "    # ADF-specified location for plot output    \n",
    "    plot_locations = adfobj.plot_location\n",
    "    plot_type = adfobj.get_basic_info('plot_location', required=False)\n",
    "    if plot_type is None:\n",
    "        plot_type = 'png'\n",
    "\n",
    "    #\n",
    "    # Case Names and Locations\n",
    "    #\n",
    "    case_names = adfobj.get_cam_info('cam_case_name', required=True)  # Loop over these\n",
    "    case_climo_loc = adfobj.get_cam_info('cam_climo_loc', required=True)\n",
    "    data_name = adfobj.get_baseline_info('cam_case_name', required=True)\n",
    "    data_loc = adfobj.get_baseline_info(\"cam_climo_loc\", required=True)\n",
    "\n",
    "    seasons = {\"ANN\": np.arange(1,13,1), \"DJF\": [12, 1, 2], \"JJA\": [6, 7, 8], \"MAM\": [3, 4, 5], \"SON\": [9, 10, 11]}\n",
    "    # define domain\n",
    "    latslice = slice(20,30)\n",
    "    lonslice = slice(230,240) # Klein&Hartmann 1993, Table 1\n",
    "    levels = 100.*np.arange(600.0, 1015., 15)  # chosen for convenience. Go finer if native grid is finer.\n",
    "    ref_ds = process_case(data_loc, latslice, lonslice, levels)\n",
    "\n",
    "    for i, c in enumerate(case_names):\n",
    "        case_ds = process_case(case_climo_loc[i], latslice, lonslice, levels)\n",
    "        for s in seasons:\n",
    "            ref_season = ref_ds.sel(time=seasons[s]).mean(dim='time')\n",
    "            case_season = case_ds.sel(time=seasons[s]).mean(dim='time')\n",
    "            # ** Ready to make plot **\n",
    "            labels = [data_name, c]\n",
    "            casefig, caseax = make_plot(ref_season, case_season, labels)\n",
    "            casefig.suptitle(f\"California Stratocumulus, {s}\")\n",
    "\n",
    "            if isinstance(plot_locations, list):\n",
    "                assert len(plot_locations) == len(case_names), 'Plot locations is a list, so should provide locations per case.'\n",
    "                plot_loc = plot_locations[i]\n",
    "            else:\n",
    "                plot_loc = plot_locations\n",
    "            plot_name = Path(plot_loc) / f\"TQL_{s}_CalSc_Mean.{plot_type}\"\n",
    "            #Remove old plot, if it already exists:\n",
    "            if plot_name.is_file():\n",
    "                plot_name.unlink()\n",
    "            casefig.savefig(plot_name, bbox_inches='tight')\n",
    "            print(f\"California Stratocumulus Plot: completed {s}. File: {plot_name}\")       \n",
    "#\n",
    "#  ---- local functions ----\n",
    "#\n",
    "def make_plot(ds1, ds2, caselabels):\n",
    "    fig, ax = plt.subplots(figsize=(9,4), ncols=3, sharey=True, constrained_layout=True)\n",
    "    custom_cycler = (cycler(color=['k', 'r', 'y', 'y']) +\n",
    "                 cycler(lw=[2, 2, 1, 1]))\n",
    "    [a.set_prop_cycle(custom_cycler) for a in ax]\n",
    "    if ds1['Q'].max() < 0.1:\n",
    "        qscale = 1000. # kg/kg -> mg/kg\n",
    "    else:\n",
    "        qscale = 1\n",
    "    if ds1['CLDLIQ'].max() < 0.001:\n",
    "        lscale = 1000.*1000.  # kg/kg -> ug/kg\n",
    "    else:\n",
    "        lscale = 1\n",
    "    ax[0].plot(ds1['Q']*qscale, ds1['plev']/100, label=caselabels[0])\n",
    "    ax[0].plot(ds2['Q']*qscale, ds2['plev']/100, label=caselabels[1])\n",
    "    ax[0].set_xlim([0,25])\n",
    "    ax[0].set_xlabel(\"Specific Humidity [g/kg]\")\n",
    "    ax[1].plot(ds1['THETA'], ds1['plev']/100)\n",
    "    ax[1].plot(ds2['THETA'], ds2['plev']/100)\n",
    "    ax[1].set_xlabel(\"Potential Temperature [K]\")\n",
    "    ax[1].set_xlim([275, 325])\n",
    "    ax[2].plot(ds1['CLDLIQ']*lscale, ds1['plev']/100)\n",
    "    ax[2].plot(ds2['CLDLIQ']*lscale, ds2['plev']/100)\n",
    "    ax[2].set_xlabel(\"Cloud Liquid [$\\mu$g/kg]\")\n",
    "    ax[2].set_xlim([0,150])\n",
    "    ax[2].invert_yaxis()\n",
    "    ax[0].set_ylabel(\"Pressure\")\n",
    "    [a.spines['top'].set_visible(False) for a in ax]\n",
    "    [a.spines['right'].set_visible(False) for a in ax]\n",
    "    fig.legend(loc='upper left', bbox_to_anchor=(0.0, -0.01))\n",
    "    return fig, ax\n",
    "\n",
    "\n",
    "def process_case(climo_loc, latitude, longitude, pressurelevels):\n",
    "    fils = sorted(list(Path(climo_loc).glob(f\"*_T_*.nc\")))\n",
    "    temperature = xr.open_mfdataset(fils)['T'].sel(lat=latitude, lon=longitude).compute()\n",
    "    fils = sorted(list(Path(climo_loc).glob(f\"*_Q_*.nc\")))\n",
    "    vapor = xr.open_mfdataset(fils)['Q'].sel(lat=latitude, lon=longitude).compute()\n",
    "    fils = sorted(list(Path(climo_loc).glob(f\"*_CLDLIQ_*.nc\")))\n",
    "    liquid = xr.open_mfdataset(fils)['CLDLIQ'].sel(lat=latitude, lon=longitude).compute()\n",
    "    # In one of these, we also need the hybrid-sigma coefficients\n",
    "    fils = sorted(list(Path(climo_loc).glob(f\"*_PS_*.nc\")))\n",
    "    ps_ds = xr.open_mfdataset(fils)\n",
    "    ps = ps_ds['PS'].sel(lat=latitude, lon=longitude).compute()\n",
    "    hyam = ps_ds['hyam'].isel(time=0).compute() # drop redundant time dimension\n",
    "    hybm = ps_ds['hybm'].isel(time=0).compute()\n",
    "    ps.name = \"PS\"\n",
    "    # we aren't done. Interpolate to pressure levels here:\n",
    "    t_plev = gc.interp_hybrid_to_pressure(temperature, ps, hyam, hybm, new_levels=pressurelevels, lev_dim='lev').compute()\n",
    "    q_plev = gc.interp_hybrid_to_pressure(vapor, ps, hyam, hybm, new_levels=pressurelevels, lev_dim='lev').compute()\n",
    "    liq_plev = gc.interp_hybrid_to_pressure(liquid, ps, hyam, hybm, new_levels=pressurelevels, lev_dim='lev').compute()\n",
    "    t_plev.name = \"T\"\n",
    "    q_plev.name = \"Q\"\n",
    "    liq_plev.name = 'CLDLIQ'\n",
    "    # But hold on, we actually want theta, not T:\n",
    "    p = xr.DataArray(pressurelevels, dims='plev', coords={'plev': t_plev.plev})\n",
    "    # pressurelevels expected in Pa!\n",
    "    theta_plev = t_plev * ((100000. / p)**0.2854)  # https://glossary.ametsoc.org/wiki/Potential_temperature &  https://glossary.ametsoc.org/wiki/Poisson_constant\n",
    "    # Still not done -- average over the area:\n",
    "    w = np.cos(np.radians(temperature.lat))  # area weighting\n",
    "    theta_aave = theta_plev.weighted(w).mean(dim=(\"lat\",\"lon\"))  # (12months x pressurelevels.shape[0])\n",
    "    theta_aave.name = \"THETA\"\n",
    "    q_aave = q_plev.weighted(w).mean(dim=(\"lat\",\"lon\"))\n",
    "    liq_aave = liq_plev.weighted(w).mean(dim=(\"lat\",\"lon\"))\n",
    "    ps_aave = ps.weighted(w).mean(dim=(\"lat\",\"lon\"))\n",
    "    return xr.merge([theta_aave, q_aave, liq_aave, ps_aave])"
   ]
  },
  {
   "cell_type": "code",
   "execution_count": 8,
   "id": "a0cde5d8-d520-45c5-bd98-5b6fb5698fd9",
   "metadata": {},
   "outputs": [
    {
     "data": {
      "text/plain": [
       "\u001b[0;31mSignature:\u001b[0m\n",
       "\u001b[0mgc\u001b[0m\u001b[0;34m.\u001b[0m\u001b[0minterp_sigma_to_hybrid\u001b[0m\u001b[0;34m(\u001b[0m\u001b[0;34m\u001b[0m\n",
       "\u001b[0;34m\u001b[0m    \u001b[0mdata\u001b[0m\u001b[0;34m:\u001b[0m \u001b[0mxarray\u001b[0m\u001b[0;34m.\u001b[0m\u001b[0mcore\u001b[0m\u001b[0;34m.\u001b[0m\u001b[0mdataarray\u001b[0m\u001b[0;34m.\u001b[0m\u001b[0mDataArray\u001b[0m\u001b[0;34m,\u001b[0m\u001b[0;34m\u001b[0m\n",
       "\u001b[0;34m\u001b[0m    \u001b[0msig_coords\u001b[0m\u001b[0;34m:\u001b[0m \u001b[0mxarray\u001b[0m\u001b[0;34m.\u001b[0m\u001b[0mcore\u001b[0m\u001b[0;34m.\u001b[0m\u001b[0mdataarray\u001b[0m\u001b[0;34m.\u001b[0m\u001b[0mDataArray\u001b[0m\u001b[0;34m,\u001b[0m\u001b[0;34m\u001b[0m\n",
       "\u001b[0;34m\u001b[0m    \u001b[0mps\u001b[0m\u001b[0;34m:\u001b[0m \u001b[0mxarray\u001b[0m\u001b[0;34m.\u001b[0m\u001b[0mcore\u001b[0m\u001b[0;34m.\u001b[0m\u001b[0mdataarray\u001b[0m\u001b[0;34m.\u001b[0m\u001b[0mDataArray\u001b[0m\u001b[0;34m,\u001b[0m\u001b[0;34m\u001b[0m\n",
       "\u001b[0;34m\u001b[0m    \u001b[0mhyam\u001b[0m\u001b[0;34m:\u001b[0m \u001b[0mxarray\u001b[0m\u001b[0;34m.\u001b[0m\u001b[0mcore\u001b[0m\u001b[0;34m.\u001b[0m\u001b[0mdataarray\u001b[0m\u001b[0;34m.\u001b[0m\u001b[0mDataArray\u001b[0m\u001b[0;34m,\u001b[0m\u001b[0;34m\u001b[0m\n",
       "\u001b[0;34m\u001b[0m    \u001b[0mhybm\u001b[0m\u001b[0;34m:\u001b[0m \u001b[0mxarray\u001b[0m\u001b[0;34m.\u001b[0m\u001b[0mcore\u001b[0m\u001b[0;34m.\u001b[0m\u001b[0mdataarray\u001b[0m\u001b[0;34m.\u001b[0m\u001b[0mDataArray\u001b[0m\u001b[0;34m,\u001b[0m\u001b[0;34m\u001b[0m\n",
       "\u001b[0;34m\u001b[0m    \u001b[0mp0\u001b[0m\u001b[0;34m:\u001b[0m \u001b[0mfloat\u001b[0m \u001b[0;34m=\u001b[0m \u001b[0;36m100000.0\u001b[0m\u001b[0;34m,\u001b[0m\u001b[0;34m\u001b[0m\n",
       "\u001b[0;34m\u001b[0m    \u001b[0mlev_dim\u001b[0m\u001b[0;34m:\u001b[0m \u001b[0mstr\u001b[0m \u001b[0;34m=\u001b[0m \u001b[0;32mNone\u001b[0m\u001b[0;34m,\u001b[0m\u001b[0;34m\u001b[0m\n",
       "\u001b[0;34m\u001b[0m    \u001b[0mmethod\u001b[0m\u001b[0;34m:\u001b[0m \u001b[0mstr\u001b[0m \u001b[0;34m=\u001b[0m \u001b[0;34m'linear'\u001b[0m\u001b[0;34m,\u001b[0m\u001b[0;34m\u001b[0m\n",
       "\u001b[0;34m\u001b[0m\u001b[0;34m)\u001b[0m \u001b[0;34m->\u001b[0m \u001b[0mxarray\u001b[0m\u001b[0;34m.\u001b[0m\u001b[0mcore\u001b[0m\u001b[0;34m.\u001b[0m\u001b[0mdataarray\u001b[0m\u001b[0;34m.\u001b[0m\u001b[0mDataArray\u001b[0m\u001b[0;34m\u001b[0m\u001b[0;34m\u001b[0m\u001b[0m\n",
       "\u001b[0;31mDocstring:\u001b[0m\n",
       "Interpolate data from sigma to hybrid coordinates.  Keeps the attributes\n",
       "(i.e. meta information) of the input data in the output as default.\n",
       "\n",
       "Parameters\n",
       "----------\n",
       "data : :class:`xarray.DataArray`\n",
       "    Multidimensional data array, which holds sigma levels and has a ``lev_dim`` coordinate.\n",
       "\n",
       "sig_coords : :class:`xarray.DataArray`\n",
       "    A one-dimensional array of sigma coordinates of ``lev_dim`` of ``data``.\n",
       "\n",
       "ps : :class:`xarray.DataArray`\n",
       "    A multi-dimensional array of surface pressures (Pa), same time/space shape as data.\n",
       "\n",
       "hyam, hybm : :class:`xarray.DataArray`\n",
       "    One-dimensional arrays containing the hybrid A and B coefficients. Must have the same\n",
       "    dimension as the output hybrid levels.\n",
       "\n",
       "p0 : float, optional\n",
       "    Scalar numeric value equal to surface reference pressure (Pa). Defaults to 100000 Pa.\n",
       "\n",
       "lev_dim : str, optional\n",
       "    String that is the name of level dimension in data. Defaults to \"lev\".\n",
       "\n",
       "method : str, optional\n",
       "    String that is the interpolation method; can be either \"linear\" or \"log\". Defaults to \"linear\".\n",
       "\n",
       "Returns\n",
       "-------\n",
       "output : :class:`xarray.DataArray`\n",
       "    Interpolated data with hybrid levels\n",
       "\n",
       "See Also\n",
       "--------\n",
       "Related NCL Function:\n",
       "`sigma2hybrid <https://www.ncl.ucar.edu/Document/Functions/Built-in/sigma2hybrid.shtml>`__\n",
       "\u001b[0;31mFile:\u001b[0m      /glade/u/apps/opt/conda/envs/npl-2023a/lib/python3.9/site-packages/geocat/comp/interpolation.py\n",
       "\u001b[0;31mType:\u001b[0m      function"
      ]
     },
     "metadata": {},
     "output_type": "display_data"
    }
   ],
   "source": [
    "gc.interp_sigma_to_hybrid?"
   ]
  },
  {
   "cell_type": "code",
   "execution_count": 7,
   "id": "9b5c6cbc-3cab-4648-a3a3-79c4e207a64e",
   "metadata": {},
   "outputs": [
    {
     "ename": "OSError",
     "evalue": "no files to open",
     "output_type": "error",
     "traceback": [
      "\u001b[0;31m---------------------------------------------------------------------------\u001b[0m",
      "\u001b[0;31mOSError\u001b[0m                                   Traceback (most recent call last)",
      "Cell \u001b[0;32mIn[7], line 1\u001b[0m\n\u001b[0;32m----> 1\u001b[0m \u001b[43mcalifornia_stratocumulus\u001b[49m\u001b[43m(\u001b[49m\u001b[43madf\u001b[49m\u001b[43m)\u001b[49m\n",
      "Cell \u001b[0;32mIn[6], line 42\u001b[0m, in \u001b[0;36mcalifornia_stratocumulus\u001b[0;34m(adfobj)\u001b[0m\n\u001b[1;32m     40\u001b[0m lonslice \u001b[38;5;241m=\u001b[39m \u001b[38;5;28mslice\u001b[39m(\u001b[38;5;241m230\u001b[39m,\u001b[38;5;241m240\u001b[39m) \u001b[38;5;66;03m# Klein&Hartmann 1993, Table 1\u001b[39;00m\n\u001b[1;32m     41\u001b[0m levels \u001b[38;5;241m=\u001b[39m \u001b[38;5;241m100.\u001b[39m\u001b[38;5;241m*\u001b[39mnp\u001b[38;5;241m.\u001b[39marange(\u001b[38;5;241m600.0\u001b[39m, \u001b[38;5;241m1015.\u001b[39m, \u001b[38;5;241m15\u001b[39m)  \u001b[38;5;66;03m# chosen for convenience. Go finer if native grid is finer.\u001b[39;00m\n\u001b[0;32m---> 42\u001b[0m ref_ds \u001b[38;5;241m=\u001b[39m \u001b[43mprocess_case\u001b[49m\u001b[43m(\u001b[49m\u001b[43mdata_loc\u001b[49m\u001b[43m,\u001b[49m\u001b[43m \u001b[49m\u001b[43mlatslice\u001b[49m\u001b[43m,\u001b[49m\u001b[43m \u001b[49m\u001b[43mlonslice\u001b[49m\u001b[43m,\u001b[49m\u001b[43m \u001b[49m\u001b[43mlevels\u001b[49m\u001b[43m)\u001b[49m\n\u001b[1;32m     44\u001b[0m \u001b[38;5;28;01mfor\u001b[39;00m i, c \u001b[38;5;129;01min\u001b[39;00m \u001b[38;5;28menumerate\u001b[39m(case_names):\n\u001b[1;32m     45\u001b[0m     case_ds \u001b[38;5;241m=\u001b[39m process_case(case_climo_loc[i], latslice, lonslice, levels)\n",
      "Cell \u001b[0;32mIn[6], line 103\u001b[0m, in \u001b[0;36mprocess_case\u001b[0;34m(climo_loc, latitude, longitude, pressurelevels)\u001b[0m\n\u001b[1;32m    101\u001b[0m \u001b[38;5;28;01mdef\u001b[39;00m \u001b[38;5;21mprocess_case\u001b[39m(climo_loc, latitude, longitude, pressurelevels):\n\u001b[1;32m    102\u001b[0m     fils \u001b[38;5;241m=\u001b[39m \u001b[38;5;28msorted\u001b[39m(\u001b[38;5;28mlist\u001b[39m(Path(climo_loc)\u001b[38;5;241m.\u001b[39mglob(\u001b[38;5;124mf\u001b[39m\u001b[38;5;124m\"\u001b[39m\u001b[38;5;124m*_T_*.nc\u001b[39m\u001b[38;5;124m\"\u001b[39m)))\n\u001b[0;32m--> 103\u001b[0m     temperature \u001b[38;5;241m=\u001b[39m \u001b[43mxr\u001b[49m\u001b[38;5;241;43m.\u001b[39;49m\u001b[43mopen_mfdataset\u001b[49m\u001b[43m(\u001b[49m\u001b[43mfils\u001b[49m\u001b[43m)\u001b[49m[\u001b[38;5;124m'\u001b[39m\u001b[38;5;124mT\u001b[39m\u001b[38;5;124m'\u001b[39m]\u001b[38;5;241m.\u001b[39msel(lat\u001b[38;5;241m=\u001b[39mlatitude, lon\u001b[38;5;241m=\u001b[39mlongitude)\u001b[38;5;241m.\u001b[39mcompute()\n\u001b[1;32m    104\u001b[0m     fils \u001b[38;5;241m=\u001b[39m \u001b[38;5;28msorted\u001b[39m(\u001b[38;5;28mlist\u001b[39m(Path(climo_loc)\u001b[38;5;241m.\u001b[39mglob(\u001b[38;5;124mf\u001b[39m\u001b[38;5;124m\"\u001b[39m\u001b[38;5;124m*_Q_*.nc\u001b[39m\u001b[38;5;124m\"\u001b[39m)))\n\u001b[1;32m    105\u001b[0m     vapor \u001b[38;5;241m=\u001b[39m xr\u001b[38;5;241m.\u001b[39mopen_mfdataset(fils)[\u001b[38;5;124m'\u001b[39m\u001b[38;5;124mQ\u001b[39m\u001b[38;5;124m'\u001b[39m]\u001b[38;5;241m.\u001b[39msel(lat\u001b[38;5;241m=\u001b[39mlatitude, lon\u001b[38;5;241m=\u001b[39mlongitude)\u001b[38;5;241m.\u001b[39mcompute()\n",
      "File \u001b[0;32m/glade/u/apps/opt/conda/envs/npl-2023a/lib/python3.9/site-packages/xarray/backends/api.py:963\u001b[0m, in \u001b[0;36mopen_mfdataset\u001b[0;34m(paths, chunks, concat_dim, compat, preprocess, engine, data_vars, coords, combine, parallel, join, attrs_file, combine_attrs, **kwargs)\u001b[0m\n\u001b[1;32m    960\u001b[0m     paths \u001b[38;5;241m=\u001b[39m [os\u001b[38;5;241m.\u001b[39mfspath(p) \u001b[38;5;28;01mif\u001b[39;00m \u001b[38;5;28misinstance\u001b[39m(p, os\u001b[38;5;241m.\u001b[39mPathLike) \u001b[38;5;28;01melse\u001b[39;00m p \u001b[38;5;28;01mfor\u001b[39;00m p \u001b[38;5;129;01min\u001b[39;00m paths]\n\u001b[1;32m    962\u001b[0m \u001b[38;5;28;01mif\u001b[39;00m \u001b[38;5;129;01mnot\u001b[39;00m paths:\n\u001b[0;32m--> 963\u001b[0m     \u001b[38;5;28;01mraise\u001b[39;00m \u001b[38;5;167;01mOSError\u001b[39;00m(\u001b[38;5;124m\"\u001b[39m\u001b[38;5;124mno files to open\u001b[39m\u001b[38;5;124m\"\u001b[39m)\n\u001b[1;32m    965\u001b[0m \u001b[38;5;28;01mif\u001b[39;00m combine \u001b[38;5;241m==\u001b[39m \u001b[38;5;124m\"\u001b[39m\u001b[38;5;124mnested\u001b[39m\u001b[38;5;124m\"\u001b[39m:\n\u001b[1;32m    966\u001b[0m     \u001b[38;5;28;01mif\u001b[39;00m \u001b[38;5;28misinstance\u001b[39m(concat_dim, (\u001b[38;5;28mstr\u001b[39m, DataArray)) \u001b[38;5;129;01mor\u001b[39;00m concat_dim \u001b[38;5;129;01mis\u001b[39;00m \u001b[38;5;28;01mNone\u001b[39;00m:\n",
      "\u001b[0;31mOSError\u001b[0m: no files to open"
     ]
    }
   ],
   "source": [
    "california_stratocumulus(adf)"
   ]
  },
  {
   "cell_type": "code",
   "execution_count": null,
   "id": "27d3b007-ff0d-4880-ba4d-f637e136650a",
   "metadata": {},
   "outputs": [],
   "source": []
  }
 ],
 "metadata": {
  "kernelspec": {
   "display_name": "NPL 2023a",
   "language": "python",
   "name": "npl-2023a"
  },
  "language_info": {
   "codemirror_mode": {
    "name": "ipython",
    "version": 3
   },
   "file_extension": ".py",
   "mimetype": "text/x-python",
   "name": "python",
   "nbconvert_exporter": "python",
   "pygments_lexer": "ipython3",
   "version": "3.9.16"
  }
 },
 "nbformat": 4,
 "nbformat_minor": 5
}
