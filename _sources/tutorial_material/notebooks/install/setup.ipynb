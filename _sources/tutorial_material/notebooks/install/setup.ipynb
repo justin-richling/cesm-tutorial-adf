{
 "cells": [
  {
   "cell_type": "markdown",
   "id": "a8c6b920",
   "metadata": {},
   "source": [
    "# Setting up ADF\n",
    "\n",
    "Instructions on how to build the necessary environment for running the ADF.\n",
    "\n",
    "Setting up the environment and getting the ADF will be done in the command line and with git/GitHub; this tutorial assumes basic working knowledge of both.\n",
    "\n",
    "There are two steps (in this tutorial) to get the ADF up and running on your CISL machine:\n",
    "    \n",
    "1) Loading up NCAR's necessary modules for the required ADF packages/environment\n",
    "2) Using git to clone the main branch of the ADF to your machine\n",
    "\n",
    "```{attention}\n",
    "<strong>For this tutorial you must be on an NCAR CISL machine</strong>\n",
    "\n",
    "There are some instructions for non-CISL machines, but there can be many obstacles such as not being able to have access to the data, the correct libraries, insufficient computer resources, etc.\n",
    "\n",
    "For simplicity, this tutorial will only be geared towards users who have a CISL account and access to CISL machines, ie Derecho/Casper/<s>Cheyenne</s> and NCAR JupyterHub.\n",
    "\n",
    "```\n"
   ]
  },
  {
   "cell_type": "raw",
   "id": "102dc01f-39d1-4c4c-80f6-0c9f3595b03d",
   "metadata": {},
   "source": [
    "If you are unable to work from a CISL machine, see <a href=\"https://justin-richling.github.io/ADF-Tutorial/notebooks/install/non_cisl.html\">Non CISL section?</a> "
   ]
  },
  {
   "cell_type": "markdown",
   "id": "c5e08617-a35e-4468-ba0a-12df240baf1b",
   "metadata": {},
   "source": [
    "## Setting up ADF environment\n",
    "\n"
   ]
  },
  {
   "cell_type": "raw",
   "id": "864c893d-8cc2-4a2c-9e18-574fc10d9e62",
   "metadata": {},
   "source": [
    "<embed src=\"../images/conda-cheatsheet.pdf\" width=\"800px\" height=\"2100px\" />\n"
   ]
  },
  {
   "cell_type": "raw",
   "id": "d2cf1fba-339b-40ff-afeb-7d29dcc0cc1b",
   "metadata": {},
   "source": [
    "* More info can be found in the README on the GitHub: https://github.com/NCAR/ADF#required-software-environment"
   ]
  },
  {
   "cell_type": "markdown",
   "id": "d5e2623e-defb-41b4-934f-efd3bca205ce",
   "metadata": {},
   "source": [
    "### CISL Computers\n",
    "\n",
    "Setting up the ADF environment on CISL (Derecho/Cheyenne/Casper) machines"
   ]
  },
  {
   "cell_type": "markdown",
   "id": "b44a7bc4-9d94-405b-b788-d29e739982de",
   "metadata": {},
   "source": [
    "### Loading `modules`\n",
    "\n",
    "CISL machines have a cluster of modules that are available to load/unload. Such modules include: conda, nco, python, etc.\n",
    "\n",
    "###### Load `conda`\n",
    "\n",
    "To make the ADF as flexible as possible, it is recommended that you run in an NCAR precompiled `conda` environment called `npl`\n",
    "\n",
    "<p>First load conda via <code class=\"docutils literal notranslate\"><span class=\"pre\">module</span></code> command</p>\n",
    "\n",
    "<div class=\"highlight-default notranslate\"><div class=\"highlight\"><pre id=\"codecell0\"><span></span>module load conda\n",
    "</pre><button class=\"copybtn o-tooltip--left\" data-tooltip=\"Copy\" data-clipboard-target=\"#codecell0\">\n",
    "      <svg xmlns=\"http://www.w3.org/2000/svg\" class=\"icon icon-tabler icon-tabler-copy\" width=\"44\" height=\"44\" viewBox=\"0 0 24 24\" stroke-width=\"1.5\" stroke=\"#000000\" fill=\"none\" stroke-linecap=\"round\" stroke-linejoin=\"round\">\n",
    "  <title>Copy to clipboard</title>\n",
    "  <path stroke=\"none\" d=\"M0 0h24v24H0z\" fill=\"none\"></path>\n",
    "  <rect x=\"8\" y=\"8\" width=\"4\" height=\"12\" rx=\"2\"></rect>\n",
    "  <path d=\"M16 8v-2a2 2 0 0 0 -2 -2h-8a2 2 0 0 0 -2 2v8a2 2 0 0 0 2 2h2\"></path>\n",
    "</svg>\n",
    "    </button></div>\n",
    "</div>\n",
    "\n",
    "```{attention}\n",
    "You may encounter a <code class=\"docutils literal notranslate\"><span class=\"pre\">module</span></code> <code class=\"docutils literal notranslate\"><span class=\"pre\">load</span></code> error.\n",
    "\n",
    "Try unloading the python module: <code class=\"docutils literal notranslate\"><span class=\"pre\">module unload python</span></code><br>and re-try.\n",
    "\n",
    "You can unload conda and load python again when you're done with this session.\n",
    "```\n",
    "\n",
    "###### Activate `npl`\n",
    "\n",
    "<p>Now you will want to activate NCAR's <code class=\"docutils literal notranslate\"><span class=\"pre\">npl</span></code> environment</p>\n",
    "\n",
    "<div class=\"highlight-default notranslate\"><div class=\"highlight\"><pre id=\"codecell0\"><span></span>conda activate npl\n",
    "</pre><button class=\"copybtn o-tooltip--left\" data-tooltip=\"Copy\" data-clipboard-target=\"#codecell0\">\n",
    "      <svg xmlns=\"http://www.w3.org/2000/svg\" class=\"icon icon-tabler icon-tabler-copy\" width=\"44\" height=\"44\" viewBox=\"0 0 24 24\" stroke-width=\"1.5\" stroke=\"#000000\" fill=\"none\" stroke-linecap=\"round\" stroke-linejoin=\"round\">\n",
    "  <title>Copy to clipboard</title>\n",
    "  <path stroke=\"none\" d=\"M0 0h24v24H0z\" fill=\"none\"></path>\n",
    "  <rect x=\"8\" y=\"8\" width=\"12\" height=\"12\" rx=\"2\"></rect>\n",
    "  <path d=\"M16 8v-2a2 2 0 0 0 -2 -2h-8a2 2 0 0 0 -2 2v8a2 2 0 0 0 2 2h2\"></path>\n",
    "</svg>\n",
    "    </button></div>\n",
    "</div>\n",
    "\n",
    "###### Load `nco`\n",
    "\n",
    "<p>In addition to conda package, the <code class=\"docutils literal notranslate\"><span class=\"pre\">ncrcat</span></code> NetCDF Operator (NCO) is needed</p>\n",
    "\n",
    "<div class=\"highlight-default notranslate\"><div class=\"highlight\"><pre id=\"codecell0\"><span></span>module load nco\n",
    "</pre><button class=\"copybtn o-tooltip--left\" data-tooltip=\"Copy\" data-clipboard-target=\"#codecell0\">\n",
    "      <svg xmlns=\"http://www.w3.org/2000/svg\" class=\"icon icon-tabler icon-tabler-copy\" width=\"44\" height=\"44\" viewBox=\"0 0 24 24\" stroke-width=\"1.5\" stroke=\"#000000\" fill=\"none\" stroke-linecap=\"round\" stroke-linejoin=\"round\">\n",
    "  <title>Copy to clipboard</title>\n",
    "  <path stroke=\"none\" d=\"M0 0h24v24H0z\" fill=\"none\"></path>\n",
    "  <rect x=\"8\" y=\"8\" width=\"12\" height=\"12\" rx=\"2\"></rect>\n",
    "  <path d=\"M16 8v-2a2 2 0 0 0 -2 -2h-8a2 2 0 0 0 -2 2v8a2 2 0 0 0 2 2h2\"></path>\n",
    "</svg>\n",
    "    </button></div>\n",
    "</div>\n",
    "\n",
    "###### Load `ncl`\n",
    "\n",
    "And if the CVDP is desired, NCL is also needed\n",
    "\n",
    "<div class=\"highlight-default notranslate\"><div class=\"highlight\"><pre id=\"codecell0\"><span></span>module load ncl\n",
    "</pre><button class=\"copybtn o-tooltip--left\" data-tooltip=\"Copy\" data-clipboard-target=\"#codecell0\">\n",
    "      <svg xmlns=\"http://www.w3.org/2000/svg\" class=\"icon icon-tabler icon-tabler-copy\" width=\"44\" height=\"44\" viewBox=\"0 0 24 24\" stroke-width=\"1.5\" stroke=\"#000000\" fill=\"none\" stroke-linecap=\"round\" stroke-linejoin=\"round\">\n",
    "  <title>Copy to clipboard</title>\n",
    "  <path stroke=\"none\" d=\"M0 0h24v24H0z\" fill=\"none\"></path>\n",
    "  <rect x=\"8\" y=\"8\" width=\"12\" height=\"12\" rx=\"2\"></rect>\n",
    "  <path d=\"M16 8v-2a2 2 0 0 0 -2 -2h-8a2 2 0 0 0 -2 2v8a2 2 0 0 0 2 2h2\"></path>\n",
    "</svg>\n",
    "    </button></div>\n",
    "</div>\n",
    "\n",
    "That's it, all done. Wash up and go help with dinner"
   ]
  },
  {
   "cell_type": "markdown",
   "id": "b36d546e-013f-4098-be87-5c3bc4249281",
   "metadata": {},
   "source": [
    "## Cloning the ADF\n",
    "\n",
    "<p style=\"font-size:16px\">It is fairly straight forward to get the ADF using GitHub. You will need to clone the NCAR/ADF repository to your machine.</p>\n",
    "\n",
    "<p>Navigate to some where you want to house the ADF root directory. For this example we will put the ADF in your <code class=\"docutils literal notranslate\"><span class=\"pre\">work</span></code> drive on <code class=\"docutils literal notranslate\"><span class=\"pre\">glade</span></code></p>\n",
    "\n",
    "    cd /glade/work/{user}\n",
    "\n",
    "<p>Next, just a simple <code class=\"docutils literal notranslate\"><span class=\"pre\">git clone</span></code> to copy the ADF to your current location:</p>\n",
    "\n",
    "<div class=\"highlight-default notranslate\"><div class=\"highlight\"><pre id=\"codecell0\"><span></span>git clone https://github.com/NCAR/ADF.git\n",
    "</pre><button class=\"copybtn o-tooltip--left\" data-tooltip=\"Copy\" data-clipboard-target=\"#codecell0\">\n",
    "      <svg xmlns=\"http://www.w3.org/2000/svg\" class=\"icon icon-tabler icon-tabler-copy\" width=\"44\" height=\"44\" viewBox=\"0 0 24 24\" stroke-width=\"1.5\" stroke=\"#000000\" fill=\"none\" stroke-linecap=\"round\" stroke-linejoin=\"round\">\n",
    "  <title>Copy to clipboard</title>\n",
    "  <path stroke=\"none\" d=\"M0 0h24v24H0z\" fill=\"none\"></path>\n",
    "  <rect x=\"8\" y=\"8\" width=\"12\" height=\"12\" rx=\"2\"></rect>\n",
    "  <path d=\"M16 8v-2a2 2 0 0 0 -2 -2h-8a2 2 0 0 0 -2 2v8a2 2 0 0 0 2 2h2\"></path>\n",
    "</svg>\n",
    "    </button></div>\n",
    "</div>\n",
    "\n",
    "\n",
    "<p>This will create a new folder called <strong>ADF</strong> and will be the root directory: <code class=\"docutils literal notranslate\"><span class=\"pre\">/glade/work/{user}/ADF/</span></code>  This will house all the necessary scripts for the ADF to run and where custom scripts would be added if desired!</p>\n"
   ]
  },
  {
   "cell_type": "markdown",
   "id": "36e9b3e4-59c8-47a3-b17f-171cf8c812de",
   "metadata": {},
   "source": []
  }
 ],
 "metadata": {
  "kernelspec": {
   "display_name": "Python 3 (ipykernel)",
   "language": "python",
   "name": "python3"
  },
  "language_info": {
   "codemirror_mode": {
    "name": "ipython",
    "version": 3
   },
   "file_extension": ".py",
   "mimetype": "text/x-python",
   "name": "python",
   "nbconvert_exporter": "python",
   "pygments_lexer": "ipython3",
   "version": "3.9.12"
  }
 },
 "nbformat": 4,
 "nbformat_minor": 5
}
