{
 "cells": [
  {
   "cell_type": "code",
   "execution_count": 7,
   "id": "3cf78627-2142-4ef1-87fd-368eb06a8cac",
   "metadata": {},
   "outputs": [],
   "source": [
    "mv run/basics/single_case.ipynb examples/single_case.ipynb"
   ]
  },
  {
   "cell_type": "code",
   "execution_count": 3,
   "id": "11032b94-6200-4dc7-ade0-5f150f465159",
   "metadata": {},
   "outputs": [
    {
     "data": {
      "text/plain": [
       "'/glade/work/richling/ADF/adf-demo/notebooks'"
      ]
     },
     "execution_count": 3,
     "metadata": {},
     "output_type": "execute_result"
    }
   ],
   "source": [
    "pwd"
   ]
  },
  {
   "cell_type": "code",
   "execution_count": 4,
   "id": "27c32a78-75aa-476a-85dd-efba6061af5b",
   "metadata": {},
   "outputs": [
    {
     "name": "stdout",
     "output_type": "stream",
     "text": [
      "\u001b[0m\u001b[01;34mbasics\u001b[0m/       basics-tutorial.ipynb  Jupyter.ipynb  terminal.ipynb\n",
      "basics.ipynb  \u001b[01;34mJupyter\u001b[0m/               \u001b[01;34mterminal\u001b[0m/\n"
     ]
    }
   ],
   "source": [
    "ls run/"
   ]
  },
  {
   "cell_type": "code",
   "execution_count": null,
   "id": "4002faf9-ff10-4d0d-8f56-7e080a40729e",
   "metadata": {},
   "outputs": [],
   "source": []
  }
 ],
 "metadata": {
  "kernelspec": {
   "display_name": "Python 3 (ipykernel)",
   "language": "python",
   "name": "python3"
  },
  "language_info": {
   "codemirror_mode": {
    "name": "ipython",
    "version": 3
   },
   "file_extension": ".py",
   "mimetype": "text/x-python",
   "name": "python",
   "nbconvert_exporter": "python",
   "pygments_lexer": "ipython3",
   "version": "3.9.12"
  }
 },
 "nbformat": 4,
 "nbformat_minor": 5
}
