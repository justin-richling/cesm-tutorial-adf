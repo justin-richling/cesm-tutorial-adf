{
 "cells": [
  {
   "cell_type": "markdown",
   "id": "08297c52",
   "metadata": {},
   "source": [
    "# Yaml Config Files"
   ]
  },
  {
   "cell_type": "markdown",
   "id": "3e05f3f2-6788-4449-9165-6d1d0dd2912d",
   "metadata": {},
   "source": [
    "### 0. Run CAM simulation &#8594; get history ( h0** ) file(s) \n",
    "    * or other history files\n"
   ]
  },
  {
   "cell_type": "markdown",
   "id": "1a4f7087-61ab-41d0-9bf7-8a223f1524e4",
   "metadata": {},
   "source": []
  },
  {
   "cell_type": "markdown",
   "id": "e978bb1f-143b-4561-b818-48d30e8e9ea2",
   "metadata": {},
   "source": [
    "### 1. Configure yaml files for the history files\n",
    "    \n",
    "#####   **NOTE:**  Make copies of these **files** and <u>modify/customize</u> the **copies**!\n",
    "    \n",
    "- config_cam_baseline_example.yaml  (necessary)\n",
    "- lib/adf_variable_defaults.yaml   (optional)**\n",
    "      \n",
    "    ** Additionally, you will need to change the defaults_file path in your copy of config_cam_baseline_example.yaml"
   ]
  },
  {
   "cell_type": "code",
   "execution_count": null,
   "id": "901831ca-af16-4657-bef8-b80c4a962c8a",
   "metadata": {},
   "outputs": [],
   "source": []
  },
  {
   "cell_type": "markdown",
   "id": "f8df8038-ee1e-478b-8ba1-16d05df461fc",
   "metadata": {},
   "source": [
    "### 2. Run the ADF\n"
   ]
  },
  {
   "cell_type": "markdown",
   "id": "a72d7503-19bc-4a37-9595-9a0509643043",
   "metadata": {},
   "source": [
    "- Break it:  Check config files?   Check error/logs?   Check data/paths?\n",
    "- Success: Check output data/images\n",
    "    - Locally\n",
    "    - via HTML files (optional)\n",
    "\n"
   ]
  },
  {
   "cell_type": "code",
   "execution_count": null,
   "id": "b9982a6a-87f2-449d-85bd-afb6e88aa21e",
   "metadata": {},
   "outputs": [],
   "source": []
  }
 ],
 "metadata": {
  "kernelspec": {
   "display_name": "Python 3 (ipykernel)",
   "language": "python",
   "name": "python3"
  },
  "language_info": {
   "codemirror_mode": {
    "name": "ipython",
    "version": 3
   },
   "file_extension": ".py",
   "mimetype": "text/x-python",
   "name": "python",
   "nbconvert_exporter": "python",
   "pygments_lexer": "ipython3",
   "version": "3.9.12"
  }
 },
 "nbformat": 4,
 "nbformat_minor": 5
}
