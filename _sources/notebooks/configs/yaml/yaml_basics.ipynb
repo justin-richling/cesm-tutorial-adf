{
 "cells": [
  {
   "cell_type": "markdown",
   "id": "fbf95761-82ea-4450-ba7a-b7f1b4ee1b06",
   "metadata": {},
   "source": [
    "# YAML File Basics"
   ]
  },
  {
   "cell_type": "markdown",
   "id": "2de98b0e-fe2c-4c02-b814-b44b2bd66491",
   "metadata": {},
   "source": [
    "Some paths in the config yaml file are optional and some are **required**"
   ]
  },
  {
   "cell_type": "markdown",
   "id": "cac5ddfa-7628-4523-8c02-9154905a86a2",
   "metadata": {},
   "source": [
    "### Using variables in the yaml file\n",
    "\n",
    "Using ${var} will substitute into the text the variable referenced by 'var'"
   ]
  },
  {
   "cell_type": "markdown",
   "id": "5d6c6f22-9fc6-4b95-8e02-f0538a00f741",
   "metadata": {},
   "source": [
    "### Using variables in sections\n",
    "\n",
    "This is used when sub-sections in the yaml file have the same named variable\n",
    "\n",
    "In the **config_cam_baseline_example.yaml** file"
   ]
  },
  {
   "cell_type": "code",
   "execution_count": null,
   "id": "518b79b9-50c3-4d41-8862-8c9f9d421c07",
   "metadata": {},
   "outputs": [],
   "source": []
  }
 ],
 "metadata": {
  "kernelspec": {
   "display_name": "NPL-3.7.9",
   "language": "python",
   "name": "npl-3.7.9"
  },
  "language_info": {
   "codemirror_mode": {
    "name": "ipython",
    "version": 3
   },
   "file_extension": ".py",
   "mimetype": "text/x-python",
   "name": "python",
   "nbconvert_exporter": "python",
   "pygments_lexer": "ipython3",
   "version": "3.7.9"
  }
 },
 "nbformat": 4,
 "nbformat_minor": 5
}
