{
 "cells": [
  {
   "cell_type": "markdown",
   "id": "6bda8ea3",
   "metadata": {
    "tags": []
   },
   "source": [
    "# Run Time"
   ]
  },
  {
   "cell_type": "markdown",
   "id": "98d08f33-9ffb-49b0-8b2b-665df115c9fc",
   "metadata": {},
   "source": [
    "## First set in yaml file:&ensp; $\\color{#117284}{\\textit{diag\\_basic\\_info}}$"
   ]
  },
  {
   "cell_type": "markdown",
   "id": "65102488-32ef-4e7c-9436-1ca3e1da250b",
   "metadata": {},
   "source": [
    "#### **Is this a model vs observations comparison?**\n",
    "\n",
    "   &emsp;    If \"false\" or missing, then a model-model comparison is assumed:   \n",
    "   &emsp;    **compare_obs**: false\n",
    "\n",
    "\n",
    "#### **Generate HTML website (assumed false if missing):**\n",
    "\n",
    "&emsp;    Note:  The website files themselves will be located in the path\n",
    "&emsp;    specified by \"cam_diag_plot_loc\", under the \"<diag_run>/website\" subdirectory,\n",
    "&emsp;    where \"<diag_run>\" is the subdirectory created for this particular diagnostics run\n",
    "&emsp;    (usually \"case_vs_obs_XXX\" or \"case_vs_baseline_XXX\").\n",
    "&emsp;    create_html: true\n",
    "\n",
    "#### **Location of observational datasets:**\n",
    "\n",
    "&emsp;    Note: this only matters if \"compare_obs\" is true and the path\n",
    "&emsp;    isn't specified in the variable defaults file.\n",
    "&emsp;    obs_data_loc: /glade/work/nusbaume/SE_projects/model_diagnostics/ADF_obs\n",
    "\n",
    "#### **Location where re-gridded and interpolated CAM climatology files are stored:**\n",
    "\n",
    "&emsp;    cam_regrid_loc: /glade/scratch/${user}/ADF/regrid\n",
    "\n",
    "#### **Overwrite CAM re-gridded files?**\n",
    "\n",
    "&emsp;    If false, or missing, then regridding will be skipped for regridded variables\n",
    "&emsp;    that already exist in \"cam_regrid_loc\":\n",
    "&emsp;    cam_overwrite_regrid: false\n",
    "\n",
    "#### **Location where diagnostic plots are stored:**\n",
    "\n",
    "&emsp;    cam_diag_plot_loc: /glade/scratch/${user}/ADF/plots\n",
    "\n",
    "#### **CAM history file number to use (h0,h1,h2, etc)**\n",
    "\n",
    "&emsp;    Currently only affects timeseries generation,\n",
    "&emsp;    as everything else uses the timeseries files themselves.\n",
    "&emsp;    If this variable is not present then it will default to \"h0\".\n",
    "&emsp;    hist_num: h0\n",
    "\n",
    "#### **Use default variable plot settings?**\n",
    "\n",
    "&emsp;    If \"true\", then variable-specific plotting attributes as defined in\n",
    "&emsp;    ADF/lib/adf_variable_defaults.yaml will be used:\n",
    "&emsp;    use_defaults: true\n",
    "\n",
    "#### **Location of ADF variable plotting defaults YAML file**\n",
    "\n",
    "&emsp;    if not using the one in ADF/lib:\n",
    "&emsp;    defaults_file: /some/path/to/defaults/file\n",
    "\n",
    "#### **Vertical pressure levels (in hPa) on which to plot 3-D variables when using horizontal (e.g. lat/lon) map projections.**\n",
    "\n",
    "&emsp;    If this config option is missing, then no 3-D variables will be plotted on\n",
    "&emsp;    horizontal maps.  Please note too that pressure levels must currently match\n",
    "&emsp;    what is available in the observations file in order to be plotted in a\n",
    "&emsp;    model vs obs run:\n",
    "&emsp;    plot_press_levels: [200,850]\n",
    "\n",
    "#### **Longitude line on which to center all lat/lon maps.**\n",
    "\n",
    "&emsp;    If this config option is missing then the central\n",
    "&emsp;    longitude will default to 180 degrees E.\n",
    "&emsp;    central_longitude: 180\n",
    "\n",
    "#### **Apply monthly weights to seasonal averages.**\n",
    "\n",
    "&emsp;    If False or missing, then all months are\n",
    "&emsp;    given the same weight:\n",
    "&emsp;    weight_season: True\n",
    "\n",
    "#### **Number of processors on which to run the ADF.**\n",
    "\n",
    "&emsp;    If this config variable isn't present then\n",
    "&emsp;    the ADF defaults to one processor.  Also, if\n",
    "&emsp;    you set it to \"*\" then it will default\n",
    "&emsp;    to all of the processors available on a\n",
    "&emsp;    single node/machine:\n",
    "&emsp;    num_procs: 8\n",
    "\n",
    "#### **Remake plots?**\n",
    "\n",
    "&emsp;    If set to true, then redo all plots even if they already exist.\n",
    "&emsp;    If set to false, then if a plot is found it will be skipped:\n",
    "&emsp;    redo_plot: false"
   ]
  },
  {
   "cell_type": "markdown",
   "id": "0792b223-b8e9-4ab4-8209-4a3d3ca308a0",
   "metadata": {},
   "source": [
    "---"
   ]
  },
  {
   "cell_type": "markdown",
   "id": "0adbd688-3d9a-45be-91be-7a35e9174610",
   "metadata": {},
   "source": [
    "## Second set in yaml file:&ensp; $\\color{#117284}{\\textit{diag\\_cam\\_climo}}$"
   ]
  },
  {
   "cell_type": "markdown",
   "id": "0ec0cf98-7c81-468d-b342-3d0ee4d9456b",
   "metadata": {},
   "source": [
    "#### **Calculate climatologies?**\n",
    "\n",
    "#####    &emsp;    If false, neither the climatology or time-series files will be created:\n",
    "#####    &emsp;    calc_cam_climo: true\n",
    "\n",
    "#### **Overwrite CAM climatology files?**\n",
    "\n",
    "#####    &emsp;If false, or not present, then already existing climatology files will be skipped:\n",
    "#####    &emsp;**cam_overwrite_climo**: false\n",
    "\n",
    "#### **Name of CAM case (or CAM run name):**\n",
    "#####    &emsp;    cam_case_name: b.e20.BHIST.f09_g17.20thC.297_05\n",
    "\n",
    "#### **Case nickname**\n",
    "#####    &emsp;    If left blank, it will default to cam_case_name\n",
    "#####    &emsp;     ** NOTE: if nickname starts with a zero, the string must be in quotes! **\n",
    "#####    &emsp;    case_nickname: ${diag_cam_climo.cam_case_name}\n",
    "\n",
    "#### **Location of CAM history (h0) files:**\n",
    "#####    &emsp;    cam_hist_loc: /glade/p/cesm/ADF/${diag_cam_climo.cam_case_name}\n",
    "\n",
    "#### **Location of CAM climatologies (to be created and then used by this script)**\n",
    "#####    &emsp;    cam_climo_loc: /glade/scratch/${user}/ADF/${diag_cam_climo.cam_case_name}/climo\n",
    "\n",
    "#### **Model year when time series files should start:**\n",
    "#####    &emsp;    Note:  Leaving this entry blank will make time series start at earliest available year.\n",
    "#####    &emsp;    start_year: 1990\n",
    "\n",
    "#### **Model year when time series files should end:**\n",
    "#####    &emsp;    Note:  Leaving this entry blank will make time series end at latest available year.\n",
    "#####    &emsp;    end_year: 1999\n",
    "\n",
    "\n",
    "#### **Do time series files need to be generated?**\n",
    "#####    &emsp;    If True, then diagnostics assumes that model files are already time series.\n",
    "#####    &emsp;    If False, or if simply not present, then diagnostics will attempt to create\n",
    "#####    &emsp;    time series files from history (time-slice) files:\n",
    "#####    &emsp;    cam_ts_done: false\n",
    "\n",
    "#### **Save interim time series files?**\n",
    "#####    &emsp;    WARNING:  This can take up a significant amount of space, but will save processing time the next time\n",
    "#####    &emsp;    cam_ts_save: true\n",
    "\n",
    "#### **Overwrite time series files, if found?**\n",
    "#####    &emsp;    If set to false, then time series creation will be skipped if files are found:\n",
    "#####    &emsp;    cam_overwrite_ts: false\n",
    "\n",
    "#### **Location where time series files are (or will be) stored:**\n",
    "#####    &emsp;    cam_ts_loc: /glade/scratch/${user}/ADF/${diag_cam_climo.cam_case_name}/ts\n"
   ]
  },
  {
   "cell_type": "markdown",
   "id": "29f3a977-8b04-46d5-bb01-b4e1a5c62ccb",
   "metadata": {},
   "source": [
    "---"
   ]
  },
  {
   "cell_type": "markdown",
   "id": "8a6ebd77-17ba-427f-9eb5-e597458ab834",
   "metadata": {},
   "source": [
    "## Third set in yaml file:&ensp; $\\color{#117284}{\\textit{diag\\_cam\\_baseline\\_climo}}$"
   ]
  },
  {
   "cell_type": "markdown",
   "id": "68b9baf5-ae8f-4c98-afdb-3a348a6c7f07",
   "metadata": {},
   "source": [
    "| Syntax      | Description |\n",
    "| ----------- | ----------- |\n",
    "| Header      | Title       |\n",
    "| Paragraph   | Text        |"
   ]
  },
  {
   "cell_type": "markdown",
   "id": "446251ce-49ab-46e3-862c-2cee5ef89322",
   "metadata": {},
   "source": [
    "|       |  |       |\n",
    "| :---        |    :----:   |          ---: |\n",
    "| Header      | Title       | Here's this   |\n",
    "| Paragraph   | Text        | And more      |"
   ]
  },
  {
   "cell_type": "code",
   "execution_count": null,
   "id": "c56f9d6c-04df-484c-bc52-efc98e4a5f2c",
   "metadata": {},
   "outputs": [],
   "source": []
  }
 ],
 "metadata": {
  "kernelspec": {
   "display_name": "Python 3 (ipykernel)",
   "language": "python",
   "name": "python3"
  },
  "language_info": {
   "codemirror_mode": {
    "name": "ipython",
    "version": 3
   },
   "file_extension": ".py",
   "mimetype": "text/x-python",
   "name": "python",
   "nbconvert_exporter": "python",
   "pygments_lexer": "ipython3",
   "version": "3.9.12"
  }
 },
 "nbformat": 4,
 "nbformat_minor": 5
}
