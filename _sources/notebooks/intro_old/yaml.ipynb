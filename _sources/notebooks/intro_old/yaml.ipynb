{
 "cells": [
  {
   "cell_type": "markdown",
   "id": "ed547bc6-1cc5-45ea-b882-a779f3e507b0",
   "metadata": {},
   "source": [
    "# YAML Config Files\n",
    "\n",
    "The ADF requires 2 different yaml configuration files: \n",
    "\n",
    "`config_cam_baseline_example.yaml` and `adf_variable_defaults.yaml`\n",
    "\n",
    "If yaml files are new to you, they are just specialized text files that python (and other languages) can read in and use as configuration files. \n",
    "\n",
    "\n",
    "\n",
    "\n",
    "In the case of the ADF, the variables set in the yaml files will be parsed into Python dictionaries and will accessable throughout the ADF workflow.\n",
    "\n",
    "A couple of notes about using the ADF yaml files:\n",
    "&ensp;&ensp;Variables can be referenced within the yaml file<br>\n",
    "&ensp;&ensp;Variables <strong>cannot</strong> be used in nested varaibles lists<br>\n",
    "&ensp;&ensp;&ensp;&ensp;ie: \n",
    "\n",
    "\n",
    "\n",
    "\n",
    "\n",
    "`````{admonition} ** does not work **\n",
    ":class: error\n",
    "<p><strong>user:</strong> richling<br>\n",
    "<strong>case:</strong> some_run<br>\n",
    "<strong>some_path:</strong><br>\n",
    "&ensp;&ensp;&ensp;- /glade/u/home/${user}<br>\n",
    "&ensp;&ensp;&ensp;- /glade/u/home/${user}/${case}\n",
    "</p>\n",
    "`````\n",
    "\n",
    "```{admonition} ** works **\n",
    "<p><strong>some_path:</strong><br>\n",
    "&ensp;&ensp;&ensp;- /glade/u/home/richling<br>\n",
    "&ensp;&ensp;&ensp;- /glade/u/home/richling/some_run\n",
    "</p>\n",
    "```"
   ]
  },
  {
   "cell_type": "raw",
   "id": "6975ead2-afc9-4a8d-a9b7-62ae56b33e0d",
   "metadata": {},
   "source": [
    "<div class=\"admonition tip\">\n",
    "<p>** works **</p>\n",
    "<p>user: richling<br>some_path: /glade/u/home/${user}</p>\n",
    "</div>\n",
    "\n",
    "<div class=\"admonition error\">\n",
    "<p>** does not work **</p>\n",
    "<p>user: richling<br>\n",
    "case: some_run<br>some_path:<br>\n",
    "&ensp;&ensp;&ensp;- /glade/u/home/${user}<br>\n",
    "&ensp;&ensp;&ensp;- /glade/u/home/${user}/${case}\n",
    "</p>\n",
    "  <div class=\"admonition tip\">\n",
    "  <div class=\"title\">** works **</div>\n",
    "  <p>some_path:<br>\n",
    "&ensp;&ensp;&ensp;- /glade/u/home/richling<br>\n",
    "&ensp;&ensp;&ensp;- /glade/u/home/richling/some_run\n",
    "</p>\n",
    "  </div>\n",
    "</div>\n",
    "\n",
    "\n"
   ]
  }
 ],
 "metadata": {
  "kernelspec": {
   "display_name": "Python 3 (ipykernel)",
   "language": "python",
   "name": "python3"
  },
  "language_info": {
   "codemirror_mode": {
    "name": "ipython",
    "version": 3
   },
   "file_extension": ".py",
   "mimetype": "text/x-python",
   "name": "python",
   "nbconvert_exporter": "python",
   "pygments_lexer": "ipython3",
   "version": "3.9.12"
  }
 },
 "nbformat": 4,
 "nbformat_minor": 5
}
