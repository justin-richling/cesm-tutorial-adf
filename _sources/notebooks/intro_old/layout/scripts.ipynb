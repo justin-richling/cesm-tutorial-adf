{
 "cells": [
  {
   "cell_type": "markdown",
   "id": "f38a3b07",
   "metadata": {},
   "source": [
    "# Scripts\n",
    "\n",
    "Collection of scripts for climotology and time series file creation, regridding, anaylsis, and plotting"
   ]
  },
  {
   "cell_type": "markdown",
   "id": "e840ef85-51f8-4676-9b2d-ea050b2297d5",
   "metadata": {},
   "source": []
  }
 ],
 "metadata": {
  "kernelspec": {
   "display_name": "Python 3 (ipykernel)",
   "language": "python",
   "name": "python3"
  },
  "language_info": {
   "codemirror_mode": {
    "name": "ipython",
    "version": 3
   },
   "file_extension": ".py",
   "mimetype": "text/x-python",
   "name": "python",
   "nbconvert_exporter": "python",
   "pygments_lexer": "ipython3",
   "version": "3.9.12"
  }
 },
 "nbformat": 4,
 "nbformat_minor": 5
}
