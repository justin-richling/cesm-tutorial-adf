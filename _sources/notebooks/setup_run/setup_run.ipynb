{
 "cells": [
  {
   "cell_type": "markdown",
   "id": "64c52a2e-4665-4ea6-b840-317d413527ef",
   "metadata": {},
   "source": [
    "# Quick ADF Run Setup\n",
    "\n",
    "Just to show how quickly you can an ADF run:"
   ]
  },
  {
   "cell_type": "code",
   "execution_count": null,
   "id": "2a6a145c-738f-4806-a25e-8d7bc1a67a31",
   "metadata": {},
   "outputs": [],
   "source": []
  }
 ],
 "metadata": {
  "kernelspec": {
   "display_name": "Python 3 (ipykernel)",
   "language": "python",
   "name": "python3"
  },
  "language_info": {
   "codemirror_mode": {
    "name": "ipython",
    "version": 3
   },
   "file_extension": ".py",
   "mimetype": "text/x-python",
   "name": "python",
   "nbconvert_exporter": "python",
   "pygments_lexer": "ipython3",
   "version": "3.9.12"
  }
 },
 "nbformat": 4,
 "nbformat_minor": 5
}
