{
 "cells": [
  {
   "cell_type": "markdown",
   "id": "bd209063-49dd-4cb7-80f5-6772458b675f",
   "metadata": {},
   "source": [
    "# Custom Defaults\n",
    "\n",
    "We will now customize attributes for variables in our own defaults yaml file"
   ]
  },
  {
   "cell_type": "code",
   "execution_count": null,
   "id": "e5957d35-3e86-4232-8d45-7eae25efa051",
   "metadata": {},
   "outputs": [],
   "source": []
  }
 ],
 "metadata": {
  "kernelspec": {
   "display_name": "Python 3 (ipykernel)",
   "language": "python",
   "name": "python3"
  },
  "language_info": {
   "codemirror_mode": {
    "name": "ipython",
    "version": 3
   },
   "file_extension": ".py",
   "mimetype": "text/x-python",
   "name": "python",
   "nbconvert_exporter": "python",
   "pygments_lexer": "ipython3",
   "version": "3.9.12"
  }
 },
 "nbformat": 4,
 "nbformat_minor": 5
}
