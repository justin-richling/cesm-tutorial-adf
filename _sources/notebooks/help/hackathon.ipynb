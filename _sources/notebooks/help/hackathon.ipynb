{
 "cells": [
  {
   "cell_type": "markdown",
   "id": "cbde9dfb",
   "metadata": {},
   "source": [
    "# Hack-a-thon\n",
    "\n",
    "Every Thur 2:00-4:00pm Mountain Time"
   ]
  },
  {
   "cell_type": "code",
   "execution_count": null,
   "id": "eca90496",
   "metadata": {},
   "outputs": [],
   "source": []
  }
 ],
 "metadata": {
  "kernelspec": {
   "display_name": "Python 3 (ipykernel)",
   "language": "python",
   "name": "python3"
  },
  "language_info": {
   "codemirror_mode": {
    "name": "ipython",
    "version": 3
   },
   "file_extension": ".py",
   "mimetype": "text/x-python",
   "name": "python",
   "nbconvert_exporter": "python",
   "pygments_lexer": "ipython3",
   "version": "3.9.13"
  }
 },
 "nbformat": 4,
 "nbformat_minor": 5
}
