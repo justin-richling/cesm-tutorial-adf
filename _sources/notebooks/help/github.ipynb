{
 "cells": [
  {
   "cell_type": "markdown",
   "id": "5d319ce4",
   "metadata": {},
   "source": [
    "# GitHub: NCAR/ADF\n",
    "\n",
    "https://github.com/NCAR/ADF"
   ]
  },
  {
   "cell_type": "code",
   "execution_count": null,
   "id": "e2fb9a87",
   "metadata": {},
   "outputs": [],
   "source": []
  }
 ],
 "metadata": {
  "kernelspec": {
   "display_name": "Python 3 (ipykernel)",
   "language": "python",
   "name": "python3"
  },
  "language_info": {
   "codemirror_mode": {
    "name": "ipython",
    "version": 3
   },
   "file_extension": ".py",
   "mimetype": "text/x-python",
   "name": "python",
   "nbconvert_exporter": "python",
   "pygments_lexer": "ipython3",
   "version": "3.9.7"
  }
 },
 "nbformat": 4,
 "nbformat_minor": 5
}
