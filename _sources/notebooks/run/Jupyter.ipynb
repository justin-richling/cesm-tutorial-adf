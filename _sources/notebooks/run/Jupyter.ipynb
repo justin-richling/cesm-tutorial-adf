{
 "cells": [
  {
   "cell_type": "markdown",
   "id": "0a8d9910",
   "metadata": {},
   "source": [
    "# ADF in Jupyter\n",
    "\n",
    "In addition to running the ADF in the terminal, it can also be run in Jupyter Notebooks!\n",
    "\n",
    "Since NCAR has a JupyterHub account, we can either <a href=\"https://justin-richling.github.io/ADF-Tutorial/notebooks/run/Jupyter/jupyter_adf_run.html\">run the ADF via Jupyter</a> or <a href=\"https://justin-richling.github.io/ADF-Tutorial/notebooks/run/Jupyter/jupyter_adf_analysis.html\">analyze already run ADF diagnostics</a> in Jupyter too! Holy Cow.\n",
    "\n",
    "\n"
   ]
  },
  {
   "cell_type": "markdown",
   "id": "b1d22a1c-2f4a-4cff-a02a-a99ff249e47e",
   "metadata": {},
   "source": []
  },
  {
   "cell_type": "markdown",
   "id": "3e0f41b2-5152-45ff-80fc-8d5a10a89253",
   "metadata": {},
   "source": []
  },
  {
   "cell_type": "markdown",
   "id": "d0faff06-172d-4759-a25f-10f06f61e21f",
   "metadata": {},
   "source": [
    "#### Tips for ADF in Jupyter"
   ]
  },
  {
   "cell_type": "code",
   "execution_count": null,
   "id": "7e5995fb-36f7-4010-ba9d-ec886b82ac08",
   "metadata": {},
   "outputs": [],
   "source": [
    "#Initialize ADF object with config file\n",
    "adf = AdfDiag(config_file)\n",
    "adf"
   ]
  },
  {
   "cell_type": "markdown",
   "id": "ba2e4918-8dd0-4a23-ab86-b02ee258ae52",
   "metadata": {},
   "source": [
    "<adf_diag.AdfDiag at 0x2b4984b32b80>"
   ]
  },
  {
   "cell_type": "markdown",
   "id": "8f1209a3-623d-4ac9-b0e9-9ab7077622d9",
   "metadata": {},
   "source": [
    "###### Basic Info from Run-time Yaml File"
   ]
  },
  {
   "cell_type": "code",
   "execution_count": null,
   "id": "6e95729b-2ebc-48cf-b22c-5a35998f79a3",
   "metadata": {},
   "outputs": [],
   "source": [
    "basic_info_dict = adf.read_config_var(\"diag_basic_info\")\n",
    "list(basic_info_dict)"
   ]
  },
  {
   "cell_type": "markdown",
   "id": "4566a4e2-5849-44a4-90a4-ef545ce276e9",
   "metadata": {},
   "source": [
    "```\n",
    "['compare_obs',\n",
    " 'create_html',\n",
    " 'obs_data_loc',\n",
    " 'cam_regrid_loc',\n",
    " 'cam_overwrite_regrid',\n",
    " 'cam_diag_plot_loc',\n",
    " 'use_defaults',\n",
    " 'plot_press_levels',\n",
    " 'weight_season',\n",
    " 'num_procs',\n",
    " 'redo_plot']\n",
    "```"
   ]
  },
  {
   "cell_type": "markdown",
   "id": "6c20813b-9352-46c4-810b-1b82d13b07cd",
   "metadata": {},
   "source": [
    "###### Boolean for Observations in Basic Info from Run-time Yaml File"
   ]
  },
  {
   "cell_type": "code",
   "execution_count": null,
   "id": "8acbf7de-b534-4137-aee3-7392c2631300",
   "metadata": {},
   "outputs": [],
   "source": [
    "# Quick check if we are comparing against obs, in case we forgot our ginkaloba pills this morning\n",
    "obs = adf.get_basic_info('compare_obs')\n",
    "print(\"'get basic info' found compare_obs =\",obs)"
   ]
  },
  {
   "cell_type": "markdown",
   "id": "c2b32dd6-2218-4310-ba9e-d74c3ea185dd",
   "metadata": {},
   "source": [
    "'get basic info' found compare_obs = False"
   ]
  },
  {
   "cell_type": "code",
   "execution_count": null,
   "id": "bc05354b-c328-4f10-a359-c87ef5d59847",
   "metadata": {},
   "outputs": [],
   "source": [
    "# A similar but different way to check directly from the adf object:\n",
    "adf.compare_obs"
   ]
  },
  {
   "cell_type": "markdown",
   "id": "f4af914f-c58e-4b30-8855-a26c213bc069",
   "metadata": {},
   "source": [
    "###### "
   ]
  },
  {
   "cell_type": "code",
   "execution_count": null,
   "id": "52f1625f-4db0-48de-93a1-62bbfcbd6068",
   "metadata": {},
   "outputs": [],
   "source": [
    "# Baseline case details\n",
    "baseline_dict = adf.read_config_var(\"diag_cam_baseline_climo\")\n",
    "list(baseline_dict)"
   ]
  },
  {
   "cell_type": "markdown",
   "id": "5e4ff278-875c-44dc-8fbf-27d5763520e0",
   "metadata": {},
   "source": [
    "False"
   ]
  },
  {
   "cell_type": "code",
   "execution_count": null,
   "id": "4a401498-5424-4d56-bc3f-1fadc629d727",
   "metadata": {},
   "outputs": [],
   "source": [
    "# Grab the case names\n",
    "case_names = adf.get_cam_info(\"cam_case_name\",required=True)\n",
    "print(case_names)\n",
    "case_names = adf.get_baseline_info(\"cam_case_name\",required=True)\n",
    "print(case_names)"
   ]
  },
  {
   "cell_type": "markdown",
   "id": "b823355a-89e3-4e9f-8b3e-1b3d8afbd1c0",
   "metadata": {},
   "source": [
    "```\n",
    "['f.cam6_3_106.FLTHIST_v0a.ne30.dcs_non-ogw.001']\n",
    "f.cam6_3_106.FLTHIST_v0a.ne30.dcs_effgw_rdg.001\n",
    "```"
   ]
  },
  {
   "cell_type": "code",
   "execution_count": null,
   "id": "dddaf1dc-4b73-466c-9fe7-bbaa3909a96a",
   "metadata": {},
   "outputs": [],
   "source": [
    "adf.climo_yrs"
   ]
  },
  {
   "cell_type": "markdown",
   "id": "46add54a-d5e3-4cd3-b871-19bedcb9e94a",
   "metadata": {},
   "source": [
    "```\n",
    "{'syears': [1995],\n",
    " 'eyears': [2012],\n",
    " 'syear_baseline': 1995,\n",
    " 'eyear_baseline': 2012}\n",
    "```"
   ]
  },
  {
   "cell_type": "code",
   "execution_count": null,
   "id": "f44facdc-2cf3-493e-881f-ee80211c2696",
   "metadata": {},
   "outputs": [],
   "source": [
    "var_list = adf.diag_var_list\n",
    "list(var_list)"
   ]
  },
  {
   "cell_type": "markdown",
   "id": "7459b25a-ed35-41ac-990f-ff11e6c66f0e",
   "metadata": {},
   "source": [
    "```\n",
    "['FLNT',\n",
    " 'FSNT',\n",
    " 'LHFLX',\n",
    " 'LWCF',\n",
    " 'OMEGA500',\n",
    " 'PBLH',\n",
    " 'PRECL',\n",
    " 'PRECT',\n",
    " 'PS',\n",
    " 'PSL',\n",
    " 'QFLX',\n",
    " 'CLDLIQ',\n",
    " 'Q',\n",
    " 'RELHUM',\n",
    " 'SHFLX',\n",
    " 'SST',\n",
    " 'SWCF',\n",
    " 'T',\n",
    " 'TAUX',\n",
    " 'TAUY',\n",
    " 'THETA',\n",
    " 'TREFHT',\n",
    " 'TS',\n",
    " 'U',\n",
    " 'U10',\n",
    " 'ICEFRAC',\n",
    " 'OCNFRAC',\n",
    " 'LANDFRAC']\n",
    "```"
   ]
  },
  {
   "cell_type": "code",
   "execution_count": null,
   "id": "51413060-c6dc-4beb-b49f-aa7a4fcf7f65",
   "metadata": {},
   "outputs": [],
   "source": [
    "dir(adf)"
   ]
  },
  {
   "cell_type": "markdown",
   "id": "cadff274-396e-4821-8dd8-32c8f074681a",
   "metadata": {},
   "source": [
    "```\n",
    "['_AdfBase__debug_log',\n",
    " '_AdfConfig__config_dict',\n",
    " '_AdfConfig__create_search_dict',\n",
    " '_AdfConfig__expand_yaml_var_ref',\n",
    " '_AdfConfig__kword_pattern',\n",
    " '_AdfConfig__search_dict',\n",
    " '_AdfDiag__analysis_scripts',\n",
    " '_AdfDiag__cvdp_info',\n",
    " '_AdfDiag__diag_scripts_caller',\n",
    " '_AdfDiag__function_caller',\n",
    " '_AdfDiag__plotting_scripts',\n",
    " '_AdfDiag__regridding_scripts',\n",
    " '_AdfDiag__time_averaging_scripts',\n",
    " '_AdfInfo__base_nickname',\n",
    " '_AdfInfo__basic_info',\n",
    " '_AdfInfo__cam_bl_climo_info',\n",
    " '_AdfInfo__cam_climo_info',\n",
    " '_AdfInfo__compare_obs',\n",
    " '_AdfInfo__derived_var_list',\n",
    " '_AdfInfo__diag_var_list',\n",
    " '_AdfInfo__eyear_baseline',\n",
    " '_AdfInfo__eyears',\n",
    " '_AdfInfo__num_cases',\n",
    " '_AdfInfo__num_procs',\n",
    " '_AdfInfo__plot_location',\n",
    " '_AdfInfo__syear_baseline',\n",
    " '_AdfInfo__syears',\n",
    " '_AdfInfo__test_nicknames',\n",
    " '_AdfObs__use_defaults',\n",
    " '_AdfObs__var_obs_dict',\n",
    " '_AdfObs__variable_defaults',\n",
    " '_AdfWeb__case_web_paths',\n",
    " '_AdfWeb__plot_type_multi',\n",
    " '_AdfWeb__plot_type_order',\n",
    " '_AdfWeb__website_data',\n",
    " '__class__',\n",
    " '__delattr__',\n",
    " '__dict__',\n",
    " '__dir__',\n",
    " '__doc__',\n",
    " '__eq__',\n",
    " '__format__',\n",
    " '__ge__',\n",
    " '__getattribute__',\n",
    " '__gt__',\n",
    " '__hash__',\n",
    " '__init__',\n",
    " '__init_subclass__',\n",
    " '__le__',\n",
    " '__lt__',\n",
    " '__module__',\n",
    " '__ne__',\n",
    " '__new__',\n",
    " '__reduce__',\n",
    " '__reduce_ex__',\n",
    " '__repr__',\n",
    " '__setattr__',\n",
    " '__sizeof__',\n",
    " '__str__',\n",
    " '__subclasshook__',\n",
    " '__weakref__',\n",
    " 'add_diag_var',\n",
    " 'add_website_data',\n",
    " 'baseline_climo_dict',\n",
    " 'basic_info_dict',\n",
    " 'cam_climo_dict',\n",
    " 'case_nicknames',\n",
    " 'climo_yrs',\n",
    " 'compare_obs',\n",
    " 'create_climo',\n",
    " 'create_html',\n",
    " 'create_plots',\n",
    " 'create_time_series',\n",
    " 'create_website',\n",
    " 'debug_log',\n",
    " 'derived_var_list',\n",
    " 'diag_var_list',\n",
    " 'end_diag_fail',\n",
    " 'expand_references',\n",
    " 'get_baseline_info',\n",
    " 'get_basic_info',\n",
    " 'get_cam_info',\n",
    " 'get_cvdp_info',\n",
    " 'log_press',\n",
    " 'main_site_paths',\n",
    " 'num_cases',\n",
    " 'num_procs',\n",
    " 'perform_analyses',\n",
    " 'plot_location',\n",
    " 'read_config_var',\n",
    " 'regrid_climo',\n",
    " 'setup_run_cvdp',\n",
    " 'use_defaults',\n",
    " 'var_obs_dict',\n",
    " 'variable_defaults']\n",
    "```"
   ]
  },
  {
   "cell_type": "code",
   "execution_count": null,
   "id": "d66ccfd0-aed8-4ee6-b514-3d12a49ed1b5",
   "metadata": {},
   "outputs": [],
   "source": []
  }
 ],
 "metadata": {
  "kernelspec": {
   "display_name": "NPL-3.7.9",
   "language": "python",
   "name": "npl-3.7.9"
  },
  "language_info": {
   "codemirror_mode": {
    "name": "ipython",
    "version": 3
   },
   "file_extension": ".py",
   "mimetype": "text/x-python",
   "name": "python",
   "nbconvert_exporter": "python",
   "pygments_lexer": "ipython3",
   "version": "3.7.9"
  }
 },
 "nbformat": 4,
 "nbformat_minor": 5
}
