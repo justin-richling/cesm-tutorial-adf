{
 "cells": [
  {
   "cell_type": "markdown",
   "id": "4bc7228d-2174-4705-a3f8-b4e78bcc4b1c",
   "metadata": {},
   "source": [
    "# ADF Demo Setup\n",
    "\n",
    "This section is meant to allow users to run the ADF if you want to have an ADF run that produces all the outputs.\n",
    "\n",
    "* Variables needed for plots like the QBO or TEM diagnsotcis may not be in your actual run, so this will allow you to see some of the full output the ADF is capable of!\n",
    "\n",
    "Now we will walk through two common ADF setups:\n",
    "\n",
    "<ul>\n",
    "<li><a href=\"https://justin-richling.github.io/ADF-Tutorial/notebooks/basic_examples/model_model_run.html\">CAM simulation vs CAM simulation</a></li>\n",
    "<li><a href=\"https://justin-richling.github.io/ADF-Tutorial/notebooks/basic_examples/model_obs_run.html\">CAM simulation vs Observations/Reanalysis</a></li>\n",
    "</ul>\n",
    "\n",
    "```{admonition} Note\n",
    ":class: attention\n",
    "Some of the setups will look almost identical, but pay attention to the small differences!\n",
    "```\n",
    "\n",
    "Additionally, here are some common customizations we can do with the ADF:\n",
    "\n",
    "<ul>    \n",
    "<li><a href=\"https://justin-richling.github.io/ADF-Tutorial/notebooks/exercises/custom_defaults.html\">Customizing variable defaults settings</a></li>\n",
    "<li><a href=\"https://justin-richling.github.io/ADF-Tutorial/notebooks/exercises/custom_observations.html\">Using custom set of Observations</a></li>\n",
    "<li><a href=\"\">Adding custom script to your ADF</a></li>\n",
    "<li><a href=\"\">Running the ADF in Jupyter</a></li>\n",
    "</ul>\n",
    "\n",
    "\n",
    "These will be quick demos and are meant to show different simple setups for running the ADF.\n",
    "\n",
    "\n",
    "\n",
    "\n",
    "\n"
   ]
  },
  {
   "cell_type": "raw",
   "id": "bd3dc317-d6e3-4721-a616-56345ee6fb40",
   "metadata": {},
   "source": [
    "<li><a href=\"https://justin-richling.github.io/ADF-Tutorial/notebooks/basic_examples/model_cmip_run.html\">CAM simulation vs Model Intercomparisons</a> (CMIP, AMIP)</li>"
   ]
  },
  {
   "cell_type": "raw",
   "id": "0af8672f-1d78-4d8e-9560-0c2cf6e9e073",
   "metadata": {},
   "source": [
    "#### Ground Rules\n",
    "\n",
    "Let's go over some helpful tips/hints for some of the ADF parts.\n",
    "\n",
    "<strong>YAML file:</strong> As mentioned in the intro section, the ADF utilizes two YAML files for it's configuration. If you aren't familiar with YAML files, please check the reference section of this tutorial."
   ]
  },
  {
   "cell_type": "raw",
   "id": "839a8556-3f16-4a9e-b357-b941fafaccf2",
   "metadata": {},
   "source": [
    "Recall <a href=\"https://justin-richling.github.io/ADF-Tutorial/notebooks/basics/adf.html#adf-setup\" target=\"_blank\">the steps</a> we will take are to:\n",
    "\n",
    "<p>&emsp; <s>0. Run CAM simulation to get history ( h0* ) file(s) \n",
    "           *or other history files</s></p>\n",
    "                                   \n",
    "<p>&emsp; 1. Configure yaml file(s) for the history files<br>\n",
    "\n",
    "&emsp; &emsp; <code class=\"docutils literal notranslate\"><span class=\"pre\">config_cam_baseline_example.yaml</span></code>  (necessary, must copy and change!)<br>\n",
    "&emsp; &emsp; &ensp;  Please refer back to the <a href=\"https://justin-richling.github.io/ADF-Tutorial/notebooks/intro/yaml/config_cam_baseline_example.html\" target=\"_blank\">run-time</a> section for any hints or descriptions of variables.<br>\n",
    "\n",
    "&emsp; &emsp; <s><code class=\"docutils literal notranslate\"><span class=\"pre\">lib/adf_variable_defaults.yaml</span></code>   (necessary, but optional to copy and change)</s><br>\n",
    "&emsp; &emsp; &ensp;  For this example we <strong>will not</strong> be editing the variable defaults yaml file<br>\n",
    "</p>\n",
    "\n",
    "<p>&emsp; 2. Run the ADF!</p>"
   ]
  },
  {
   "cell_type": "code",
   "execution_count": null,
   "id": "f6b987a0-e0fd-4c5c-8a4b-9e5569e1e74d",
   "metadata": {},
   "outputs": [],
   "source": []
  }
 ],
 "metadata": {
  "kernelspec": {
   "display_name": "Python 3 (ipykernel)",
   "language": "python",
   "name": "python3"
  },
  "language_info": {
   "codemirror_mode": {
    "name": "ipython",
    "version": 3
   },
   "file_extension": ".py",
   "mimetype": "text/x-python",
   "name": "python",
   "nbconvert_exporter": "python",
   "pygments_lexer": "ipython3",
   "version": "3.9.12"
  }
 },
 "nbformat": 4,
 "nbformat_minor": 5
}
